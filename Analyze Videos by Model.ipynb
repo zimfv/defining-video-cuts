{
 "cells": [
  {
   "cell_type": "code",
   "execution_count": 28,
   "id": "e0a1409a",
   "metadata": {},
   "outputs": [],
   "source": [
    "import os\n",
    "\n",
    "import numpy as np\n",
    "import pandas as pd\n",
    "import tensorflow as tf\n",
    "import matplotlib.pyplot as plt\n",
    "\n",
    "from tqdm.notebook import tqdm\n",
    "from mytools import Video, get_cuts"
   ]
  },
  {
   "cell_type": "markdown",
   "id": "9d1408df",
   "metadata": {},
   "source": [
    "# Load model"
   ]
  },
  {
   "cell_type": "code",
   "execution_count": 2,
   "id": "f3f1b36f",
   "metadata": {},
   "outputs": [
    {
     "name": "stdout",
     "output_type": "stream",
     "text": [
      "We a going to upload model models/2023-11-22-17-24.h5\n"
     ]
    }
   ],
   "source": [
    "model_path = 'models'\n",
    "model_files = np.array(os.listdir(model_path))\n",
    "model_files = np.sort(model_files[np.char.find(model_files, '.h5') != -1])\n",
    "model_path = os.path.join(model_path, model_files[-1])\n",
    "print(f'We a going to upload model {model_path}')"
   ]
  },
  {
   "cell_type": "code",
   "execution_count": 3,
   "id": "97b6262f",
   "metadata": {},
   "outputs": [
    {
     "name": "stdout",
     "output_type": "stream",
     "text": [
      "Model: \"sequential\"\n",
      "_________________________________________________________________\n",
      " Layer (type)                Output Shape              Param #   \n",
      "=================================================================\n",
      " conv3d (Conv3D)             (None, 2, 158, 88, 32)    2624      \n",
      "                                                                 \n",
      " max_pooling3d (MaxPooling3  (None, 2, 79, 44, 32)     0         \n",
      " D)                                                              \n",
      "                                                                 \n",
      " conv3d_1 (Conv3D)           (None, 1, 78, 43, 32)     8224      \n",
      "                                                                 \n",
      " max_pooling3d_1 (MaxPoolin  (None, 1, 39, 21, 32)     0         \n",
      " g3D)                                                            \n",
      "                                                                 \n",
      " flatten (Flatten)           (None, 26208)             0         \n",
      "                                                                 \n",
      " dense (Dense)               (None, 256)               6709504   \n",
      "                                                                 \n",
      " dense_1 (Dense)             (None, 1)                 257       \n",
      "                                                                 \n",
      "=================================================================\n",
      "Total params: 6720609 (25.64 MB)\n",
      "Trainable params: 6720609 (25.64 MB)\n",
      "Non-trainable params: 0 (0.00 Byte)\n",
      "_________________________________________________________________\n"
     ]
    }
   ],
   "source": [
    "model = tf.keras.models.load_model(model_path)\n",
    "model.summary()"
   ]
  },
  {
   "cell_type": "code",
   "execution_count": 4,
   "id": "97986a80",
   "metadata": {},
   "outputs": [
    {
     "name": "stdout",
     "output_type": "stream",
     "text": [
      "Model input shape is (4, 160, 90, 3)\n",
      "So video size should be (160, 90)\n"
     ]
    }
   ],
   "source": [
    "input_size = tuple(model.input.shape[1:])\n",
    "video_size = input_size[1], input_size[2]\n",
    "print(f'Model input shape is {input_size}')\n",
    "print(f'So video size should be {video_size}')"
   ]
  },
  {
   "cell_type": "markdown",
   "id": "ec09b5d4",
   "metadata": {},
   "source": [
    "# Analyzer"
   ]
  },
  {
   "cell_type": "code",
   "execution_count": 14,
   "id": "75cdd1b2",
   "metadata": {},
   "outputs": [],
   "source": [
    "def predict_cuts(model, video: Video, fill=True, fill_value=0, fill_begin=2, fill_end=2):\n",
    "    \"\"\"\n",
    "    Returns predicted cuts.\n",
    "    \n",
    "    Parameters:\n",
    "    -----------\n",
    "    model : keras model\n",
    "    \n",
    "    video : mytools.Video\n",
    "    \n",
    "    fill : bool\n",
    "        Add values to the begin and end of result\n",
    "    \n",
    "    fill_value : int or bool\n",
    "        Value, which will added to the begin and the end, if fill is True\n",
    "        \n",
    "    fill_begin : int\n",
    "        Number of added values to begin\n",
    "        \n",
    "    fill_end : int\n",
    "        Number of added values to end\n",
    "    \n",
    "    Returns:\n",
    "    --------\n",
    "    res : np.array\n",
    "    \"\"\"\n",
    "    input_size = tuple(model.input.shape[1:])\n",
    "    video_size = input_size[2], input_size[1]\n",
    "    fragment_length = input_size[0]\n",
    "    res = []\n",
    "    \n",
    "    pbar = tqdm(total=len(video) - fragment_length + 1)\n",
    "    # Make here loop of video fragments length 4 (fragment_length) and add predicted value every step\n",
    "    for matrix in video.generate_matrices(matrix_length=fragment_length, new_size=video_size):\n",
    "        X = matrix.reshape(np.append(1, matrix.shape))\n",
    "        y = model(X)\n",
    "        res.append(y)\n",
    "        pbar.update()\n",
    "    pbar.close()\n",
    "    \n",
    "    if fill:\n",
    "        res = np.concatenate([np.ones(fill_begin)*fill_value, np.array(res)[:, 0, 0], np.ones(fill_end)*fill_value])\n",
    "    return res"
   ]
  },
  {
   "cell_type": "markdown",
   "id": "f57d4dfe",
   "metadata": {},
   "source": [
    "# Video 0"
   ]
  },
  {
   "cell_type": "code",
   "execution_count": 6,
   "id": "02138d25",
   "metadata": {},
   "outputs": [],
   "source": [
    "video = Video('videos/0.mp4')\n",
    "cuts = get_cuts('timelines/0.kdenlive')"
   ]
  },
  {
   "cell_type": "code",
   "execution_count": 19,
   "id": "05a982fe",
   "metadata": {},
   "outputs": [],
   "source": [
    "cuts_real = np.zeros(len(video))\n",
    "cuts_real[cuts] = 1"
   ]
  },
  {
   "cell_type": "code",
   "execution_count": 7,
   "id": "d46c64f2",
   "metadata": {},
   "outputs": [
    {
     "data": {
      "application/vnd.jupyter.widget-view+json": {
       "model_id": "5ddbedac881d4c0b95c87803dcba1e71",
       "version_major": 2,
       "version_minor": 0
      },
      "text/plain": [
       "  0%|          | 0/5871 [00:00<?, ?it/s]"
      ]
     },
     "metadata": {},
     "output_type": "display_data"
    }
   ],
   "source": [
    "cuts_predicted = predict_cuts(model, video)"
   ]
  },
  {
   "cell_type": "code",
   "execution_count": 27,
   "id": "84dd105a",
   "metadata": {},
   "outputs": [
    {
     "data": {
      "image/png": "[encoded data removed]",
      "text/plain": [
       "<Figure size 1000x500 with 1 Axes>"
      ]
     },
     "metadata": {},
     "output_type": "display_data"
    }
   ],
   "source": [
    "n = len(video)\n",
    "plt.figure(figsize=(10, 5))\n",
    "plt.plot(np.arange(n), cuts_predicted[:n], color='steelblue', label='predicted cuts')\n",
    "plt.scatter(np.arange(n), cuts_real[:n], color='orangered', label='real cuts')\n",
    "plt.grid(True)\n",
    "plt.legend()\n",
    "plt.show()"
   ]
  },
  {
   "cell_type": "code",
   "execution_count": 87,
   "id": "284e03c5",
   "metadata": {},
   "outputs": [
    {
     "data": {
      "text/html": [
       "<div>\n",
       "<style scoped>\n",
       "    .dataframe tbody tr th:only-of-type {\n",
       "        vertical-align: middle;\n",
       "    }\n",
       "\n",
       "    .dataframe tbody tr th {\n",
       "        vertical-align: top;\n",
       "    }\n",
       "\n",
       "    .dataframe thead th {\n",
       "        text-align: right;\n",
       "    }\n",
       "</style>\n",
       "<table border=\"1\" class=\"dataframe\">\n",
       "  <thead>\n",
       "    <tr style=\"text-align: right;\">\n",
       "      <th></th>\n",
       "      <th>real cut</th>\n",
       "      <th>predicted cut</th>\n",
       "    </tr>\n",
       "  </thead>\n",
       "  <tbody>\n",
       "    <tr>\n",
       "      <th>400</th>\n",
       "      <td>False</td>\n",
       "      <td>False</td>\n",
       "    </tr>\n",
       "    <tr>\n",
       "      <th>401</th>\n",
       "      <td>False</td>\n",
       "      <td>False</td>\n",
       "    </tr>\n",
       "    <tr>\n",
       "      <th>402</th>\n",
       "      <td>False</td>\n",
       "      <td>True</td>\n",
       "    </tr>\n",
       "    <tr>\n",
       "      <th>403</th>\n",
       "      <td>False</td>\n",
       "      <td>True</td>\n",
       "    </tr>\n",
       "    <tr>\n",
       "      <th>404</th>\n",
       "      <td>True</td>\n",
       "      <td>True</td>\n",
       "    </tr>\n",
       "  </tbody>\n",
       "</table>\n",
       "</div>"
      ],
      "text/plain": [
       "     real cut  predicted cut\n",
       "400     False          False\n",
       "401     False          False\n",
       "402     False           True\n",
       "403     False           True\n",
       "404      True           True"
      ]
     },
     "execution_count": 87,
     "metadata": {},
     "output_type": "execute_result"
    }
   ],
   "source": [
    "df_frame_info = pd.DataFrame({'real cut' : cuts_real == 1, \n",
    "                              'predicted cut' : cuts_predicted > 0.5})\n",
    "df_frame_info[400:].head()"
   ]
  },
  {
   "cell_type": "code",
   "execution_count": 88,
   "id": "1b01eb32",
   "metadata": {},
   "outputs": [
    {
     "data": {
      "text/html": [
       "<div>\n",
       "<style scoped>\n",
       "    .dataframe tbody tr th:only-of-type {\n",
       "        vertical-align: middle;\n",
       "    }\n",
       "\n",
       "    .dataframe tbody tr th {\n",
       "        vertical-align: top;\n",
       "    }\n",
       "\n",
       "    .dataframe thead th {\n",
       "        text-align: right;\n",
       "    }\n",
       "</style>\n",
       "<table border=\"1\" class=\"dataframe\">\n",
       "  <thead>\n",
       "    <tr style=\"text-align: right;\">\n",
       "      <th></th>\n",
       "      <th>real cut</th>\n",
       "      <th>predicted cut</th>\n",
       "      <th>value</th>\n",
       "    </tr>\n",
       "  </thead>\n",
       "  <tbody>\n",
       "    <tr>\n",
       "      <th>0</th>\n",
       "      <td>False</td>\n",
       "      <td>False</td>\n",
       "      <td>5472</td>\n",
       "    </tr>\n",
       "    <tr>\n",
       "      <th>1</th>\n",
       "      <td>False</td>\n",
       "      <td>True</td>\n",
       "      <td>252</td>\n",
       "    </tr>\n",
       "    <tr>\n",
       "      <th>2</th>\n",
       "      <td>True</td>\n",
       "      <td>False</td>\n",
       "      <td>7</td>\n",
       "    </tr>\n",
       "    <tr>\n",
       "      <th>3</th>\n",
       "      <td>True</td>\n",
       "      <td>True</td>\n",
       "      <td>144</td>\n",
       "    </tr>\n",
       "  </tbody>\n",
       "</table>\n",
       "</div>"
      ],
      "text/plain": [
       "   real cut  predicted cut  value\n",
       "0     False          False   5472\n",
       "1     False           True    252\n",
       "2      True          False      7\n",
       "3      True           True    144"
      ]
     },
     "execution_count": 88,
     "metadata": {},
     "output_type": "execute_result"
    }
   ],
   "source": [
    "df_square = df_frame_info.copy()\n",
    "df_square['value'] = df_square.index\n",
    "df_square = df_square.groupby(['real cut', 'predicted cut'], as_index=False).count()\n",
    "df_square"
   ]
  },
  {
   "cell_type": "code",
   "execution_count": null,
   "id": "878c98b3",
   "metadata": {},
   "outputs": [],
   "source": []
  },
  {
   "cell_type": "code",
   "execution_count": null,
   "id": "a0c883c1",
   "metadata": {},
   "outputs": [],
   "source": []
  }
 ],
 "metadata": {
  "kernelspec": {
   "display_name": "Python 3 (ipykernel)",
   "language": "python",
   "name": "python3"
  },
  "language_info": {
   "codemirror_mode": {
    "name": "ipython",
    "version": 3
   },
   "file_extension": ".py",
   "mimetype": "text/x-python",
   "name": "python",
   "nbconvert_exporter": "python",
   "pygments_lexer": "ipython3",
   "version": "3.11.6"
  }
 },
 "nbformat": 4,
 "nbformat_minor": 5
}
