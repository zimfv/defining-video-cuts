{
 "cells": [
  {
   "cell_type": "code",
   "execution_count": 1,
   "id": "8db9b24e",
   "metadata": {},
   "outputs": [
    {
     "name": "stderr",
     "output_type": "stream",
     "text": [
      "2023-12-10 02:34:33.574840: I tensorflow/core/platform/cpu_feature_guard.cc:182] This TensorFlow binary is optimized to use available CPU instructions in performance-critical operations.\n",
      "To enable the following instructions: AVX2 FMA, in other operations, rebuild TensorFlow with the appropriate compiler flags.\n"
     ]
    }
   ],
   "source": [
    "import os\n",
    "import cv2\n",
    "\n",
    "import numpy as np\n",
    "import pandas as pd\n",
    "import tensorflow as tf\n",
    "import matplotlib.pyplot as plt\n",
    "\n",
    "from tqdm.notebook import tqdm\n",
    "from mytools import Video\n",
    "from sklearn.metrics import *"
   ]
  },
  {
   "cell_type": "markdown",
   "id": "4bf3cf47",
   "metadata": {},
   "source": [
    "# Load model"
   ]
  },
  {
   "cell_type": "markdown",
   "id": "fb1c4223",
   "metadata": {},
   "source": [
    "The string value `load_parameter` define the method to choose.\n",
    "\n",
    "If `load_parameter == 'new'` then the model with the last filename from the directory __models__ will be load. _I use the date and time to construct model filename._\n",
    "\n",
    "Else the model with the heighest value in `load_parameter`-column from __metrics.csv__ will be load. That table contains columns:\n",
    "- `'model path'`\n",
    "- `'Total Accuracy'`\n",
    "- `'Total Precision'`\n",
    "- `'Total Recall',`\n",
    "- `'Train Accuracy'`\n",
    "- `'Train Precision'`\n",
    "- `'Train Recall'`\n",
    "- `'Test Accuracy'`\n",
    "- `'Test Precision'`\n",
    "- `'Test Recall'`"
   ]
  },
  {
   "cell_type": "code",
   "execution_count": 2,
   "id": "9ad69a81",
   "metadata": {},
   "outputs": [
    {
     "name": "stdout",
     "output_type": "stream",
     "text": [
      "We a going to upload model models/2023-12-09-01-39.h5\n"
     ]
    }
   ],
   "source": [
    "load_parameter = 'Total Precision'\n",
    "\n",
    "if load_parameter == 'new':\n",
    "    model_path = 'models'\n",
    "    model_files = np.array(os.listdir(model_path))\n",
    "    model_files = np.sort(model_files[np.char.find(model_files, '.h5') != -1])\n",
    "    model_path = os.path.join(model_path, model_files[-1])\n",
    "else:\n",
    "    df_metrics = pd.read_csv('metrics.csv')\n",
    "    model_path = df_metrics[df_metrics[load_parameter] == df_metrics[load_parameter].max()]['model path'].values[0]\n",
    "    \n",
    "print(f'We a going to upload model {model_path}')"
   ]
  },
  {
   "cell_type": "code",
   "execution_count": 3,
   "id": "3fc2e7f8",
   "metadata": {},
   "outputs": [
    {
     "name": "stdout",
     "output_type": "stream",
     "text": [
      "Model: \"sequential\"\n",
      "_________________________________________________________________\n",
      " Layer (type)                Output Shape              Param #   \n",
      "=================================================================\n",
      " conv3d (Conv3D)             (None, 4, 70, 126, 64)    5248      \n",
      "                                                                 \n",
      " max_pooling3d (MaxPooling3  (None, 4, 35, 63, 64)     0         \n",
      " D)                                                              \n",
      "                                                                 \n",
      " conv3d_1 (Conv3D)           (None, 1, 32, 60, 64)     262208    \n",
      "                                                                 \n",
      " max_pooling3d_1 (MaxPoolin  (None, 1, 16, 30, 64)     0         \n",
      " g3D)                                                            \n",
      "                                                                 \n",
      " flatten (Flatten)           (None, 30720)             0         \n",
      "                                                                 \n",
      " dense (Dense)               (None, 192)               5898432   \n",
      "                                                                 \n",
      " dense_1 (Dense)             (None, 256)               49408     \n",
      "                                                                 \n",
      " dense_2 (Dense)             (None, 1)                 257       \n",
      "                                                                 \n",
      "=================================================================\n",
      "Total params: 6215553 (23.71 MB)\n",
      "Trainable params: 6215553 (23.71 MB)\n",
      "Non-trainable params: 0 (0.00 Byte)\n",
      "_________________________________________________________________\n"
     ]
    }
   ],
   "source": [
    "model = tf.keras.models.load_model(model_path)\n",
    "model.summary()"
   ]
  },
  {
   "cell_type": "code",
   "execution_count": 4,
   "id": "74765efd",
   "metadata": {},
   "outputs": [
    {
     "name": "stdout",
     "output_type": "stream",
     "text": [
      "Model input shape is (6, 72, 128, 3)\n",
      "So video size should be (72, 128)\n"
     ]
    }
   ],
   "source": [
    "input_size = tuple(model.input.shape[1:])\n",
    "video_size = input_size[1], input_size[2]\n",
    "print(f'Model input shape is {input_size}')\n",
    "print(f'So video size should be {video_size}')"
   ]
  },
  {
   "cell_type": "markdown",
   "id": "b0dbc85d",
   "metadata": {},
   "source": [
    "## Define model predicts path"
   ]
  },
  {
   "cell_type": "code",
   "execution_count": 5,
   "id": "fe746cda",
   "metadata": {},
   "outputs": [],
   "source": [
    "path_predicts = 'predicts'\n",
    "if not os.path.exists(path_predicts):\n",
    "    os.mkdir(path_predicts)"
   ]
  },
  {
   "cell_type": "code",
   "execution_count": 6,
   "id": "c266d1b6",
   "metadata": {},
   "outputs": [],
   "source": [
    "model_name = model_path[model_path.find('/')+1:model_path.find('.')]\n",
    "path_model_predicts = os.path.join(path_predicts, model_name)\n",
    "\n",
    "if not os.path.exists(path_model_predicts):\n",
    "    os.mkdir(path_model_predicts)"
   ]
  },
  {
   "cell_type": "code",
   "execution_count": 7,
   "id": "c417f917",
   "metadata": {},
   "outputs": [
    {
     "data": {
      "text/plain": [
       "'predicts/2023-12-09-01-39/{0}.npy'"
      ]
     },
     "execution_count": 7,
     "metadata": {},
     "output_type": "execute_result"
    }
   ],
   "source": [
    "path_predict_template = os.path.join(path_model_predicts, '{0}.npy')\n",
    "path_predict_template"
   ]
  },
  {
   "cell_type": "markdown",
   "id": "0ee6ac92",
   "metadata": {},
   "source": [
    "# Predictor"
   ]
  },
  {
   "cell_type": "code",
   "execution_count": 8,
   "id": "4a7f4809",
   "metadata": {},
   "outputs": [],
   "source": [
    "def predict_cuts(model, video: Video, fill=True, fill_value=0, fill_begin=None, fill_end=None):\n",
    "    \"\"\"\n",
    "    Returns predicted cuts.\n",
    "    \n",
    "    Parameters:\n",
    "    -----------\n",
    "    model : keras model\n",
    "    \n",
    "    video : mytools.Video\n",
    "    \n",
    "    fill : bool\n",
    "        Add values to the begin and end of result\n",
    "    \n",
    "    fill_value : int or bool\n",
    "        Value, which will added to the begin and the end, if fill is True\n",
    "        \n",
    "    fill_begin : int\n",
    "        Number of added values to begin\n",
    "        \n",
    "    fill_end : int\n",
    "        Number of added values to end\n",
    "    \n",
    "    Returns:\n",
    "    --------\n",
    "    res : np.array\n",
    "    \"\"\"\n",
    "    input_size = tuple(model.input.shape[1:])\n",
    "    video_size = input_size[2], input_size[1]\n",
    "    fragment_length = input_size[0]\n",
    "    if (fill_begin is None) and (fill_end is None):\n",
    "        fill_begin = fragment_length // 2\n",
    "        fill_end = fragment_length - fill_begin\n",
    "    elif fill_end is None:\n",
    "        fill_end = fragment_length - fill_begin\n",
    "    elif fill_begin is None:\n",
    "        fill_begin = fragment_length - fill_end\n",
    "    \n",
    "    res = []\n",
    "    \n",
    "    pbar = tqdm(total=len(video) - fragment_length)\n",
    "    # Make here loop of video fragments length 4 (fragment_length) and add predicted value every step\n",
    "    for matrix in video.generate_matrices(matrix_length=fragment_length, new_size=video_size):\n",
    "        X = matrix.reshape(np.append(1, matrix.shape))\n",
    "        y = model(X)\n",
    "        res.append(y)\n",
    "        pbar.update()\n",
    "    pbar.close()\n",
    "    \n",
    "    if fill:\n",
    "        res = np.concatenate([np.ones(fill_begin)*fill_value, np.array(res)[:, 0, 0], np.ones(fill_end)*fill_value])\n",
    "    return res"
   ]
  },
  {
   "cell_type": "markdown",
   "id": "1564d599",
   "metadata": {},
   "source": [
    "# Define Split Values "
   ]
  },
  {
   "cell_type": "code",
   "execution_count": 9,
   "id": "f1839241",
   "metadata": {},
   "outputs": [
    {
     "data": {
      "text/plain": [
       "{'Total': array([ 0,  1,  2,  3,  4,  5,  6,  7,  8,  9, 10]),\n",
       " 'Train': array([0, 1, 4, 5, 7, 9]),\n",
       " 'Test': array([ 2,  3,  6,  8, 10])}"
      ]
     },
     "execution_count": 9,
     "metadata": {},
     "output_type": "execute_result"
    }
   ],
   "source": [
    "path_trainset = os.path.join('trainsets', model_path[model_path.rfind('/')+1:model_path.rfind('.')] + '.npy')\n",
    "sets = {'Total': np.arange(11), \n",
    "        'Train' : np.load(path_trainset)}\n",
    "sets.update({'Test': np.setdiff1d(sets['Total'], sets['Train'])})\n",
    "\n",
    "dfs_square_set = {}\n",
    "sets"
   ]
  },
  {
   "cell_type": "markdown",
   "id": "206e80f6",
   "metadata": {},
   "source": [
    "# Make Predicts, Load Answers and Make Result DataFrame"
   ]
  },
  {
   "cell_type": "code",
   "execution_count": 10,
   "id": "ff26aa3a",
   "metadata": {},
   "outputs": [
    {
     "data": {
      "application/vnd.jupyter.widget-view+json": {
       "model_id": "81ea66169f104580a6515540d41eadee",
       "version_major": 2,
       "version_minor": 0
      },
      "text/plain": [
       "  0%|          | 0/11 [00:00<?, ?it/s]"
      ]
     },
     "metadata": {},
     "output_type": "display_data"
    }
   ],
   "source": [
    "predicts = []\n",
    "for video_index in tqdm(sets['Total'], total=len(sets['Total'])):\n",
    "    path_predict = path_predict_template.format(video_index)\n",
    "    try:\n",
    "        cuts_predicted = np.load(path_predict)\n",
    "    except FileNotFoundError:\n",
    "        cuts_predicted = predict_cuts(model, video)\n",
    "        np.save(path_predict, cuts_predicted)\n",
    "    predicts.append(np.array(cuts_predicted))"
   ]
  },
  {
   "cell_type": "code",
   "execution_count": 11,
   "id": "13879c50",
   "metadata": {},
   "outputs": [],
   "source": [
    "answers = []\n",
    "for video_index in sets['Total']:\n",
    "    video = Video(f'videos/{video_index}.mp4')\n",
    "    cuts = np.load(f'cuts/{video_index}.npy').astype(int)\n",
    "    cuts_real = np.zeros(len(video))\n",
    "    cuts_real[cuts] = 1\n",
    "    answers.append(cuts_real)"
   ]
  },
  {
   "cell_type": "code",
   "execution_count": 12,
   "id": "c4efd864",
   "metadata": {},
   "outputs": [],
   "source": [
    "assert len(predicts) == len(answers)\n",
    "assert (np.array([len(i) for i in predicts]) == np.array([len(i) for i in answers])).all()"
   ]
  },
  {
   "cell_type": "code",
   "execution_count": 13,
   "id": "c058fd69",
   "metadata": {},
   "outputs": [
    {
     "name": "stdout",
     "output_type": "stream",
     "text": [
      "df_predict_answer.shape = (62496, 3)\n"
     ]
    },
    {
     "data": {
      "text/html": [
       "<div>\n",
       "<style scoped>\n",
       "    .dataframe tbody tr th:only-of-type {\n",
       "        vertical-align: middle;\n",
       "    }\n",
       "\n",
       "    .dataframe tbody tr th {\n",
       "        vertical-align: top;\n",
       "    }\n",
       "\n",
       "    .dataframe thead th {\n",
       "        text-align: right;\n",
       "    }\n",
       "</style>\n",
       "<table border=\"1\" class=\"dataframe\">\n",
       "  <thead>\n",
       "    <tr style=\"text-align: right;\">\n",
       "      <th></th>\n",
       "      <th>Answer</th>\n",
       "      <th>Predict</th>\n",
       "      <th>VideoId</th>\n",
       "    </tr>\n",
       "  </thead>\n",
       "  <tbody>\n",
       "    <tr>\n",
       "      <th>0</th>\n",
       "      <td>0.0</td>\n",
       "      <td>0.0</td>\n",
       "      <td>0</td>\n",
       "    </tr>\n",
       "    <tr>\n",
       "      <th>1</th>\n",
       "      <td>0.0</td>\n",
       "      <td>0.0</td>\n",
       "      <td>0</td>\n",
       "    </tr>\n",
       "    <tr>\n",
       "      <th>2</th>\n",
       "      <td>0.0</td>\n",
       "      <td>0.0</td>\n",
       "      <td>0</td>\n",
       "    </tr>\n",
       "    <tr>\n",
       "      <th>3</th>\n",
       "      <td>0.0</td>\n",
       "      <td>0.0</td>\n",
       "      <td>0</td>\n",
       "    </tr>\n",
       "    <tr>\n",
       "      <th>4</th>\n",
       "      <td>0.0</td>\n",
       "      <td>0.0</td>\n",
       "      <td>0</td>\n",
       "    </tr>\n",
       "  </tbody>\n",
       "</table>\n",
       "</div>"
      ],
      "text/plain": [
       "   Answer  Predict  VideoId\n",
       "0     0.0      0.0        0\n",
       "1     0.0      0.0        0\n",
       "2     0.0      0.0        0\n",
       "3     0.0      0.0        0\n",
       "4     0.0      0.0        0"
      ]
     },
     "execution_count": 13,
     "metadata": {},
     "output_type": "execute_result"
    }
   ],
   "source": [
    "df_answer_predict = []\n",
    "for i in range(len(sets['Total'])):\n",
    "    video_index = sets['Total'][i]\n",
    "    dfi = pd.DataFrame({'Answer' : answers[i], \n",
    "                        'Predict' : predicts[i]})\n",
    "    dfi['VideoId'] = video_index\n",
    "    df_answer_predict.append(dfi.copy())\n",
    "df_answer_predict = pd.concat(df_answer_predict, ignore_index=True)\n",
    "\n",
    "print(f'df_predict_answer.shape = {df_answer_predict.shape}')\n",
    "df_answer_predict.head()"
   ]
  },
  {
   "cell_type": "markdown",
   "id": "1991e8f9",
   "metadata": {},
   "source": [
    "# Plot Precision and Recall vs Parameter"
   ]
  },
  {
   "cell_type": "markdown",
   "id": "36d25029",
   "metadata": {},
   "source": [
    "__Reminder:__\n",
    "\n",
    "$$\n",
    "    Accuracy = \\cfrac{TP + TN}{TP + TN + FP + FN}\n",
    "$$\n",
    "\n",
    "$$\n",
    "    Precision = \\cfrac{TP}{TP + FP}\n",
    "$$\n",
    "\n",
    "$$\n",
    "    Recall = \\cfrac{TP}{TP + FN}\n",
    "$$"
   ]
  },
  {
   "cell_type": "code",
   "execution_count": 14,
   "id": "0f9b99ff",
   "metadata": {},
   "outputs": [],
   "source": [
    "parameters = np.arange(0, 1.05, 0.04)"
   ]
  },
  {
   "cell_type": "code",
   "execution_count": 15,
   "id": "28acab27",
   "metadata": {
    "scrolled": false
   },
   "outputs": [
    {
     "name": "stderr",
     "output_type": "stream",
     "text": [
      "/home/fedora/.local/lib/python3.11/site-packages/sklearn/metrics/_classification.py:1471: UndefinedMetricWarning: Precision is ill-defined and being set to 0.0 due to no predicted samples. Use `zero_division` parameter to control this behavior.\n",
      "  _warn_prf(average, modifier, msg_start, len(result))\n",
      "/home/fedora/.local/lib/python3.11/site-packages/sklearn/metrics/_classification.py:1471: UndefinedMetricWarning: Precision is ill-defined and being set to 0.0 due to no predicted samples. Use `zero_division` parameter to control this behavior.\n",
      "  _warn_prf(average, modifier, msg_start, len(result))\n",
      "/home/fedora/.local/lib/python3.11/site-packages/sklearn/metrics/_classification.py:1471: UndefinedMetricWarning: Precision is ill-defined and being set to 0.0 due to no predicted samples. Use `zero_division` parameter to control this behavior.\n",
      "  _warn_prf(average, modifier, msg_start, len(result))\n",
      "/tmp/ipykernel_52948/3392748985.py:17: UserWarning: Matplotlib is currently using module://matplotlib_inline.backend_inline, which is a non-GUI backend, so cannot show the figure.\n",
      "  fig.show()\n"
     ]
    },
    {
     "data": {
      "image/png": "[encoded data removed]",
      "text/plain": [
       "<Figure size 1500x500 with 3 Axes>"
      ]
     },
     "metadata": {},
     "output_type": "display_data"
    }
   ],
   "source": [
    "fig, axs = plt.subplots(1, len(sets))\n",
    "fig.suptitle('precision, recall VS parameter')\n",
    "fig.set_figheight(5)\n",
    "fig.set_figwidth(5*len(sets))\n",
    "\n",
    "for i in range(len(sets)):\n",
    "    key = list(sets.keys())[i]\n",
    "    axs[i].set_title(key)\n",
    "    df_ap = df_answer_predict[np.isin(df_answer_predict['VideoId'], sets[key])]\n",
    "    precisions = [precision_score(df_ap['Answer'], df_ap['Predict'] >= parameter) for parameter in parameters]\n",
    "    recalls = [recall_score(df_ap['Answer'], df_ap['Predict'] >= parameter) for parameter in parameters]\n",
    "    \n",
    "    axs[i].plot(parameters, precisions, label='Precision', linewidth=5)\n",
    "    axs[i].plot(parameters, recalls, label='Recall', linewidth=3)\n",
    "    axs[i].grid(True)\n",
    "    axs[i].legend()\n",
    "fig.show()"
   ]
  },
  {
   "cell_type": "markdown",
   "id": "724eb53b",
   "metadata": {},
   "source": [
    "Here we see, that precision and recall does not really depend from parameter.\n",
    "\n",
    "Let's see the ROC-curve"
   ]
  },
  {
   "cell_type": "markdown",
   "id": "40f92e2a",
   "metadata": {},
   "source": [
    "# ROC-curve"
   ]
  },
  {
   "cell_type": "code",
   "execution_count": 16,
   "id": "78a02b00",
   "metadata": {},
   "outputs": [
    {
     "name": "stderr",
     "output_type": "stream",
     "text": [
      "/tmp/ipykernel_52948/4263494313.py:15: UserWarning: Matplotlib is currently using module://matplotlib_inline.backend_inline, which is a non-GUI backend, so cannot show the figure.\n",
      "  fig.show()\n"
     ]
    },
    {
     "data": {
      "image/png": "[encoded data removed]",
      "text/plain": [
       "<Figure size 1500x500 with 3 Axes>"
      ]
     },
     "metadata": {},
     "output_type": "display_data"
    }
   ],
   "source": [
    "fig, axs = plt.subplots(1, len(sets))\n",
    "fig.suptitle('ROC-curve')\n",
    "fig.set_figheight(5)\n",
    "fig.set_figwidth(5*len(sets))\n",
    "\n",
    "for i in range(len(sets)):\n",
    "    key = list(sets.keys())[i]\n",
    "    axs[i].set_title(key)\n",
    "    df_ap = df_answer_predict[np.isin(df_answer_predict['VideoId'], sets[key])]\n",
    "    fpr, tpr, thresholds = roc_curve(df_ap['Answer'], df_ap['Predict'], pos_label=1)\n",
    "    axs[i].plot(fpr, tpr, linewidth=4, \n",
    "                label = 'ROC-AUC score = {0:.4f}'.format(roc_auc_score(df_ap['Answer'], df_ap['Predict'])))\n",
    "    axs[i].grid(True)\n",
    "    axs[i].legend()\n",
    "fig.show()"
   ]
  },
  {
   "cell_type": "markdown",
   "id": "6bb9c6e9",
   "metadata": {},
   "source": [
    "Surprisingly I got a ROC curve with the great predictive power!"
   ]
  },
  {
   "cell_type": "markdown",
   "id": "e0d38ae2",
   "metadata": {},
   "source": [
    "# Conclusion"
   ]
  },
  {
   "cell_type": "code",
   "execution_count": 17,
   "id": "8f68ee87",
   "metadata": {},
   "outputs": [],
   "source": [
    "scores = [accuracy_score, precision_score, recall_score, roc_auc_score]"
   ]
  },
  {
   "cell_type": "code",
   "execution_count": 23,
   "id": "ed1e3d5b",
   "metadata": {},
   "outputs": [
    {
     "name": "stdout",
     "output_type": "stream",
     "text": [
      "cutoff parameter is 0.5\n"
     ]
    },
    {
     "data": {
      "text/html": [
       "<div>\n",
       "<style scoped>\n",
       "    .dataframe tbody tr th:only-of-type {\n",
       "        vertical-align: middle;\n",
       "    }\n",
       "\n",
       "    .dataframe tbody tr th {\n",
       "        vertical-align: top;\n",
       "    }\n",
       "\n",
       "    .dataframe thead th {\n",
       "        text-align: right;\n",
       "    }\n",
       "</style>\n",
       "<table border=\"1\" class=\"dataframe\">\n",
       "  <thead>\n",
       "    <tr style=\"text-align: right;\">\n",
       "      <th></th>\n",
       "      <th>accuracy_score</th>\n",
       "      <th>precision_score</th>\n",
       "      <th>recall_score</th>\n",
       "      <th>roc_auc_score</th>\n",
       "    </tr>\n",
       "  </thead>\n",
       "  <tbody>\n",
       "    <tr>\n",
       "      <th>Total</th>\n",
       "      <td>0.992224</td>\n",
       "      <td>0.765752</td>\n",
       "      <td>0.983681</td>\n",
       "      <td>0.989996</td>\n",
       "    </tr>\n",
       "    <tr>\n",
       "      <th>Train</th>\n",
       "      <td>0.992564</td>\n",
       "      <td>0.783019</td>\n",
       "      <td>0.994553</td>\n",
       "      <td>0.994622</td>\n",
       "    </tr>\n",
       "    <tr>\n",
       "      <th>Test</th>\n",
       "      <td>0.991798</td>\n",
       "      <td>0.740648</td>\n",
       "      <td>0.967427</td>\n",
       "      <td>0.983102</td>\n",
       "    </tr>\n",
       "  </tbody>\n",
       "</table>\n",
       "</div>"
      ],
      "text/plain": [
       "       accuracy_score  precision_score  recall_score  roc_auc_score\n",
       "Total        0.992224         0.765752      0.983681       0.989996\n",
       "Train        0.992564         0.783019      0.994553       0.994622\n",
       "Test         0.991798         0.740648      0.967427       0.983102"
      ]
     },
     "execution_count": 23,
     "metadata": {},
     "output_type": "execute_result"
    }
   ],
   "source": [
    "cutoff = 0.5\n",
    "print(f'cutoff parameter is {cutoff}')\n",
    "\n",
    "values = np.zeros([len(sets), len(scores)])\n",
    "for i in range(len(sets)):\n",
    "    key = list(sets.keys())[i]\n",
    "    df_ap = df_answer_predict[np.isin(df_answer_predict['VideoId'], sets[key])]\n",
    "    for k in range(len(scores)):\n",
    "        score = scores[k]\n",
    "        if score is roc_auc_score:\n",
    "            values[i, k] = score(df_ap['Answer'], df_ap['Predict'])\n",
    "        else:\n",
    "            values[i, k] = score(df_ap['Answer'], df_ap['Predict'] >= cutoff)\n",
    "        \n",
    "df_scores0 = pd.DataFrame(values, columns=[score.__name__ for score in scores], index=[key for key in sets])\n",
    "df_scores0"
   ]
  },
  {
   "cell_type": "code",
   "execution_count": 24,
   "id": "44514364",
   "metadata": {},
   "outputs": [
    {
     "name": "stdout",
     "output_type": "stream",
     "text": [
      "cutoff parameter is 1\n"
     ]
    },
    {
     "data": {
      "text/html": [
       "<div>\n",
       "<style scoped>\n",
       "    .dataframe tbody tr th:only-of-type {\n",
       "        vertical-align: middle;\n",
       "    }\n",
       "\n",
       "    .dataframe tbody tr th {\n",
       "        vertical-align: top;\n",
       "    }\n",
       "\n",
       "    .dataframe thead th {\n",
       "        text-align: right;\n",
       "    }\n",
       "</style>\n",
       "<table border=\"1\" class=\"dataframe\">\n",
       "  <thead>\n",
       "    <tr style=\"text-align: right;\">\n",
       "      <th></th>\n",
       "      <th>accuracy_score</th>\n",
       "      <th>precision_score</th>\n",
       "      <th>recall_score</th>\n",
       "      <th>roc_auc_score</th>\n",
       "    </tr>\n",
       "  </thead>\n",
       "  <tbody>\n",
       "    <tr>\n",
       "      <th>Total</th>\n",
       "      <td>0.993168</td>\n",
       "      <td>0.789722</td>\n",
       "      <td>0.983029</td>\n",
       "      <td>0.989996</td>\n",
       "    </tr>\n",
       "    <tr>\n",
       "      <th>Train</th>\n",
       "      <td>0.993717</td>\n",
       "      <td>0.811388</td>\n",
       "      <td>0.993464</td>\n",
       "      <td>0.994622</td>\n",
       "    </tr>\n",
       "    <tr>\n",
       "      <th>Test</th>\n",
       "      <td>0.992482</td>\n",
       "      <td>0.758621</td>\n",
       "      <td>0.967427</td>\n",
       "      <td>0.983102</td>\n",
       "    </tr>\n",
       "  </tbody>\n",
       "</table>\n",
       "</div>"
      ],
      "text/plain": [
       "       accuracy_score  precision_score  recall_score  roc_auc_score\n",
       "Total        0.993168         0.789722      0.983029       0.989996\n",
       "Train        0.993717         0.811388      0.993464       0.994622\n",
       "Test         0.992482         0.758621      0.967427       0.983102"
      ]
     },
     "execution_count": 24,
     "metadata": {},
     "output_type": "execute_result"
    }
   ],
   "source": [
    "cutoff = 1\n",
    "print(f'cutoff parameter is {cutoff}')\n",
    "\n",
    "values = np.zeros([len(sets), len(scores)])\n",
    "for i in range(len(sets)):\n",
    "    key = list(sets.keys())[i]\n",
    "    df_ap = df_answer_predict[np.isin(df_answer_predict['VideoId'], sets[key])]\n",
    "    for k in range(len(scores)):\n",
    "        score = scores[k]\n",
    "        if score is roc_auc_score:\n",
    "            values[i, k] = score(df_ap['Answer'], df_ap['Predict'])\n",
    "        else:\n",
    "            values[i, k] = score(df_ap['Answer'], df_ap['Predict'] >= cutoff)\n",
    "        \n",
    "df_scores1 = pd.DataFrame(values, columns=[score.__name__ for score in scores], index=[key for key in sets])\n",
    "df_scores1"
   ]
  },
  {
   "cell_type": "code",
   "execution_count": 25,
   "id": "fc4aed8e",
   "metadata": {},
   "outputs": [
    {
     "name": "stdout",
     "output_type": "stream",
     "text": [
      "Increase:\n"
     ]
    },
    {
     "data": {
      "text/html": [
       "<div>\n",
       "<style scoped>\n",
       "    .dataframe tbody tr th:only-of-type {\n",
       "        vertical-align: middle;\n",
       "    }\n",
       "\n",
       "    .dataframe tbody tr th {\n",
       "        vertical-align: top;\n",
       "    }\n",
       "\n",
       "    .dataframe thead th {\n",
       "        text-align: right;\n",
       "    }\n",
       "</style>\n",
       "<table border=\"1\" class=\"dataframe\">\n",
       "  <thead>\n",
       "    <tr style=\"text-align: right;\">\n",
       "      <th></th>\n",
       "      <th>accuracy_score</th>\n",
       "      <th>precision_score</th>\n",
       "      <th>recall_score</th>\n",
       "      <th>roc_auc_score</th>\n",
       "    </tr>\n",
       "  </thead>\n",
       "  <tbody>\n",
       "    <tr>\n",
       "      <th>Total</th>\n",
       "      <td>0.000944</td>\n",
       "      <td>0.023970</td>\n",
       "      <td>-0.000653</td>\n",
       "      <td>0.0</td>\n",
       "    </tr>\n",
       "    <tr>\n",
       "      <th>Train</th>\n",
       "      <td>0.001153</td>\n",
       "      <td>0.028369</td>\n",
       "      <td>-0.001089</td>\n",
       "      <td>0.0</td>\n",
       "    </tr>\n",
       "    <tr>\n",
       "      <th>Test</th>\n",
       "      <td>0.000683</td>\n",
       "      <td>0.017972</td>\n",
       "      <td>0.000000</td>\n",
       "      <td>0.0</td>\n",
       "    </tr>\n",
       "  </tbody>\n",
       "</table>\n",
       "</div>"
      ],
      "text/plain": [
       "       accuracy_score  precision_score  recall_score  roc_auc_score\n",
       "Total        0.000944         0.023970     -0.000653            0.0\n",
       "Train        0.001153         0.028369     -0.001089            0.0\n",
       "Test         0.000683         0.017972      0.000000            0.0"
      ]
     },
     "execution_count": 25,
     "metadata": {},
     "output_type": "execute_result"
    }
   ],
   "source": [
    "print('Increase:')\n",
    "df_scores1 - df_scores0"
   ]
  },
  {
   "cell_type": "markdown",
   "id": "c1eff60a",
   "metadata": {},
   "source": [
    "If increase cutoff parameter from 0.5 to 1, then accuracy and precision score will grow on test set, and recall score will decrease on test set but will not change on the test set."
   ]
  },
  {
   "cell_type": "code",
   "execution_count": null,
   "id": "28cf1db2",
   "metadata": {},
   "outputs": [],
   "source": []
  }
 ],
 "metadata": {
  "kernelspec": {
   "display_name": "Python 3 (ipykernel)",
   "language": "python",
   "name": "python3"
  },
  "language_info": {
   "codemirror_mode": {
    "name": "ipython",
    "version": 3
   },
   "file_extension": ".py",
   "mimetype": "text/x-python",
   "name": "python",
   "nbconvert_exporter": "python",
   "pygments_lexer": "ipython3",
   "version": "3.11.6"
  }
 },
 "nbformat": 4,
 "nbformat_minor": 5
}
