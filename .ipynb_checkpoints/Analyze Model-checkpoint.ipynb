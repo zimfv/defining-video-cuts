{
 "cells": [
  {
   "cell_type": "code",
   "execution_count": 1,
   "id": "8db9b24e",
   "metadata": {},
   "outputs": [
    {
     "name": "stderr",
     "output_type": "stream",
     "text": [
      "2023-12-15 04:16:49.883982: I tensorflow/core/platform/cpu_feature_guard.cc:182] This TensorFlow binary is optimized to use available CPU instructions in performance-critical operations.\n",
      "To enable the following instructions: AVX2 FMA, in other operations, rebuild TensorFlow with the appropriate compiler flags.\n"
     ]
    }
   ],
   "source": [
    "import os\n",
    "import cv2\n",
    "\n",
    "import numpy as np\n",
    "import pandas as pd\n",
    "import tensorflow as tf\n",
    "import matplotlib.pyplot as plt\n",
    "\n",
    "from tqdm.notebook import tqdm\n",
    "from mytools import Video\n",
    "from sklearn.metrics import *"
   ]
  },
  {
   "cell_type": "markdown",
   "id": "1a5a5a4d",
   "metadata": {},
   "source": [
    "# Draw Video functions"
   ]
  },
  {
   "cell_type": "code",
   "execution_count": 2,
   "id": "85a23682",
   "metadata": {},
   "outputs": [],
   "source": [
    "def draw_page(cuts, video: Video, lines=4, frames_before=3, frames_after=3, figwidth=12, figheight=6, suptitle=None):\n",
    "    \"\"\"\n",
    "    \"\"\"\n",
    "    fig, axs = plt.subplots(lines, frames_before + frames_after)\n",
    "    fig.set_figheight(figheight)\n",
    "    fig.set_figwidth(figwidth)\n",
    "    if suptitle is not None:\n",
    "        fig.suptitle(suptitle)\n",
    "    \n",
    "    \n",
    "    if len(cuts) > lines:\n",
    "        cuts = cuts[:lines]\n",
    "    \n",
    "    for i in range(len(cuts)):\n",
    "        idx = np.arange(-frames_before, frames_after) + cuts[i]\n",
    "        frames = video.get_matrix(cuts[i] - frames_before, cuts[i] + frames_after)\n",
    "        for k in range(frames_before + frames_after):\n",
    "            axs[i, k].imshow(frames[k])\n",
    "            axs[i, k].set_title(f'Frame {idx[k]}')\n",
    "    \n",
    "    if len(cuts) < lines:\n",
    "        for i in range(len(cuts), lines):\n",
    "            for k in range(frames_before + frames_after):\n",
    "                axs[i, k].plot([0, 1, 1, 0, 0], [0, 0, 1, 1, 0], color='black')\n",
    "                axs[i, k].plot([0, 1], [1, 0], color='black')\n",
    "                axs[i, k].plot([0, 1], [0, 1], color='black')\n",
    "    \n",
    "    return fig, axs"
   ]
  },
  {
   "cell_type": "code",
   "execution_count": 3,
   "id": "96dd068e",
   "metadata": {},
   "outputs": [],
   "source": [
    "def draw_cut_hist(video, cuts_real, cuts_predicted, figsize=(12, 6)):\n",
    "    \"\"\"\n",
    "    \"\"\"\n",
    "    n = len(video)\n",
    "    plt.figure(figsize=(10, 5))\n",
    "    plt.plot(np.arange(n), cuts_predicted[:n], color='steelblue', label='predicted cuts')\n",
    "    plt.scatter(np.arange(n), cuts_real[:n], color='orangered', label='real cuts')\n",
    "    plt.yticks([0, 0.5, 1])\n",
    "    plt.grid(True)\n",
    "    plt.legend()"
   ]
  },
  {
   "cell_type": "code",
   "execution_count": 4,
   "id": "19976920",
   "metadata": {},
   "outputs": [],
   "source": [
    "def generate_of_subsets(array, subset_length, with_index=True):\n",
    "    # yields subsets of given length\n",
    "    for i in range(len(array)//subset_length):\n",
    "        if with_index:\n",
    "            yield i, array[i*subset_length:(i + 1)*subset_length]\n",
    "        else:\n",
    "            yield array[i*subset_length:(i + 1)*subset_length]\n",
    "    if len(array) % subset_length != 0:\n",
    "        i = len(array) // subset_length\n",
    "        if with_index:\n",
    "            yield i, array[i*subset_length:]\n",
    "        else:\n",
    "            yield array[i*subset_length:]"
   ]
  },
  {
   "cell_type": "code",
   "execution_count": 5,
   "id": "a4f9f435",
   "metadata": {},
   "outputs": [],
   "source": [
    "def get_length_of_subsets(array, subset_length):\n",
    "    # returns length of generator generate_of_subsets\n",
    "    if len(array) % subset_length == 0:\n",
    "        return len(array) // subset_length\n",
    "    return  len(array) // subset_length + 1"
   ]
  },
  {
   "cell_type": "markdown",
   "id": "4bf3cf47",
   "metadata": {},
   "source": [
    "# Load model"
   ]
  },
  {
   "cell_type": "markdown",
   "id": "fb1c4223",
   "metadata": {},
   "source": [
    "The string value `load_parameter` define the method to choose.\n",
    "\n",
    "If `load_parameter == 'new'` then the model with the last filename from the directory __models__ will be load. _I use the date and time to construct model filename._\n",
    "\n",
    "Else the model with the heighest value in `load_parameter`-column from __model_scores.csv__ will be load. That table contains columns:\n",
    "- model path\n",
    "- Total Accuracy\n",
    "- Total Precision\n",
    "- Total Recall\n",
    "- Train Accuracy\n",
    "- Train Precision\n",
    "- Train Recall\n",
    "- Test Accuracy\n",
    "- Test Precision\n",
    "- Test Recall\n",
    "- Total accuracy_score\n",
    "- Total precision_score\n",
    "- Total recall_score\n",
    "- Total roc_auc_score\n",
    "- Train accuracy_score\n",
    "- Train precision_score\n",
    "- Train recall_score\n",
    "- Train roc_auc_score\n",
    "- Test accuracy_score\n",
    "- Test precision_score\n",
    "- Test recall_score\n",
    "- Test roc_auc_score"
   ]
  },
  {
   "cell_type": "code",
   "execution_count": 6,
   "id": "9ad69a81",
   "metadata": {},
   "outputs": [
    {
     "name": "stdout",
     "output_type": "stream",
     "text": [
      "We a going to upload model models/2023-12-09-01-39.h5\n"
     ]
    }
   ],
   "source": [
    "load_parameter = 'Total precision_score'\n",
    "\n",
    "if load_parameter == 'new':\n",
    "    model_path = 'models'\n",
    "    model_files = np.array(os.listdir(model_path))\n",
    "    model_files = np.sort(model_files[np.char.find(model_files, '.h5') != -1])\n",
    "    model_path = os.path.join(model_path, model_files[-1])\n",
    "else:\n",
    "    df_metrics = pd.read_csv('model_scores.csv')\n",
    "    model_path = df_metrics[df_metrics[load_parameter] == df_metrics[load_parameter].max()]['model path'].values[0]\n",
    "    \n",
    "print(f'We a going to upload model {model_path}')"
   ]
  },
  {
   "cell_type": "code",
   "execution_count": 7,
   "id": "3fc2e7f8",
   "metadata": {},
   "outputs": [
    {
     "name": "stdout",
     "output_type": "stream",
     "text": [
      "Model: \"sequential\"\n",
      "_________________________________________________________________\n",
      " Layer (type)                Output Shape              Param #   \n",
      "=================================================================\n",
      " conv3d (Conv3D)             (None, 4, 70, 126, 64)    5248      \n",
      "                                                                 \n",
      " max_pooling3d (MaxPooling3  (None, 4, 35, 63, 64)     0         \n",
      " D)                                                              \n",
      "                                                                 \n",
      " conv3d_1 (Conv3D)           (None, 1, 32, 60, 64)     262208    \n",
      "                                                                 \n",
      " max_pooling3d_1 (MaxPoolin  (None, 1, 16, 30, 64)     0         \n",
      " g3D)                                                            \n",
      "                                                                 \n",
      " flatten (Flatten)           (None, 30720)             0         \n",
      "                                                                 \n",
      " dense (Dense)               (None, 192)               5898432   \n",
      "                                                                 \n",
      " dense_1 (Dense)             (None, 256)               49408     \n",
      "                                                                 \n",
      " dense_2 (Dense)             (None, 1)                 257       \n",
      "                                                                 \n",
      "=================================================================\n",
      "Total params: 6215553 (23.71 MB)\n",
      "Trainable params: 6215553 (23.71 MB)\n",
      "Non-trainable params: 0 (0.00 Byte)\n",
      "_________________________________________________________________\n"
     ]
    }
   ],
   "source": [
    "model = tf.keras.models.load_model(model_path)\n",
    "model.summary()"
   ]
  },
  {
   "cell_type": "code",
   "execution_count": 8,
   "id": "74765efd",
   "metadata": {},
   "outputs": [
    {
     "name": "stdout",
     "output_type": "stream",
     "text": [
      "Model input shape is (6, 72, 128, 3)\n",
      "So video size should be (72, 128)\n"
     ]
    }
   ],
   "source": [
    "input_size = tuple(model.input.shape[1:])\n",
    "video_size = input_size[1], input_size[2]\n",
    "print(f'Model input shape is {input_size}')\n",
    "print(f'So video size should be {video_size}')"
   ]
  },
  {
   "cell_type": "markdown",
   "id": "b0dbc85d",
   "metadata": {},
   "source": [
    "## Define model predicts path"
   ]
  },
  {
   "cell_type": "code",
   "execution_count": 9,
   "id": "fe746cda",
   "metadata": {},
   "outputs": [],
   "source": [
    "path_predicts = 'predicts'\n",
    "if not os.path.exists(path_predicts):\n",
    "    os.mkdir(path_predicts)"
   ]
  },
  {
   "cell_type": "code",
   "execution_count": 10,
   "id": "c266d1b6",
   "metadata": {},
   "outputs": [
    {
     "name": "stdout",
     "output_type": "stream",
     "text": [
      "model_name = 2023-12-09-01-39\n"
     ]
    }
   ],
   "source": [
    "model_name = model_path[model_path.find('/')+1:model_path.find('.')]\n",
    "print(f\"model_name = {model_name}\")\n",
    "path_model_predicts = os.path.join(path_predicts, model_name)\n",
    "\n",
    "if not os.path.exists(path_model_predicts):\n",
    "    os.mkdir(path_model_predicts)"
   ]
  },
  {
   "cell_type": "code",
   "execution_count": 11,
   "id": "c417f917",
   "metadata": {},
   "outputs": [
    {
     "data": {
      "text/plain": [
       "'predicts/2023-12-09-01-39/{0}.npy'"
      ]
     },
     "execution_count": 11,
     "metadata": {},
     "output_type": "execute_result"
    }
   ],
   "source": [
    "path_predict_template = os.path.join(path_model_predicts, '{0}.npy')\n",
    "path_predict_template"
   ]
  },
  {
   "cell_type": "markdown",
   "id": "0ee6ac92",
   "metadata": {},
   "source": [
    "# Predictor"
   ]
  },
  {
   "cell_type": "code",
   "execution_count": 12,
   "id": "4a7f4809",
   "metadata": {},
   "outputs": [],
   "source": [
    "def predict_cuts(model, video: Video, fill=True, fill_value=0, fill_begin=None, fill_end=None):\n",
    "    \"\"\"\n",
    "    Returns predicted cuts.\n",
    "    \n",
    "    Parameters:\n",
    "    -----------\n",
    "    model : keras model\n",
    "    \n",
    "    video : mytools.Video\n",
    "    \n",
    "    fill : bool\n",
    "        Add values to the begin and end of result\n",
    "    \n",
    "    fill_value : int or bool\n",
    "        Value, which will added to the begin and the end, if fill is True\n",
    "        \n",
    "    fill_begin : int\n",
    "        Number of added values to begin\n",
    "        \n",
    "    fill_end : int\n",
    "        Number of added values to end\n",
    "    \n",
    "    Returns:\n",
    "    --------\n",
    "    res : np.array\n",
    "    \"\"\"\n",
    "    input_size = tuple(model.input.shape[1:])\n",
    "    video_size = input_size[2], input_size[1]\n",
    "    fragment_length = input_size[0]\n",
    "    if (fill_begin is None) and (fill_end is None):\n",
    "        fill_begin = fragment_length // 2\n",
    "        fill_end = fragment_length - fill_begin\n",
    "    elif fill_end is None:\n",
    "        fill_end = fragment_length - fill_begin\n",
    "    elif fill_begin is None:\n",
    "        fill_begin = fragment_length - fill_end\n",
    "    \n",
    "    res = []\n",
    "    \n",
    "    pbar = tqdm(total=len(video) - fragment_length)\n",
    "    # Make here loop of video fragments length 4 (fragment_length) and add predicted value every step\n",
    "    for matrix in video.generate_matrices(matrix_length=fragment_length, new_size=video_size):\n",
    "        X = matrix.reshape(np.append(1, matrix.shape))\n",
    "        y = model(X)\n",
    "        res.append(y)\n",
    "        pbar.update()\n",
    "    pbar.close()\n",
    "    \n",
    "    if fill:\n",
    "        res = np.concatenate([np.ones(fill_begin)*fill_value, np.array(res)[:, 0, 0], np.ones(fill_end)*fill_value])\n",
    "    return res"
   ]
  },
  {
   "cell_type": "markdown",
   "id": "1564d599",
   "metadata": {},
   "source": [
    "# Define Split Values "
   ]
  },
  {
   "cell_type": "code",
   "execution_count": 13,
   "id": "f1839241",
   "metadata": {},
   "outputs": [
    {
     "data": {
      "text/plain": [
       "{'Total': array([ 0,  1,  2,  3,  4,  5,  6,  7,  8,  9, 10]),\n",
       " 'Train': array([0, 1, 4, 5, 7, 9]),\n",
       " 'Test': array([ 2,  3,  6,  8, 10])}"
      ]
     },
     "execution_count": 13,
     "metadata": {},
     "output_type": "execute_result"
    }
   ],
   "source": [
    "path_trainset = os.path.join('trainsets', model_path[model_path.rfind('/')+1:model_path.rfind('.')] + '.npy')\n",
    "sets = {'Total': np.arange(11), \n",
    "        'Train' : np.load(path_trainset)}\n",
    "sets.update({'Test': np.setdiff1d(sets['Total'], sets['Train'])})\n",
    "\n",
    "dfs_square_set = {}\n",
    "sets"
   ]
  },
  {
   "cell_type": "markdown",
   "id": "206e80f6",
   "metadata": {},
   "source": [
    "# Make Predicts, Load Answers and Make Result DataFrame"
   ]
  },
  {
   "cell_type": "code",
   "execution_count": 14,
   "id": "ff26aa3a",
   "metadata": {},
   "outputs": [
    {
     "data": {
      "application/vnd.jupyter.widget-view+json": {
       "model_id": "893f37018e6247f99100de2333b701b1",
       "version_major": 2,
       "version_minor": 0
      },
      "text/plain": [
       "  0%|          | 0/11 [00:00<?, ?it/s]"
      ]
     },
     "metadata": {},
     "output_type": "display_data"
    }
   ],
   "source": [
    "predicts = []\n",
    "for video_index in tqdm(sets['Total'], total=len(sets['Total'])):\n",
    "    path_predict = path_predict_template.format(video_index)\n",
    "    try:\n",
    "        cuts_predicted = np.load(path_predict)\n",
    "    except FileNotFoundError:\n",
    "        cuts_predicted = predict_cuts(model, video)\n",
    "        np.save(path_predict, cuts_predicted)\n",
    "    predicts.append(np.array(cuts_predicted))"
   ]
  },
  {
   "cell_type": "code",
   "execution_count": 15,
   "id": "13879c50",
   "metadata": {},
   "outputs": [],
   "source": [
    "answers = []\n",
    "videos = []\n",
    "for video_index in sets['Total']:\n",
    "    video = Video(f'videos/{video_index}.mp4')\n",
    "    cuts = np.load(f'cuts/{video_index}.npy').astype(int)\n",
    "    cuts_real = np.zeros(len(video))\n",
    "    cuts_real[cuts] = 1\n",
    "    answers.append(cuts_real)\n",
    "    videos.append(video)"
   ]
  },
  {
   "cell_type": "code",
   "execution_count": 16,
   "id": "c4efd864",
   "metadata": {},
   "outputs": [],
   "source": [
    "assert len(predicts) == len(answers)\n",
    "assert (np.array([len(i) for i in predicts]) == np.array([len(i) for i in answers])).all()"
   ]
  },
  {
   "cell_type": "code",
   "execution_count": 17,
   "id": "c058fd69",
   "metadata": {},
   "outputs": [
    {
     "name": "stdout",
     "output_type": "stream",
     "text": [
      "df_predict_answer.shape = (62496, 3)\n"
     ]
    },
    {
     "data": {
      "text/html": [
       "<div>\n",
       "<style scoped>\n",
       "    .dataframe tbody tr th:only-of-type {\n",
       "        vertical-align: middle;\n",
       "    }\n",
       "\n",
       "    .dataframe tbody tr th {\n",
       "        vertical-align: top;\n",
       "    }\n",
       "\n",
       "    .dataframe thead th {\n",
       "        text-align: right;\n",
       "    }\n",
       "</style>\n",
       "<table border=\"1\" class=\"dataframe\">\n",
       "  <thead>\n",
       "    <tr style=\"text-align: right;\">\n",
       "      <th></th>\n",
       "      <th>Answer</th>\n",
       "      <th>Predict</th>\n",
       "      <th>VideoId</th>\n",
       "    </tr>\n",
       "  </thead>\n",
       "  <tbody>\n",
       "    <tr>\n",
       "      <th>22934</th>\n",
       "      <td>0.0</td>\n",
       "      <td>0.0</td>\n",
       "      <td>4</td>\n",
       "    </tr>\n",
       "    <tr>\n",
       "      <th>22935</th>\n",
       "      <td>0.0</td>\n",
       "      <td>0.0</td>\n",
       "      <td>4</td>\n",
       "    </tr>\n",
       "    <tr>\n",
       "      <th>22936</th>\n",
       "      <td>0.0</td>\n",
       "      <td>0.0</td>\n",
       "      <td>4</td>\n",
       "    </tr>\n",
       "    <tr>\n",
       "      <th>22937</th>\n",
       "      <td>0.0</td>\n",
       "      <td>0.0</td>\n",
       "      <td>4</td>\n",
       "    </tr>\n",
       "    <tr>\n",
       "      <th>22938</th>\n",
       "      <td>0.0</td>\n",
       "      <td>0.0</td>\n",
       "      <td>4</td>\n",
       "    </tr>\n",
       "    <tr>\n",
       "      <th>22939</th>\n",
       "      <td>0.0</td>\n",
       "      <td>0.0</td>\n",
       "      <td>4</td>\n",
       "    </tr>\n",
       "    <tr>\n",
       "      <th>22940</th>\n",
       "      <td>0.0</td>\n",
       "      <td>0.0</td>\n",
       "      <td>4</td>\n",
       "    </tr>\n",
       "    <tr>\n",
       "      <th>22941</th>\n",
       "      <td>0.0</td>\n",
       "      <td>0.0</td>\n",
       "      <td>4</td>\n",
       "    </tr>\n",
       "  </tbody>\n",
       "</table>\n",
       "</div>"
      ],
      "text/plain": [
       "       Answer  Predict  VideoId\n",
       "22934     0.0      0.0        4\n",
       "22935     0.0      0.0        4\n",
       "22936     0.0      0.0        4\n",
       "22937     0.0      0.0        4\n",
       "22938     0.0      0.0        4\n",
       "22939     0.0      0.0        4\n",
       "22940     0.0      0.0        4\n",
       "22941     0.0      0.0        4"
      ]
     },
     "execution_count": 17,
     "metadata": {},
     "output_type": "execute_result"
    }
   ],
   "source": [
    "df_answer_predict = []\n",
    "for i in range(len(sets['Total'])):\n",
    "    video_index = sets['Total'][i]\n",
    "    dfi = pd.DataFrame({'Answer' : answers[i], \n",
    "                        'Predict' : predicts[i]})\n",
    "    dfi['VideoId'] = video_index\n",
    "    df_answer_predict.append(dfi.copy())\n",
    "df_answer_predict = pd.concat(df_answer_predict, ignore_index=True)\n",
    "\n",
    "print(f'df_predict_answer.shape = {df_answer_predict.shape}')\n",
    "df_answer_predict[np.random.randint(len(df_answer_predict)):].head(8)"
   ]
  },
  {
   "cell_type": "markdown",
   "id": "5718d232",
   "metadata": {},
   "source": [
    "# Create Raport"
   ]
  },
  {
   "cell_type": "code",
   "execution_count": 18,
   "id": "afa87a30",
   "metadata": {},
   "outputs": [],
   "source": [
    "cutoff = 1"
   ]
  },
  {
   "cell_type": "code",
   "execution_count": 19,
   "id": "084f2d05",
   "metadata": {},
   "outputs": [
    {
     "name": "stdout",
     "output_type": "stream",
     "text": [
      "raport_path = raports/2023-12-09-01-39.pdf\n",
      "raport_hist_template = pics/raportpics/2023-12-09-01-39-hist-video{0}.png\n",
      "raport_wrong_cuts_template = pics/raportpics/2023-12-09-01-39-wrongcuts-video{0}-pack{1}.png\n",
      "raport_wrong_noncuts_template = pics/raportpics/2023-12-09-01-39-wrongnoncuts-video{0}-pack{1}.png\n",
      "raport_scores_path = pics/raportpics/2023-12-09-01-39-scores.png\n"
     ]
    }
   ],
   "source": [
    "raport_path = 'raports/' + model_name + '.pdf'\n",
    "raport_hist_template = \"pics/raportpics/\" + model_name + \"-hist-video{0}.png\"\n",
    "raport_wrong_cuts_template = \"pics/raportpics/\" + model_name + \"-wrongcuts-video{0}-pack{1}.png\"\n",
    "raport_wrong_noncuts_template = \"pics/raportpics/\" + model_name + \"-wrongnoncuts-video{0}-pack{1}.png\"\n",
    "raport_scores_path = \"pics/raportpics/\" + model_name + '-scores.png'\n",
    "\n",
    "print(f\"raport_path = {raport_path}\")\n",
    "print(f\"raport_hist_template = {raport_hist_template}\")\n",
    "print(f\"raport_wrong_cuts_template = {raport_wrong_cuts_template}\")\n",
    "print(f\"raport_wrong_noncuts_template = {raport_wrong_noncuts_template}\")\n",
    "print(f\"raport_scores_path = {raport_scores_path}\")"
   ]
  },
  {
   "cell_type": "code",
   "execution_count": 20,
   "id": "65ad5ba2",
   "metadata": {},
   "outputs": [
    {
     "data": {
      "application/vnd.jupyter.widget-view+json": {
       "model_id": "d4a438182bd84edba8a5c0b19aeef09e",
       "version_major": 2,
       "version_minor": 0
      },
      "text/plain": [
       "  0%|          | 0/11 [00:00<?, ?it/s]"
      ]
     },
     "metadata": {},
     "output_type": "display_data"
    },
    {
     "name": "stdout",
     "output_type": "stream",
     "text": [
      "Hist pics were drawen:\n",
      "pics/raportpics/2023-12-09-01-39-hist-video0.png\n",
      "pics/raportpics/2023-12-09-01-39-hist-video1.png\n",
      "pics/raportpics/2023-12-09-01-39-hist-video2.png\n",
      "pics/raportpics/2023-12-09-01-39-hist-video3.png\n",
      "pics/raportpics/2023-12-09-01-39-hist-video4.png\n",
      "pics/raportpics/2023-12-09-01-39-hist-video5.png\n",
      "pics/raportpics/2023-12-09-01-39-hist-video6.png\n",
      "pics/raportpics/2023-12-09-01-39-hist-video7.png\n",
      "pics/raportpics/2023-12-09-01-39-hist-video8.png\n",
      "pics/raportpics/2023-12-09-01-39-hist-video9.png\n",
      "pics/raportpics/2023-12-09-01-39-hist-video10.png\n"
     ]
    }
   ],
   "source": [
    "# Draw hists\n",
    "hist_filenames = []\n",
    "for i in tqdm(range(len(sets['Total'])), total=len(sets['Total'])):\n",
    "    video_index = sets['Total'][i]\n",
    "    video = videos[i]\n",
    "    video_name = f'videos/{video_index}.mp4'\n",
    "    cuts_real = df_answer_predict[df_answer_predict['VideoId'] == video_index]['Answer']\n",
    "    cuts_predicted = df_answer_predict[df_answer_predict['VideoId'] == video_index]['Predict']\n",
    "    draw_cut_hist(video, cuts_real, cuts_predicted)\n",
    "    \n",
    "    raport_hist_filename = raport_hist_template.format(video_index)\n",
    "    hist_filenames.append(raport_hist_filename)\n",
    "    \n",
    "    plt.title(video_name)\n",
    "    plt.savefig(raport_hist_filename)\n",
    "    plt.close()\n",
    "print('Hist pics were drawen:\\n' + '\\n'.join(hist_filenames))"
   ]
  },
  {
   "cell_type": "code",
   "execution_count": 21,
   "id": "539a3681",
   "metadata": {
    "scrolled": true
   },
   "outputs": [
    {
     "data": {
      "application/vnd.jupyter.widget-view+json": {
       "model_id": "fcb2109432bb490baaf8e3dd52759b40",
       "version_major": 2,
       "version_minor": 0
      },
      "text/plain": [
       "Videos:   0%|          | 0/11 [00:00<?, ?it/s]"
      ]
     },
     "metadata": {},
     "output_type": "display_data"
    },
    {
     "data": {
      "application/vnd.jupyter.widget-view+json": {
       "model_id": "24e25e3b6f554886831a28c18c78b9d6",
       "version_major": 2,
       "version_minor": 0
      },
      "text/plain": [
       "plot wrong cuts in videos/0.mp4:   0%|          | 0/13 [00:00<?, ?it/s]"
      ]
     },
     "metadata": {},
     "output_type": "display_data"
    },
    {
     "data": {
      "application/vnd.jupyter.widget-view+json": {
       "model_id": "0a2670145ef447c98990f2211a3c231e",
       "version_major": 2,
       "version_minor": 0
      },
      "text/plain": [
       "plot wrong noncuts in videos/0.mp4:   0%|          | 0/1 [00:00<?, ?it/s]"
      ]
     },
     "metadata": {},
     "output_type": "display_data"
    },
    {
     "data": {
      "application/vnd.jupyter.widget-view+json": {
       "model_id": "845e92565d8a492ea4af1c5080646123",
       "version_major": 2,
       "version_minor": 0
      },
      "text/plain": [
       "plot wrong cuts in videos/1.mp4:   0%|          | 0/30 [00:00<?, ?it/s]"
      ]
     },
     "metadata": {},
     "output_type": "display_data"
    },
    {
     "data": {
      "application/vnd.jupyter.widget-view+json": {
       "model_id": "e95b44ecf22c4a2db1412c1055cbbf32",
       "version_major": 2,
       "version_minor": 0
      },
      "text/plain": [
       "plot wrong noncuts in videos/1.mp4:   0%|          | 0/1 [00:00<?, ?it/s]"
      ]
     },
     "metadata": {},
     "output_type": "display_data"
    },
    {
     "data": {
      "application/vnd.jupyter.widget-view+json": {
       "model_id": "a6dbe75bb58c4d4d8d4744fa690ad195",
       "version_major": 2,
       "version_minor": 0
      },
      "text/plain": [
       "plot wrong cuts in videos/2.mp4:   0%|          | 0/27 [00:00<?, ?it/s]"
      ]
     },
     "metadata": {},
     "output_type": "display_data"
    },
    {
     "data": {
      "application/vnd.jupyter.widget-view+json": {
       "model_id": "33bf00df19404b729432621f2ce5e6a7",
       "version_major": 2,
       "version_minor": 0
      },
      "text/plain": [
       "plot wrong noncuts in videos/2.mp4:   0%|          | 0/3 [00:00<?, ?it/s]"
      ]
     },
     "metadata": {},
     "output_type": "display_data"
    },
    {
     "data": {
      "application/vnd.jupyter.widget-view+json": {
       "model_id": "46b013db5f5d4decbdabfba5e9cbb895",
       "version_major": 2,
       "version_minor": 0
      },
      "text/plain": [
       "plot wrong cuts in videos/3.mp4: 0it [00:00, ?it/s]"
      ]
     },
     "metadata": {},
     "output_type": "display_data"
    },
    {
     "data": {
      "application/vnd.jupyter.widget-view+json": {
       "model_id": "44e21b29d97b452b8c44c4a463977ff9",
       "version_major": 2,
       "version_minor": 0
      },
      "text/plain": [
       "plot wrong noncuts in videos/3.mp4:   0%|          | 0/1 [00:00<?, ?it/s]"
      ]
     },
     "metadata": {},
     "output_type": "display_data"
    },
    {
     "data": {
      "application/vnd.jupyter.widget-view+json": {
       "model_id": "2e65252904324bb9aa548c67e0d55595",
       "version_major": 2,
       "version_minor": 0
      },
      "text/plain": [
       "plot wrong cuts in videos/4.mp4:   0%|          | 0/3 [00:00<?, ?it/s]"
      ]
     },
     "metadata": {},
     "output_type": "display_data"
    },
    {
     "data": {
      "application/vnd.jupyter.widget-view+json": {
       "model_id": "395c2afb73f74709a70ca1122e87aa06",
       "version_major": 2,
       "version_minor": 0
      },
      "text/plain": [
       "plot wrong noncuts in videos/4.mp4:   0%|          | 0/1 [00:00<?, ?it/s]"
      ]
     },
     "metadata": {},
     "output_type": "display_data"
    },
    {
     "data": {
      "application/vnd.jupyter.widget-view+json": {
       "model_id": "ab477d7eca0345a2bd0c36e6cc692398",
       "version_major": 2,
       "version_minor": 0
      },
      "text/plain": [
       "plot wrong cuts in videos/5.mp4:   0%|          | 0/2 [00:00<?, ?it/s]"
      ]
     },
     "metadata": {},
     "output_type": "display_data"
    },
    {
     "data": {
      "application/vnd.jupyter.widget-view+json": {
       "model_id": "8bd9357a37b14671ac98801025bddec8",
       "version_major": 2,
       "version_minor": 0
      },
      "text/plain": [
       "plot wrong noncuts in videos/5.mp4: 0it [00:00, ?it/s]"
      ]
     },
     "metadata": {},
     "output_type": "display_data"
    },
    {
     "data": {
      "application/vnd.jupyter.widget-view+json": {
       "model_id": "4039773a56e142bb88efd445932f6695",
       "version_major": 2,
       "version_minor": 0
      },
      "text/plain": [
       "plot wrong cuts in videos/6.mp4:   0%|          | 0/4 [00:00<?, ?it/s]"
      ]
     },
     "metadata": {},
     "output_type": "display_data"
    },
    {
     "data": {
      "application/vnd.jupyter.widget-view+json": {
       "model_id": "7be89bbf25234da98857723dc7641a25",
       "version_major": 2,
       "version_minor": 0
      },
      "text/plain": [
       "plot wrong noncuts in videos/6.mp4: 0it [00:00, ?it/s]"
      ]
     },
     "metadata": {},
     "output_type": "display_data"
    },
    {
     "data": {
      "application/vnd.jupyter.widget-view+json": {
       "model_id": "43e86613880846b1b62162cd6c9ce0dd",
       "version_major": 2,
       "version_minor": 0
      },
      "text/plain": [
       "plot wrong cuts in videos/7.mp4:   0%|          | 0/5 [00:00<?, ?it/s]"
      ]
     },
     "metadata": {},
     "output_type": "display_data"
    },
    {
     "data": {
      "application/vnd.jupyter.widget-view+json": {
       "model_id": "4ba3bd9fda464741bb56d3f7dfe5c141",
       "version_major": 2,
       "version_minor": 0
      },
      "text/plain": [
       "plot wrong noncuts in videos/7.mp4: 0it [00:00, ?it/s]"
      ]
     },
     "metadata": {},
     "output_type": "display_data"
    },
    {
     "data": {
      "application/vnd.jupyter.widget-view+json": {
       "model_id": "085357426c824596b19681c73f2f8729",
       "version_major": 2,
       "version_minor": 0
      },
      "text/plain": [
       "plot wrong cuts in videos/8.mp4:   0%|          | 0/2 [00:00<?, ?it/s]"
      ]
     },
     "metadata": {},
     "output_type": "display_data"
    },
    {
     "data": {
      "application/vnd.jupyter.widget-view+json": {
       "model_id": "9d791e5c9b8e4fc381b5ba7d8db667d2",
       "version_major": 2,
       "version_minor": 0
      },
      "text/plain": [
       "plot wrong noncuts in videos/8.mp4: 0it [00:00, ?it/s]"
      ]
     },
     "metadata": {},
     "output_type": "display_data"
    },
    {
     "data": {
      "application/vnd.jupyter.widget-view+json": {
       "model_id": "771a39abbb824ff69025486468f7ba81",
       "version_major": 2,
       "version_minor": 0
      },
      "text/plain": [
       "plot wrong cuts in videos/9.mp4:   0%|          | 0/2 [00:00<?, ?it/s]"
      ]
     },
     "metadata": {},
     "output_type": "display_data"
    },
    {
     "data": {
      "application/vnd.jupyter.widget-view+json": {
       "model_id": "2c3c02a299c845f9a0cc27a1615caa54",
       "version_major": 2,
       "version_minor": 0
      },
      "text/plain": [
       "plot wrong noncuts in videos/9.mp4: 0it [00:00, ?it/s]"
      ]
     },
     "metadata": {},
     "output_type": "display_data"
    },
    {
     "data": {
      "application/vnd.jupyter.widget-view+json": {
       "model_id": "f37264cefb614c05afb096ffb480ad41",
       "version_major": 2,
       "version_minor": 0
      },
      "text/plain": [
       "plot wrong cuts in videos/10.mp4:   0%|          | 0/15 [00:00<?, ?it/s]"
      ]
     },
     "metadata": {},
     "output_type": "display_data"
    },
    {
     "data": {
      "application/vnd.jupyter.widget-view+json": {
       "model_id": "2833dd240543425c9eab120008a5d267",
       "version_major": 2,
       "version_minor": 0
      },
      "text/plain": [
       "plot wrong noncuts in videos/10.mp4:   0%|          | 0/2 [00:00<?, ?it/s]"
      ]
     },
     "metadata": {},
     "output_type": "display_data"
    },
    {
     "name": "stdout",
     "output_type": "stream",
     "text": [
      "103 wrong cuts pics were drawen.\n",
      "9 wrong noncuts pics were drawen.\n"
     ]
    }
   ],
   "source": [
    "lines = 4\n",
    "frames_before = 3\n",
    "frames_after = 3\n",
    "\n",
    "wrong_cuts_filenames = []\n",
    "wrong_noncuts_filenames = []\n",
    "\n",
    "for i in tqdm(range(len(sets['Total'])), total=len(sets['Total']), desc='Videos'):\n",
    "    video_index = sets['Total'][i]\n",
    "    video = videos[i]\n",
    "    video_name = f'videos/{video_index}.mp4'\n",
    "    df_i = df_answer_predict[df_answer_predict['VideoId'] == video_index].reset_index()\n",
    "    \n",
    "    \n",
    "    suptitle = 'Wrong cuts in ' + video_name \n",
    "    wrong_cuts = list(df_i[(df_i['Answer'] == 0)&(df_i['Predict'] >= cutoff)].index)\n",
    "    bar_total = get_length_of_subsets(wrong_cuts, lines)\n",
    "    bar_desc = 'plot wrong cuts in ' + video_name\n",
    "    for k, cutset in tqdm(generate_of_subsets(wrong_cuts, lines), total=bar_total, desc=bar_desc):\n",
    "        fig, axs = draw_page(cutset, video, lines=lines, frames_before=frames_before, frames_after=frames_after, suptitle=suptitle)\n",
    "        filename = raport_wrong_cuts_template.format(video_index, k)\n",
    "        fig.savefig(filename)\n",
    "        plt.close(fig)\n",
    "        wrong_cuts_filenames.append(filename)\n",
    "        \n",
    "    suptitle = 'Wrong noncuts in ' + video_name \n",
    "    wrong_noncuts = list(df_i[(df_i['Answer'] == 1)&(df_i['Predict'] < cutoff)].index)\n",
    "    bar_total = get_length_of_subsets(wrong_noncuts, lines)\n",
    "    bar_desc = 'plot wrong noncuts in ' + video_name\n",
    "    for k, cutset in tqdm(generate_of_subsets(wrong_noncuts, lines), total=bar_total, desc=bar_desc):\n",
    "        fig, axs = draw_page(cutset, video, lines=lines, frames_before=frames_before, frames_after=frames_after, suptitle=suptitle)\n",
    "        filename = raport_wrong_cuts_template.format(video_index, k)\n",
    "        fig.savefig(filename)\n",
    "        plt.close(fig)\n",
    "        wrong_noncuts_filenames.append(filename)\n",
    "    \n",
    "    \n",
    "print('{0} wrong cuts pics were drawen.'.format(len(wrong_cuts_filenames)))\n",
    "print('{0} wrong noncuts pics were drawen.'.format(len(wrong_noncuts_filenames)))"
   ]
  },
  {
   "cell_type": "code",
   "execution_count": 22,
   "id": "fd762c99",
   "metadata": {},
   "outputs": [],
   "source": [
    "scores = [accuracy_score, precision_score, recall_score, roc_auc_score]"
   ]
  },
  {
   "cell_type": "code",
   "execution_count": 23,
   "id": "139c5340",
   "metadata": {},
   "outputs": [],
   "source": [
    "df_video_scores = pd.DataFrame(columns=[score.__name__ for score in scores])\n",
    "scores_index = []\n",
    "\n",
    "for i in range(len(sets['Total'])):\n",
    "    # \n",
    "    video_index = sets['Total'][i]\n",
    "    scores_index.append(video_index)\n",
    "    video_name = f'videos/{video_index}.mp4'\n",
    "    row = {}\n",
    "    df_i = df_answer_predict[df_answer_predict['VideoId'] == video_index]\n",
    "    for score in scores:\n",
    "        if score is roc_auc_score:\n",
    "            value = score(df_i['Answer'], df_i['Predict'])\n",
    "        else:\n",
    "            value = score(df_i['Answer'], df_i['Predict'] >= cutoff)\n",
    "        row.update({score.__name__ : value})\n",
    "    row = pd.DataFrame([row], index=[video_name])\n",
    "    df_video_scores = pd.concat([df_video_scores, row])\n",
    "\n",
    "scores_index = np.array(scores_index)\n",
    "scores_index_train = np.isin(scores_index, sets['Train'])\n",
    "scores_index_test = np.isin(scores_index, sets['Test'])\n",
    "\n",
    "#training_style = pd.Series('background-color : lightblue', index=df_video_scores.index[np.isin(scores_index, sets['Train'])])\n",
    "#df_video_scores.style.apply(lambda s: training_style)"
   ]
  },
  {
   "cell_type": "code",
   "execution_count": 24,
   "id": "8360e2b2",
   "metadata": {},
   "outputs": [],
   "source": [
    "import seaborn as sns\n",
    "sns.set_theme()"
   ]
  },
  {
   "cell_type": "code",
   "execution_count": 25,
   "id": "41ef0757",
   "metadata": {},
   "outputs": [
    {
     "data": {
      "image/png": "[encoded data removed]",
      "text/plain": [
       "<Figure size 1200x600 with 2 Axes>"
      ]
     },
     "metadata": {},
     "output_type": "display_data"
    }
   ],
   "source": [
    "plt.figure(figsize=(12, 6))\n",
    "plt.suptitle(\"{0}\\nScores:\".format(model_path))\n",
    "labels = np.array(df_video_scores.index).astype(str)\n",
    "labels[scores_index_train] = np.char.add(labels[scores_index_train], '*')\n",
    "sns.heatmap(df_video_scores, vmin=0, vmax=1, fmt=\".4f\", annot=True, linewidth=.5, yticklabels=labels)\n",
    "plt.savefig(raport_scores_path)"
   ]
  },
  {
   "cell_type": "markdown",
   "id": "189cdfe5",
   "metadata": {},
   "source": [
    "The model works well with non-Rammstein clips."
   ]
  },
  {
   "cell_type": "markdown",
   "id": "7da2bb38",
   "metadata": {},
   "source": [
    "## Draw Raport book"
   ]
  },
  {
   "cell_type": "code",
   "execution_count": 26,
   "id": "dd5f81bc",
   "metadata": {},
   "outputs": [],
   "source": [
    "import img2pdf"
   ]
  },
  {
   "cell_type": "code",
   "execution_count": 27,
   "id": "57fca3c1",
   "metadata": {
    "scrolled": false
   },
   "outputs": [
    {
     "name": "stdout",
     "output_type": "stream",
     "text": [
      "The raport should contain 124 pages.\n"
     ]
    }
   ],
   "source": [
    "pages = np.concatenate([[raport_scores_path], hist_filenames, wrong_cuts_filenames, wrong_noncuts_filenames])\n",
    "print(\"The raport should contain {0} pages.\".format(len(pages)))"
   ]
  },
  {
   "cell_type": "code",
   "execution_count": 28,
   "id": "130ca82b",
   "metadata": {
    "scrolled": true
   },
   "outputs": [
    {
     "name": "stderr",
     "output_type": "stream",
     "text": [
      "Image contains an alpha channel. Computing a separate soft mask (/SMask) image to store transparency in PDF.\n",
      "Image contains an alpha channel. Computing a separate soft mask (/SMask) image to store transparency in PDF.\n",
      "Image contains an alpha channel. Computing a separate soft mask (/SMask) image to store transparency in PDF.\n",
      "Image contains an alpha channel. Computing a separate soft mask (/SMask) image to store transparency in PDF.\n",
      "Image contains an alpha channel. Computing a separate soft mask (/SMask) image to store transparency in PDF.\n",
      "Image contains an alpha channel. Computing a separate soft mask (/SMask) image to store transparency in PDF.\n",
      "Image contains an alpha channel. Computing a separate soft mask (/SMask) image to store transparency in PDF.\n",
      "Image contains an alpha channel. Computing a separate soft mask (/SMask) image to store transparency in PDF.\n",
      "Image contains an alpha channel. Computing a separate soft mask (/SMask) image to store transparency in PDF.\n",
      "Image contains an alpha channel. Computing a separate soft mask (/SMask) image to store transparency in PDF.\n",
      "Image contains an alpha channel. Computing a separate soft mask (/SMask) image to store transparency in PDF.\n",
      "Image contains an alpha channel. Computing a separate soft mask (/SMask) image to store transparency in PDF.\n",
      "Image contains an alpha channel. Computing a separate soft mask (/SMask) image to store transparency in PDF.\n",
      "Image contains an alpha channel. Computing a separate soft mask (/SMask) image to store transparency in PDF.\n",
      "Image contains an alpha channel. Computing a separate soft mask (/SMask) image to store transparency in PDF.\n",
      "Image contains an alpha channel. Computing a separate soft mask (/SMask) image to store transparency in PDF.\n",
      "Image contains an alpha channel. Computing a separate soft mask (/SMask) image to store transparency in PDF.\n",
      "Image contains an alpha channel. Computing a separate soft mask (/SMask) image to store transparency in PDF.\n",
      "Image contains an alpha channel. Computing a separate soft mask (/SMask) image to store transparency in PDF.\n",
      "Image contains an alpha channel. Computing a separate soft mask (/SMask) image to store transparency in PDF.\n",
      "Image contains an alpha channel. Computing a separate soft mask (/SMask) image to store transparency in PDF.\n",
      "Image contains an alpha channel. Computing a separate soft mask (/SMask) image to store transparency in PDF.\n",
      "Image contains an alpha channel. Computing a separate soft mask (/SMask) image to store transparency in PDF.\n",
      "Image contains an alpha channel. Computing a separate soft mask (/SMask) image to store transparency in PDF.\n",
      "Image contains an alpha channel. Computing a separate soft mask (/SMask) image to store transparency in PDF.\n",
      "Image contains an alpha channel. Computing a separate soft mask (/SMask) image to store transparency in PDF.\n",
      "Image contains an alpha channel. Computing a separate soft mask (/SMask) image to store transparency in PDF.\n",
      "Image contains an alpha channel. Computing a separate soft mask (/SMask) image to store transparency in PDF.\n",
      "Image contains an alpha channel. Computing a separate soft mask (/SMask) image to store transparency in PDF.\n",
      "Image contains an alpha channel. Computing a separate soft mask (/SMask) image to store transparency in PDF.\n",
      "Image contains an alpha channel. Computing a separate soft mask (/SMask) image to store transparency in PDF.\n",
      "Image contains an alpha channel. Computing a separate soft mask (/SMask) image to store transparency in PDF.\n",
      "Image contains an alpha channel. Computing a separate soft mask (/SMask) image to store transparency in PDF.\n",
      "Image contains an alpha channel. Computing a separate soft mask (/SMask) image to store transparency in PDF.\n",
      "Image contains an alpha channel. Computing a separate soft mask (/SMask) image to store transparency in PDF.\n",
      "Image contains an alpha channel. Computing a separate soft mask (/SMask) image to store transparency in PDF.\n",
      "Image contains an alpha channel. Computing a separate soft mask (/SMask) image to store transparency in PDF.\n",
      "Image contains an alpha channel. Computing a separate soft mask (/SMask) image to store transparency in PDF.\n",
      "Image contains an alpha channel. Computing a separate soft mask (/SMask) image to store transparency in PDF.\n",
      "Image contains an alpha channel. Computing a separate soft mask (/SMask) image to store transparency in PDF.\n",
      "Image contains an alpha channel. Computing a separate soft mask (/SMask) image to store transparency in PDF.\n",
      "Image contains an alpha channel. Computing a separate soft mask (/SMask) image to store transparency in PDF.\n",
      "Image contains an alpha channel. Computing a separate soft mask (/SMask) image to store transparency in PDF.\n",
      "Image contains an alpha channel. Computing a separate soft mask (/SMask) image to store transparency in PDF.\n",
      "Image contains an alpha channel. Computing a separate soft mask (/SMask) image to store transparency in PDF.\n",
      "Image contains an alpha channel. Computing a separate soft mask (/SMask) image to store transparency in PDF.\n",
      "Image contains an alpha channel. Computing a separate soft mask (/SMask) image to store transparency in PDF.\n",
      "Image contains an alpha channel. Computing a separate soft mask (/SMask) image to store transparency in PDF.\n",
      "Image contains an alpha channel. Computing a separate soft mask (/SMask) image to store transparency in PDF.\n",
      "Image contains an alpha channel. Computing a separate soft mask (/SMask) image to store transparency in PDF.\n",
      "Image contains an alpha channel. Computing a separate soft mask (/SMask) image to store transparency in PDF.\n",
      "Image contains an alpha channel. Computing a separate soft mask (/SMask) image to store transparency in PDF.\n",
      "Image contains an alpha channel. Computing a separate soft mask (/SMask) image to store transparency in PDF.\n",
      "Image contains an alpha channel. Computing a separate soft mask (/SMask) image to store transparency in PDF.\n",
      "Image contains an alpha channel. Computing a separate soft mask (/SMask) image to store transparency in PDF.\n",
      "Image contains an alpha channel. Computing a separate soft mask (/SMask) image to store transparency in PDF.\n",
      "Image contains an alpha channel. Computing a separate soft mask (/SMask) image to store transparency in PDF.\n",
      "Image contains an alpha channel. Computing a separate soft mask (/SMask) image to store transparency in PDF.\n",
      "Image contains an alpha channel. Computing a separate soft mask (/SMask) image to store transparency in PDF.\n",
      "Image contains an alpha channel. Computing a separate soft mask (/SMask) image to store transparency in PDF.\n",
      "Image contains an alpha channel. Computing a separate soft mask (/SMask) image to store transparency in PDF.\n",
      "Image contains an alpha channel. Computing a separate soft mask (/SMask) image to store transparency in PDF.\n",
      "Image contains an alpha channel. Computing a separate soft mask (/SMask) image to store transparency in PDF.\n",
      "Image contains an alpha channel. Computing a separate soft mask (/SMask) image to store transparency in PDF.\n",
      "Image contains an alpha channel. Computing a separate soft mask (/SMask) image to store transparency in PDF.\n",
      "Image contains an alpha channel. Computing a separate soft mask (/SMask) image to store transparency in PDF.\n",
      "Image contains an alpha channel. Computing a separate soft mask (/SMask) image to store transparency in PDF.\n",
      "Image contains an alpha channel. Computing a separate soft mask (/SMask) image to store transparency in PDF.\n",
      "Image contains an alpha channel. Computing a separate soft mask (/SMask) image to store transparency in PDF.\n",
      "Image contains an alpha channel. Computing a separate soft mask (/SMask) image to store transparency in PDF.\n",
      "Image contains an alpha channel. Computing a separate soft mask (/SMask) image to store transparency in PDF.\n",
      "Image contains an alpha channel. Computing a separate soft mask (/SMask) image to store transparency in PDF.\n",
      "Image contains an alpha channel. Computing a separate soft mask (/SMask) image to store transparency in PDF.\n",
      "Image contains an alpha channel. Computing a separate soft mask (/SMask) image to store transparency in PDF.\n",
      "Image contains an alpha channel. Computing a separate soft mask (/SMask) image to store transparency in PDF.\n",
      "Image contains an alpha channel. Computing a separate soft mask (/SMask) image to store transparency in PDF.\n"
     ]
    },
    {
     "name": "stderr",
     "output_type": "stream",
     "text": [
      "Image contains an alpha channel. Computing a separate soft mask (/SMask) image to store transparency in PDF.\n",
      "Image contains an alpha channel. Computing a separate soft mask (/SMask) image to store transparency in PDF.\n",
      "Image contains an alpha channel. Computing a separate soft mask (/SMask) image to store transparency in PDF.\n",
      "Image contains an alpha channel. Computing a separate soft mask (/SMask) image to store transparency in PDF.\n",
      "Image contains an alpha channel. Computing a separate soft mask (/SMask) image to store transparency in PDF.\n",
      "Image contains an alpha channel. Computing a separate soft mask (/SMask) image to store transparency in PDF.\n",
      "Image contains an alpha channel. Computing a separate soft mask (/SMask) image to store transparency in PDF.\n",
      "Image contains an alpha channel. Computing a separate soft mask (/SMask) image to store transparency in PDF.\n",
      "Image contains an alpha channel. Computing a separate soft mask (/SMask) image to store transparency in PDF.\n",
      "Image contains an alpha channel. Computing a separate soft mask (/SMask) image to store transparency in PDF.\n",
      "Image contains an alpha channel. Computing a separate soft mask (/SMask) image to store transparency in PDF.\n",
      "Image contains an alpha channel. Computing a separate soft mask (/SMask) image to store transparency in PDF.\n",
      "Image contains an alpha channel. Computing a separate soft mask (/SMask) image to store transparency in PDF.\n",
      "Image contains an alpha channel. Computing a separate soft mask (/SMask) image to store transparency in PDF.\n",
      "Image contains an alpha channel. Computing a separate soft mask (/SMask) image to store transparency in PDF.\n",
      "Image contains an alpha channel. Computing a separate soft mask (/SMask) image to store transparency in PDF.\n",
      "Image contains an alpha channel. Computing a separate soft mask (/SMask) image to store transparency in PDF.\n",
      "Image contains an alpha channel. Computing a separate soft mask (/SMask) image to store transparency in PDF.\n",
      "Image contains an alpha channel. Computing a separate soft mask (/SMask) image to store transparency in PDF.\n",
      "Image contains an alpha channel. Computing a separate soft mask (/SMask) image to store transparency in PDF.\n",
      "Image contains an alpha channel. Computing a separate soft mask (/SMask) image to store transparency in PDF.\n",
      "Image contains an alpha channel. Computing a separate soft mask (/SMask) image to store transparency in PDF.\n",
      "Image contains an alpha channel. Computing a separate soft mask (/SMask) image to store transparency in PDF.\n",
      "Image contains an alpha channel. Computing a separate soft mask (/SMask) image to store transparency in PDF.\n",
      "Image contains an alpha channel. Computing a separate soft mask (/SMask) image to store transparency in PDF.\n",
      "Image contains an alpha channel. Computing a separate soft mask (/SMask) image to store transparency in PDF.\n",
      "Image contains an alpha channel. Computing a separate soft mask (/SMask) image to store transparency in PDF.\n",
      "Image contains an alpha channel. Computing a separate soft mask (/SMask) image to store transparency in PDF.\n",
      "Image contains an alpha channel. Computing a separate soft mask (/SMask) image to store transparency in PDF.\n",
      "Image contains an alpha channel. Computing a separate soft mask (/SMask) image to store transparency in PDF.\n",
      "Image contains an alpha channel. Computing a separate soft mask (/SMask) image to store transparency in PDF.\n",
      "Image contains an alpha channel. Computing a separate soft mask (/SMask) image to store transparency in PDF.\n",
      "Image contains an alpha channel. Computing a separate soft mask (/SMask) image to store transparency in PDF.\n",
      "Image contains an alpha channel. Computing a separate soft mask (/SMask) image to store transparency in PDF.\n",
      "Image contains an alpha channel. Computing a separate soft mask (/SMask) image to store transparency in PDF.\n",
      "Image contains an alpha channel. Computing a separate soft mask (/SMask) image to store transparency in PDF.\n",
      "Image contains an alpha channel. Computing a separate soft mask (/SMask) image to store transparency in PDF.\n",
      "Image contains an alpha channel. Computing a separate soft mask (/SMask) image to store transparency in PDF.\n",
      "Image contains an alpha channel. Computing a separate soft mask (/SMask) image to store transparency in PDF.\n",
      "Image contains an alpha channel. Computing a separate soft mask (/SMask) image to store transparency in PDF.\n",
      "Image contains an alpha channel. Computing a separate soft mask (/SMask) image to store transparency in PDF.\n",
      "Image contains an alpha channel. Computing a separate soft mask (/SMask) image to store transparency in PDF.\n",
      "Image contains an alpha channel. Computing a separate soft mask (/SMask) image to store transparency in PDF.\n",
      "Image contains an alpha channel. Computing a separate soft mask (/SMask) image to store transparency in PDF.\n",
      "Image contains an alpha channel. Computing a separate soft mask (/SMask) image to store transparency in PDF.\n",
      "Image contains an alpha channel. Computing a separate soft mask (/SMask) image to store transparency in PDF.\n",
      "Image contains an alpha channel. Computing a separate soft mask (/SMask) image to store transparency in PDF.\n",
      "Image contains an alpha channel. Computing a separate soft mask (/SMask) image to store transparency in PDF.\n"
     ]
    }
   ],
   "source": [
    "with open(raport_path, \"wb\") as file:\n",
    "    pdf_bytes = img2pdf.convert(list(pages))\n",
    "    file.write(pdf_bytes)"
   ]
  },
  {
   "cell_type": "markdown",
   "id": "1991e8f9",
   "metadata": {},
   "source": [
    "# Analyze metrics on model"
   ]
  },
  {
   "cell_type": "markdown",
   "id": "36d25029",
   "metadata": {},
   "source": [
    "__Reminder:__\n",
    "\n",
    "$$\n",
    "    Accuracy = \\cfrac{TP + TN}{TP + TN + FP + FN}\n",
    "$$\n",
    "\n",
    "$$\n",
    "    Precision = \\cfrac{TP}{TP + FP}\n",
    "$$\n",
    "\n",
    "$$\n",
    "    Recall = \\cfrac{TP}{TP + FN}\n",
    "$$"
   ]
  },
  {
   "cell_type": "code",
   "execution_count": 29,
   "id": "0f9b99ff",
   "metadata": {},
   "outputs": [],
   "source": [
    "parameters = np.arange(0, 1.05, 0.04)"
   ]
  },
  {
   "cell_type": "code",
   "execution_count": 30,
   "id": "28acab27",
   "metadata": {
    "scrolled": false
   },
   "outputs": [
    {
     "name": "stderr",
     "output_type": "stream",
     "text": [
      "/home/fedora/.local/lib/python3.11/site-packages/sklearn/metrics/_classification.py:1471: UndefinedMetricWarning: Precision is ill-defined and being set to 0.0 due to no predicted samples. Use `zero_division` parameter to control this behavior.\n",
      "  _warn_prf(average, modifier, msg_start, len(result))\n",
      "/home/fedora/.local/lib/python3.11/site-packages/sklearn/metrics/_classification.py:1471: UndefinedMetricWarning: Precision is ill-defined and being set to 0.0 due to no predicted samples. Use `zero_division` parameter to control this behavior.\n",
      "  _warn_prf(average, modifier, msg_start, len(result))\n",
      "/home/fedora/.local/lib/python3.11/site-packages/sklearn/metrics/_classification.py:1471: UndefinedMetricWarning: Precision is ill-defined and being set to 0.0 due to no predicted samples. Use `zero_division` parameter to control this behavior.\n",
      "  _warn_prf(average, modifier, msg_start, len(result))\n",
      "/tmp/ipykernel_79126/3392748985.py:17: UserWarning: Matplotlib is currently using module://matplotlib_inline.backend_inline, which is a non-GUI backend, so cannot show the figure.\n",
      "  fig.show()\n"
     ]
    },
    {
     "data": {
      "image/png": "[encoded data removed]",
      "text/plain": [
       "<Figure size 1500x500 with 3 Axes>"
      ]
     },
     "metadata": {},
     "output_type": "display_data"
    }
   ],
   "source": [
    "fig, axs = plt.subplots(1, len(sets))\n",
    "fig.suptitle('precision, recall VS parameter')\n",
    "fig.set_figheight(5)\n",
    "fig.set_figwidth(5*len(sets))\n",
    "\n",
    "for i in range(len(sets)):\n",
    "    key = list(sets.keys())[i]\n",
    "    axs[i].set_title(key)\n",
    "    df_ap = df_answer_predict[np.isin(df_answer_predict['VideoId'], sets[key])]\n",
    "    precisions = [precision_score(df_ap['Answer'], df_ap['Predict'] >= parameter) for parameter in parameters]\n",
    "    recalls = [recall_score(df_ap['Answer'], df_ap['Predict'] >= parameter) for parameter in parameters]\n",
    "    \n",
    "    axs[i].plot(parameters, precisions, label='Precision', linewidth=5)\n",
    "    axs[i].plot(parameters, recalls, label='Recall', linewidth=3)\n",
    "    axs[i].grid(True)\n",
    "    axs[i].legend()\n",
    "fig.show()"
   ]
  },
  {
   "cell_type": "markdown",
   "id": "724eb53b",
   "metadata": {},
   "source": [
    "Here we see, that precision and recall does not really depend from parameter.\n",
    "\n",
    "Let's see the ROC-curve"
   ]
  },
  {
   "cell_type": "markdown",
   "id": "40f92e2a",
   "metadata": {},
   "source": [
    "# ROC-curve"
   ]
  },
  {
   "cell_type": "code",
   "execution_count": 31,
   "id": "78a02b00",
   "metadata": {},
   "outputs": [
    {
     "name": "stderr",
     "output_type": "stream",
     "text": [
      "/tmp/ipykernel_79126/4263494313.py:15: UserWarning: Matplotlib is currently using module://matplotlib_inline.backend_inline, which is a non-GUI backend, so cannot show the figure.\n",
      "  fig.show()\n"
     ]
    },
    {
     "data": {
      "image/png": "[encoded data removed]",
      "text/plain": [
       "<Figure size 1500x500 with 3 Axes>"
      ]
     },
     "metadata": {},
     "output_type": "display_data"
    }
   ],
   "source": [
    "fig, axs = plt.subplots(1, len(sets))\n",
    "fig.suptitle('ROC-curve')\n",
    "fig.set_figheight(5)\n",
    "fig.set_figwidth(5*len(sets))\n",
    "\n",
    "for i in range(len(sets)):\n",
    "    key = list(sets.keys())[i]\n",
    "    axs[i].set_title(key)\n",
    "    df_ap = df_answer_predict[np.isin(df_answer_predict['VideoId'], sets[key])]\n",
    "    fpr, tpr, thresholds = roc_curve(df_ap['Answer'], df_ap['Predict'], pos_label=1)\n",
    "    axs[i].plot(fpr, tpr, linewidth=4, \n",
    "                label = 'ROC-AUC score = {0:.4f}'.format(roc_auc_score(df_ap['Answer'], df_ap['Predict'])))\n",
    "    axs[i].grid(True)\n",
    "    axs[i].legend()\n",
    "fig.show()"
   ]
  },
  {
   "cell_type": "markdown",
   "id": "6bb9c6e9",
   "metadata": {},
   "source": [
    "Surprisingly I got a ROC curve with the great predictive power!"
   ]
  },
  {
   "cell_type": "markdown",
   "id": "e0d38ae2",
   "metadata": {},
   "source": [
    "# Conclusion"
   ]
  },
  {
   "cell_type": "code",
   "execution_count": 32,
   "id": "8f68ee87",
   "metadata": {},
   "outputs": [],
   "source": [
    "scores = [accuracy_score, precision_score, recall_score, roc_auc_score]"
   ]
  },
  {
   "cell_type": "code",
   "execution_count": 33,
   "id": "ed1e3d5b",
   "metadata": {},
   "outputs": [
    {
     "name": "stdout",
     "output_type": "stream",
     "text": [
      "cutoff parameter is 0.5\n"
     ]
    },
    {
     "data": {
      "text/html": [
       "<div>\n",
       "<style scoped>\n",
       "    .dataframe tbody tr th:only-of-type {\n",
       "        vertical-align: middle;\n",
       "    }\n",
       "\n",
       "    .dataframe tbody tr th {\n",
       "        vertical-align: top;\n",
       "    }\n",
       "\n",
       "    .dataframe thead th {\n",
       "        text-align: right;\n",
       "    }\n",
       "</style>\n",
       "<table border=\"1\" class=\"dataframe\">\n",
       "  <thead>\n",
       "    <tr style=\"text-align: right;\">\n",
       "      <th></th>\n",
       "      <th>accuracy_score</th>\n",
       "      <th>precision_score</th>\n",
       "      <th>recall_score</th>\n",
       "      <th>roc_auc_score</th>\n",
       "    </tr>\n",
       "  </thead>\n",
       "  <tbody>\n",
       "    <tr>\n",
       "      <th>Total</th>\n",
       "      <td>0.992224</td>\n",
       "      <td>0.765752</td>\n",
       "      <td>0.983681</td>\n",
       "      <td>0.989996</td>\n",
       "    </tr>\n",
       "    <tr>\n",
       "      <th>Train</th>\n",
       "      <td>0.992564</td>\n",
       "      <td>0.783019</td>\n",
       "      <td>0.994553</td>\n",
       "      <td>0.994622</td>\n",
       "    </tr>\n",
       "    <tr>\n",
       "      <th>Test</th>\n",
       "      <td>0.991798</td>\n",
       "      <td>0.740648</td>\n",
       "      <td>0.967427</td>\n",
       "      <td>0.983102</td>\n",
       "    </tr>\n",
       "  </tbody>\n",
       "</table>\n",
       "</div>"
      ],
      "text/plain": [
       "       accuracy_score  precision_score  recall_score  roc_auc_score\n",
       "Total        0.992224         0.765752      0.983681       0.989996\n",
       "Train        0.992564         0.783019      0.994553       0.994622\n",
       "Test         0.991798         0.740648      0.967427       0.983102"
      ]
     },
     "execution_count": 33,
     "metadata": {},
     "output_type": "execute_result"
    }
   ],
   "source": [
    "cutoff = 0.5\n",
    "print(f'cutoff parameter is {cutoff}')\n",
    "\n",
    "values = np.zeros([len(sets), len(scores)])\n",
    "for i in range(len(sets)):\n",
    "    key = list(sets.keys())[i]\n",
    "    df_ap = df_answer_predict[np.isin(df_answer_predict['VideoId'], sets[key])]\n",
    "    for k in range(len(scores)):\n",
    "        score = scores[k]\n",
    "        if score is roc_auc_score:\n",
    "            values[i, k] = score(df_ap['Answer'], df_ap['Predict'])\n",
    "        else:\n",
    "            values[i, k] = score(df_ap['Answer'], df_ap['Predict'] >= cutoff)\n",
    "        \n",
    "df_scores0 = pd.DataFrame(values, columns=[score.__name__ for score in scores], index=[key for key in sets])\n",
    "df_scores0"
   ]
  },
  {
   "cell_type": "code",
   "execution_count": 34,
   "id": "44514364",
   "metadata": {},
   "outputs": [
    {
     "name": "stdout",
     "output_type": "stream",
     "text": [
      "cutoff parameter is 1\n"
     ]
    },
    {
     "data": {
      "text/html": [
       "<div>\n",
       "<style scoped>\n",
       "    .dataframe tbody tr th:only-of-type {\n",
       "        vertical-align: middle;\n",
       "    }\n",
       "\n",
       "    .dataframe tbody tr th {\n",
       "        vertical-align: top;\n",
       "    }\n",
       "\n",
       "    .dataframe thead th {\n",
       "        text-align: right;\n",
       "    }\n",
       "</style>\n",
       "<table border=\"1\" class=\"dataframe\">\n",
       "  <thead>\n",
       "    <tr style=\"text-align: right;\">\n",
       "      <th></th>\n",
       "      <th>accuracy_score</th>\n",
       "      <th>precision_score</th>\n",
       "      <th>recall_score</th>\n",
       "      <th>roc_auc_score</th>\n",
       "    </tr>\n",
       "  </thead>\n",
       "  <tbody>\n",
       "    <tr>\n",
       "      <th>Total</th>\n",
       "      <td>0.993168</td>\n",
       "      <td>0.789722</td>\n",
       "      <td>0.983029</td>\n",
       "      <td>0.989996</td>\n",
       "    </tr>\n",
       "    <tr>\n",
       "      <th>Train</th>\n",
       "      <td>0.993717</td>\n",
       "      <td>0.811388</td>\n",
       "      <td>0.993464</td>\n",
       "      <td>0.994622</td>\n",
       "    </tr>\n",
       "    <tr>\n",
       "      <th>Test</th>\n",
       "      <td>0.992482</td>\n",
       "      <td>0.758621</td>\n",
       "      <td>0.967427</td>\n",
       "      <td>0.983102</td>\n",
       "    </tr>\n",
       "  </tbody>\n",
       "</table>\n",
       "</div>"
      ],
      "text/plain": [
       "       accuracy_score  precision_score  recall_score  roc_auc_score\n",
       "Total        0.993168         0.789722      0.983029       0.989996\n",
       "Train        0.993717         0.811388      0.993464       0.994622\n",
       "Test         0.992482         0.758621      0.967427       0.983102"
      ]
     },
     "execution_count": 34,
     "metadata": {},
     "output_type": "execute_result"
    }
   ],
   "source": [
    "cutoff = 1\n",
    "print(f'cutoff parameter is {cutoff}')\n",
    "\n",
    "values = np.zeros([len(sets), len(scores)])\n",
    "for i in range(len(sets)):\n",
    "    key = list(sets.keys())[i]\n",
    "    df_ap = df_answer_predict[np.isin(df_answer_predict['VideoId'], sets[key])]\n",
    "    for k in range(len(scores)):\n",
    "        score = scores[k]\n",
    "        if score is roc_auc_score:\n",
    "            values[i, k] = score(df_ap['Answer'], df_ap['Predict'])\n",
    "        else:\n",
    "            values[i, k] = score(df_ap['Answer'], df_ap['Predict'] >= cutoff)\n",
    "        \n",
    "df_scores1 = pd.DataFrame(values, columns=[score.__name__ for score in scores], index=[key for key in sets])\n",
    "df_scores1"
   ]
  },
  {
   "cell_type": "code",
   "execution_count": 35,
   "id": "fc4aed8e",
   "metadata": {},
   "outputs": [
    {
     "name": "stdout",
     "output_type": "stream",
     "text": [
      "Increase:\n"
     ]
    },
    {
     "data": {
      "text/html": [
       "<div>\n",
       "<style scoped>\n",
       "    .dataframe tbody tr th:only-of-type {\n",
       "        vertical-align: middle;\n",
       "    }\n",
       "\n",
       "    .dataframe tbody tr th {\n",
       "        vertical-align: top;\n",
       "    }\n",
       "\n",
       "    .dataframe thead th {\n",
       "        text-align: right;\n",
       "    }\n",
       "</style>\n",
       "<table border=\"1\" class=\"dataframe\">\n",
       "  <thead>\n",
       "    <tr style=\"text-align: right;\">\n",
       "      <th></th>\n",
       "      <th>accuracy_score</th>\n",
       "      <th>precision_score</th>\n",
       "      <th>recall_score</th>\n",
       "      <th>roc_auc_score</th>\n",
       "    </tr>\n",
       "  </thead>\n",
       "  <tbody>\n",
       "    <tr>\n",
       "      <th>Total</th>\n",
       "      <td>0.000944</td>\n",
       "      <td>0.023970</td>\n",
       "      <td>-0.000653</td>\n",
       "      <td>0.0</td>\n",
       "    </tr>\n",
       "    <tr>\n",
       "      <th>Train</th>\n",
       "      <td>0.001153</td>\n",
       "      <td>0.028369</td>\n",
       "      <td>-0.001089</td>\n",
       "      <td>0.0</td>\n",
       "    </tr>\n",
       "    <tr>\n",
       "      <th>Test</th>\n",
       "      <td>0.000683</td>\n",
       "      <td>0.017972</td>\n",
       "      <td>0.000000</td>\n",
       "      <td>0.0</td>\n",
       "    </tr>\n",
       "  </tbody>\n",
       "</table>\n",
       "</div>"
      ],
      "text/plain": [
       "       accuracy_score  precision_score  recall_score  roc_auc_score\n",
       "Total        0.000944         0.023970     -0.000653            0.0\n",
       "Train        0.001153         0.028369     -0.001089            0.0\n",
       "Test         0.000683         0.017972      0.000000            0.0"
      ]
     },
     "execution_count": 35,
     "metadata": {},
     "output_type": "execute_result"
    }
   ],
   "source": [
    "print('Increase:')\n",
    "df_scores1 - df_scores0"
   ]
  },
  {
   "cell_type": "markdown",
   "id": "c1eff60a",
   "metadata": {},
   "source": [
    "If increase cutoff parameter from 0.5 to 1, then accuracy and precision score will grow on test set, and recall score will decrease on test set but will not change on the test set."
   ]
  },
  {
   "cell_type": "markdown",
   "id": "6f0f430a",
   "metadata": {},
   "source": [
    "# All Models Scores"
   ]
  },
  {
   "cell_type": "code",
   "execution_count": 36,
   "id": "477d6d6f",
   "metadata": {},
   "outputs": [
    {
     "data": {
      "text/html": [
       "<div>\n",
       "<style scoped>\n",
       "    .dataframe tbody tr th:only-of-type {\n",
       "        vertical-align: middle;\n",
       "    }\n",
       "\n",
       "    .dataframe tbody tr th {\n",
       "        vertical-align: top;\n",
       "    }\n",
       "\n",
       "    .dataframe thead th {\n",
       "        text-align: right;\n",
       "    }\n",
       "</style>\n",
       "<table border=\"1\" class=\"dataframe\">\n",
       "  <thead>\n",
       "    <tr style=\"text-align: right;\">\n",
       "      <th></th>\n",
       "      <th>model path</th>\n",
       "      <th>Total accuracy_score</th>\n",
       "      <th>Total precision_score</th>\n",
       "      <th>Total recall_score</th>\n",
       "      <th>Total roc_auc_score</th>\n",
       "      <th>Train accuracy_score</th>\n",
       "      <th>Train precision_score</th>\n",
       "      <th>Train recall_score</th>\n",
       "      <th>Train roc_auc_score</th>\n",
       "      <th>Test accuracy_score</th>\n",
       "      <th>Test precision_score</th>\n",
       "      <th>Test recall_score</th>\n",
       "      <th>Test roc_auc_score</th>\n",
       "    </tr>\n",
       "  </thead>\n",
       "  <tbody>\n",
       "    <tr>\n",
       "      <th>0</th>\n",
       "      <td>models/2023-12-09-01-39.h5</td>\n",
       "      <td>0.993168</td>\n",
       "      <td>0.789722</td>\n",
       "      <td>0.983029</td>\n",
       "      <td>0.989996</td>\n",
       "      <td>0.993717</td>\n",
       "      <td>0.811388</td>\n",
       "      <td>0.993464</td>\n",
       "      <td>0.994622</td>\n",
       "      <td>0.992482</td>\n",
       "      <td>0.758621</td>\n",
       "      <td>0.967427</td>\n",
       "      <td>0.983102</td>\n",
       "    </tr>\n",
       "  </tbody>\n",
       "</table>\n",
       "</div>"
      ],
      "text/plain": [
       "                   model path  Total accuracy_score  Total precision_score  \\\n",
       "0  models/2023-12-09-01-39.h5              0.993168               0.789722   \n",
       "\n",
       "   Total recall_score  Total roc_auc_score  Train accuracy_score  \\\n",
       "0            0.983029             0.989996              0.993717   \n",
       "\n",
       "   Train precision_score  Train recall_score  Train roc_auc_score  \\\n",
       "0               0.811388            0.993464             0.994622   \n",
       "\n",
       "   Test accuracy_score  Test precision_score  Test recall_score  \\\n",
       "0             0.992482              0.758621           0.967427   \n",
       "\n",
       "   Test roc_auc_score  \n",
       "0            0.983102  "
      ]
     },
     "execution_count": 36,
     "metadata": {},
     "output_type": "execute_result"
    }
   ],
   "source": [
    "row = {'model path' : model_path}\n",
    "for i in df_scores1.index:\n",
    "    for score in df_scores1.columns:\n",
    "        row.update({i + ' ' + score : df_scores1.loc[i, score]})\n",
    "row = pd.DataFrame([row])\n",
    "row"
   ]
  },
  {
   "cell_type": "code",
   "execution_count": 37,
   "id": "64029376",
   "metadata": {},
   "outputs": [],
   "source": [
    "try:\n",
    "    df_model_scores = pd.read_csv('model_scores.csv')\n",
    "except FileNotFoundError:\n",
    "    df_model_scores = pd.DataFrame(columns=row.columns)\n",
    "df_model_scores = df_model_scores[df_model_scores['model path'] != model_path]"
   ]
  },
  {
   "cell_type": "code",
   "execution_count": 38,
   "id": "98e9ba2b",
   "metadata": {},
   "outputs": [
    {
     "data": {
      "text/html": [
       "<style type=\"text/css\">\n",
       "#T_9c09f_row3_col0, #T_9c09f_row3_col1, #T_9c09f_row3_col2, #T_9c09f_row3_col3, #T_9c09f_row3_col4, #T_9c09f_row3_col5, #T_9c09f_row3_col6, #T_9c09f_row3_col7, #T_9c09f_row3_col8, #T_9c09f_row3_col9, #T_9c09f_row3_col10, #T_9c09f_row3_col11, #T_9c09f_row3_col12 {\n",
       "  background-color: yellow;\n",
       "}\n",
       "</style>\n",
       "<table id=\"T_9c09f\">\n",
       "  <thead>\n",
       "    <tr>\n",
       "      <th class=\"blank level0\" >&nbsp;</th>\n",
       "      <th id=\"T_9c09f_level0_col0\" class=\"col_heading level0 col0\" >model path</th>\n",
       "      <th id=\"T_9c09f_level0_col1\" class=\"col_heading level0 col1\" >Total accuracy_score</th>\n",
       "      <th id=\"T_9c09f_level0_col2\" class=\"col_heading level0 col2\" >Total precision_score</th>\n",
       "      <th id=\"T_9c09f_level0_col3\" class=\"col_heading level0 col3\" >Total recall_score</th>\n",
       "      <th id=\"T_9c09f_level0_col4\" class=\"col_heading level0 col4\" >Total roc_auc_score</th>\n",
       "      <th id=\"T_9c09f_level0_col5\" class=\"col_heading level0 col5\" >Train accuracy_score</th>\n",
       "      <th id=\"T_9c09f_level0_col6\" class=\"col_heading level0 col6\" >Train precision_score</th>\n",
       "      <th id=\"T_9c09f_level0_col7\" class=\"col_heading level0 col7\" >Train recall_score</th>\n",
       "      <th id=\"T_9c09f_level0_col8\" class=\"col_heading level0 col8\" >Train roc_auc_score</th>\n",
       "      <th id=\"T_9c09f_level0_col9\" class=\"col_heading level0 col9\" >Test accuracy_score</th>\n",
       "      <th id=\"T_9c09f_level0_col10\" class=\"col_heading level0 col10\" >Test precision_score</th>\n",
       "      <th id=\"T_9c09f_level0_col11\" class=\"col_heading level0 col11\" >Test recall_score</th>\n",
       "      <th id=\"T_9c09f_level0_col12\" class=\"col_heading level0 col12\" >Test roc_auc_score</th>\n",
       "    </tr>\n",
       "  </thead>\n",
       "  <tbody>\n",
       "    <tr>\n",
       "      <th id=\"T_9c09f_level0_row0\" class=\"row_heading level0 row0\" >0</th>\n",
       "      <td id=\"T_9c09f_row0_col0\" class=\"data row0 col0\" >models/2023-12-03-14-01.h5</td>\n",
       "      <td id=\"T_9c09f_row0_col1\" class=\"data row0 col1\" >0.976366</td>\n",
       "      <td id=\"T_9c09f_row0_col2\" class=\"data row0 col2\" >0.509370</td>\n",
       "      <td id=\"T_9c09f_row0_col3\" class=\"data row0 col3\" >0.975849</td>\n",
       "      <td id=\"T_9c09f_row0_col4\" class=\"data row0 col4\" >0.976478</td>\n",
       "      <td id=\"T_9c09f_row0_col5\" class=\"data row0 col5\" >0.987477</td>\n",
       "      <td id=\"T_9c09f_row0_col6\" class=\"data row0 col6\" >0.718982</td>\n",
       "      <td id=\"T_9c09f_row0_col7\" class=\"data row0 col7\" >0.986900</td>\n",
       "      <td id=\"T_9c09f_row0_col8\" class=\"data row0 col8\" >0.988537</td>\n",
       "      <td id=\"T_9c09f_row0_col9\" class=\"data row0 col9\" >0.970381</td>\n",
       "      <td id=\"T_9c09f_row0_col10\" class=\"data row0 col10\" >0.410141</td>\n",
       "      <td id=\"T_9c09f_row0_col11\" class=\"data row0 col11\" >0.966864</td>\n",
       "      <td id=\"T_9c09f_row0_col12\" class=\"data row0 col12\" >0.968221</td>\n",
       "    </tr>\n",
       "    <tr>\n",
       "      <th id=\"T_9c09f_level0_row1\" class=\"row_heading level0 row1\" >1</th>\n",
       "      <td id=\"T_9c09f_row1_col0\" class=\"data row1 col0\" >models/2023-12-03-17-34.h5</td>\n",
       "      <td id=\"T_9c09f_row1_col1\" class=\"data row1 col1\" >0.977663</td>\n",
       "      <td id=\"T_9c09f_row1_col2\" class=\"data row1 col2\" >0.523876</td>\n",
       "      <td id=\"T_9c09f_row1_col3\" class=\"data row1 col3\" >0.973890</td>\n",
       "      <td id=\"T_9c09f_row1_col4\" class=\"data row1 col4\" >0.978355</td>\n",
       "      <td id=\"T_9c09f_row1_col5\" class=\"data row1 col5\" >0.987386</td>\n",
       "      <td id=\"T_9c09f_row1_col6\" class=\"data row1 col6\" >0.716088</td>\n",
       "      <td id=\"T_9c09f_row1_col7\" class=\"data row1 col7\" >0.991266</td>\n",
       "      <td id=\"T_9c09f_row1_col8\" class=\"data row1 col8\" >0.992805</td>\n",
       "      <td id=\"T_9c09f_row1_col9\" class=\"data row1 col9\" >0.972425</td>\n",
       "      <td id=\"T_9c09f_row1_col10\" class=\"data row1 col10\" >0.427517</td>\n",
       "      <td id=\"T_9c09f_row1_col11\" class=\"data row1 col11\" >0.959763</td>\n",
       "      <td id=\"T_9c09f_row1_col12\" class=\"data row1 col12\" >0.967901</td>\n",
       "    </tr>\n",
       "    <tr>\n",
       "      <th id=\"T_9c09f_level0_row2\" class=\"row_heading level0 row2\" >2</th>\n",
       "      <td id=\"T_9c09f_row2_col0\" class=\"data row2 col0\" >models/2023-12-04-12-01.h5</td>\n",
       "      <td id=\"T_9c09f_row2_col1\" class=\"data row2 col1\" >0.985887</td>\n",
       "      <td id=\"T_9c09f_row2_col2\" class=\"data row2 col2\" >0.640328</td>\n",
       "      <td id=\"T_9c09f_row2_col3\" class=\"data row2 col3\" >0.968016</td>\n",
       "      <td id=\"T_9c09f_row2_col4\" class=\"data row2 col4\" >0.980053</td>\n",
       "      <td id=\"T_9c09f_row2_col5\" class=\"data row2 col5\" >0.992733</td>\n",
       "      <td id=\"T_9c09f_row2_col6\" class=\"data row2 col6\" >0.830000</td>\n",
       "      <td id=\"T_9c09f_row2_col7\" class=\"data row2 col7\" >0.966521</td>\n",
       "      <td id=\"T_9c09f_row2_col8\" class=\"data row2 col8\" >0.984118</td>\n",
       "      <td id=\"T_9c09f_row2_col9\" class=\"data row2 col9\" >0.982199</td>\n",
       "      <td id=\"T_9c09f_row2_col10\" class=\"data row2 col10\" >0.540237</td>\n",
       "      <td id=\"T_9c09f_row2_col11\" class=\"data row2 col11\" >0.969231</td>\n",
       "      <td id=\"T_9c09f_row2_col12\" class=\"data row2 col12\" >0.977797</td>\n",
       "    </tr>\n",
       "    <tr>\n",
       "      <th id=\"T_9c09f_level0_row3\" class=\"row_heading level0 row3\" >4</th>\n",
       "      <td id=\"T_9c09f_row3_col0\" class=\"data row3 col0\" >models/2023-12-09-01-39.h5</td>\n",
       "      <td id=\"T_9c09f_row3_col1\" class=\"data row3 col1\" >0.993168</td>\n",
       "      <td id=\"T_9c09f_row3_col2\" class=\"data row3 col2\" >0.789722</td>\n",
       "      <td id=\"T_9c09f_row3_col3\" class=\"data row3 col3\" >0.983029</td>\n",
       "      <td id=\"T_9c09f_row3_col4\" class=\"data row3 col4\" >0.989996</td>\n",
       "      <td id=\"T_9c09f_row3_col5\" class=\"data row3 col5\" >0.993717</td>\n",
       "      <td id=\"T_9c09f_row3_col6\" class=\"data row3 col6\" >0.811388</td>\n",
       "      <td id=\"T_9c09f_row3_col7\" class=\"data row3 col7\" >0.993464</td>\n",
       "      <td id=\"T_9c09f_row3_col8\" class=\"data row3 col8\" >0.994622</td>\n",
       "      <td id=\"T_9c09f_row3_col9\" class=\"data row3 col9\" >0.992482</td>\n",
       "      <td id=\"T_9c09f_row3_col10\" class=\"data row3 col10\" >0.758621</td>\n",
       "      <td id=\"T_9c09f_row3_col11\" class=\"data row3 col11\" >0.967427</td>\n",
       "      <td id=\"T_9c09f_row3_col12\" class=\"data row3 col12\" >0.983102</td>\n",
       "    </tr>\n",
       "    <tr>\n",
       "      <th id=\"T_9c09f_level0_row4\" class=\"row_heading level0 row4\" >3</th>\n",
       "      <td id=\"T_9c09f_row4_col0\" class=\"data row4 col0\" >models/2023-12-09-13-12.h5</td>\n",
       "      <td id=\"T_9c09f_row4_col1\" class=\"data row4 col1\" >0.979423</td>\n",
       "      <td id=\"T_9c09f_row4_col2\" class=\"data row4 col2\" >0.544213</td>\n",
       "      <td id=\"T_9c09f_row4_col3\" class=\"data row4 col3\" >0.988251</td>\n",
       "      <td id=\"T_9c09f_row4_col4\" class=\"data row4 col4\" >0.985193</td>\n",
       "      <td id=\"T_9c09f_row4_col5\" class=\"data row4 col5\" >0.980056</td>\n",
       "      <td id=\"T_9c09f_row4_col6\" class=\"data row4 col6\" >0.570625</td>\n",
       "      <td id=\"T_9c09f_row4_col7\" class=\"data row4 col7\" >0.994553</td>\n",
       "      <td id=\"T_9c09f_row4_col8\" class=\"data row4 col8\" >0.988664</td>\n",
       "      <td id=\"T_9c09f_row4_col9\" class=\"data row4 col9\" >0.978632</td>\n",
       "      <td id=\"T_9c09f_row4_col10\" class=\"data row4 col10\" >0.508460</td>\n",
       "      <td id=\"T_9c09f_row4_col11\" class=\"data row4 col11\" >0.978827</td>\n",
       "      <td id=\"T_9c09f_row4_col12\" class=\"data row4 col12\" >0.980031</td>\n",
       "    </tr>\n",
       "  </tbody>\n",
       "</table>\n"
      ],
      "text/plain": [
       "<pandas.io.formats.style.Styler at 0x7f3f7281cd10>"
      ]
     },
     "execution_count": 38,
     "metadata": {},
     "output_type": "execute_result"
    }
   ],
   "source": [
    "df_model_scores = pd.concat([df_model_scores, row], ignore_index=True)\n",
    "df_model_scores = df_model_scores.drop_duplicates()\n",
    "df_model_scores = df_model_scores.sort_values(by='model path')\n",
    "df_model_scores.to_csv('model_scores.csv', index=False)\n",
    "\n",
    "df_index = df_model_scores[df_model_scores['model path'] == model_path].index.values\n",
    "df_style = pd.Series('background-color : yellow', index=df_index)\n",
    "df_model_scores.style.apply(lambda s: df_style)"
   ]
  },
  {
   "cell_type": "code",
   "execution_count": null,
   "id": "43a3bfe5",
   "metadata": {},
   "outputs": [],
   "source": []
  }
 ],
 "metadata": {
  "kernelspec": {
   "display_name": "Python 3 (ipykernel)",
   "language": "python",
   "name": "python3"
  },
  "language_info": {
   "codemirror_mode": {
    "name": "ipython",
    "version": 3
   },
   "file_extension": ".py",
   "mimetype": "text/x-python",
   "name": "python",
   "nbconvert_exporter": "python",
   "pygments_lexer": "ipython3",
   "version": "3.11.6"
  }
 },
 "nbformat": 4,
 "nbformat_minor": 5
}
