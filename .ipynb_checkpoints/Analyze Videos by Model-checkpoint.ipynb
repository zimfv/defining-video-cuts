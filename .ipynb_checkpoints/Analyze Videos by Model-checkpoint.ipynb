{
 "cells": [
  {
   "cell_type": "code",
   "execution_count": 1,
   "id": "e0a1409a",
   "metadata": {},
   "outputs": [
    {
     "name": "stderr",
     "output_type": "stream",
     "text": [
      "2023-11-22 17:56:16.223739: I tensorflow/tsl/cuda/cudart_stub.cc:28] Could not find cuda drivers on your machine, GPU will not be used.\n",
      "2023-11-22 17:56:16.261656: E tensorflow/compiler/xla/stream_executor/cuda/cuda_dnn.cc:9342] Unable to register cuDNN factory: Attempting to register factory for plugin cuDNN when one has already been registered\n",
      "2023-11-22 17:56:16.261698: E tensorflow/compiler/xla/stream_executor/cuda/cuda_fft.cc:609] Unable to register cuFFT factory: Attempting to register factory for plugin cuFFT when one has already been registered\n",
      "2023-11-22 17:56:16.261731: E tensorflow/compiler/xla/stream_executor/cuda/cuda_blas.cc:1518] Unable to register cuBLAS factory: Attempting to register factory for plugin cuBLAS when one has already been registered\n",
      "2023-11-22 17:56:16.268381: I tensorflow/tsl/cuda/cudart_stub.cc:28] Could not find cuda drivers on your machine, GPU will not be used.\n",
      "2023-11-22 17:56:16.268937: I tensorflow/core/platform/cpu_feature_guard.cc:182] This TensorFlow binary is optimized to use available CPU instructions in performance-critical operations.\n",
      "To enable the following instructions: AVX2 FMA, in other operations, rebuild TensorFlow with the appropriate compiler flags.\n",
      "2023-11-22 17:56:16.984164: W tensorflow/compiler/tf2tensorrt/utils/py_utils.cc:38] TF-TRT Warning: Could not find TensorRT\n"
     ]
    }
   ],
   "source": [
    "import os\n",
    "\n",
    "import numpy as np\n",
    "import tensorflow as tf\n",
    "\n",
    "from mytools import Video, get_cuts"
   ]
  },
  {
   "cell_type": "markdown",
   "id": "9d1408df",
   "metadata": {},
   "source": [
    "# Load model"
   ]
  },
  {
   "cell_type": "code",
   "execution_count": 2,
   "id": "f3f1b36f",
   "metadata": {},
   "outputs": [
    {
     "name": "stdout",
     "output_type": "stream",
     "text": [
      "We a going to upload model models/2023-11-22-17-24.h5\n"
     ]
    }
   ],
   "source": [
    "model_path = 'models'\n",
    "model_files = np.array(os.listdir(model_path))\n",
    "model_files = np.sort(model_files[np.char.find(model_files, '.h5') != -1])\n",
    "model_path = os.path.join(model_path, model_files[-1])\n",
    "print(f'We a going to upload model {model_path}')"
   ]
  },
  {
   "cell_type": "code",
   "execution_count": 3,
   "id": "97b6262f",
   "metadata": {},
   "outputs": [
    {
     "name": "stdout",
     "output_type": "stream",
     "text": [
      "Model: \"sequential\"\n",
      "_________________________________________________________________\n",
      " Layer (type)                Output Shape              Param #   \n",
      "=================================================================\n",
      " conv3d (Conv3D)             (None, 2, 158, 88, 32)    2624      \n",
      "                                                                 \n",
      " max_pooling3d (MaxPooling3  (None, 2, 79, 44, 32)     0         \n",
      " D)                                                              \n",
      "                                                                 \n",
      " conv3d_1 (Conv3D)           (None, 1, 78, 43, 32)     8224      \n",
      "                                                                 \n",
      " max_pooling3d_1 (MaxPoolin  (None, 1, 39, 21, 32)     0         \n",
      " g3D)                                                            \n",
      "                                                                 \n",
      " flatten (Flatten)           (None, 26208)             0         \n",
      "                                                                 \n",
      " dense (Dense)               (None, 256)               6709504   \n",
      "                                                                 \n",
      " dense_1 (Dense)             (None, 1)                 257       \n",
      "                                                                 \n",
      "=================================================================\n",
      "Total params: 6720609 (25.64 MB)\n",
      "Trainable params: 6720609 (25.64 MB)\n",
      "Non-trainable params: 0 (0.00 Byte)\n",
      "_________________________________________________________________\n"
     ]
    }
   ],
   "source": [
    "model = tf.keras.models.load_model(model_path)\n",
    "model.summary()"
   ]
  },
  {
   "cell_type": "code",
   "execution_count": 4,
   "id": "97986a80",
   "metadata": {},
   "outputs": [
    {
     "name": "stdout",
     "output_type": "stream",
     "text": [
      "Model input shape is (4, 160, 90, 3)\n",
      "So video size should be (160, 90)\n"
     ]
    }
   ],
   "source": [
    "input_size = tuple(model.input.shape[1:])\n",
    "video_size = input_size[1], input_size[2]\n",
    "print(f'Model input shape is {input_size}')\n",
    "print(f'So video size should be {video_size}')"
   ]
  },
  {
   "cell_type": "markdown",
   "id": "ec09b5d4",
   "metadata": {},
   "source": [
    "# Analyzer"
   ]
  },
  {
   "cell_type": "code",
   "execution_count": 5,
   "id": "02138d25",
   "metadata": {},
   "outputs": [],
   "source": [
    "video = Video('videos/0.mp4')\n",
    "cuts = get_cuts('timelines/0.kdenlive')"
   ]
  },
  {
   "cell_type": "code",
   "execution_count": 6,
   "id": "75cdd1b2",
   "metadata": {},
   "outputs": [],
   "source": [
    "def predict_cuts(model, video, fill=True, fill_value=0, fill_begin=2, fill_end=1):\n",
    "    \"\"\"\n",
    "    Returns predicted cuts.\n",
    "    \n",
    "    Parameters:\n",
    "    -----------\n",
    "    model : keras model\n",
    "    \n",
    "    video : mytools.Video\n",
    "    \n",
    "    fill : bool\n",
    "        Add values to the begin and end of result\n",
    "    \n",
    "    fill_value : int or bool\n",
    "        Value, which will added to the begin and the end, if fill is True\n",
    "        \n",
    "    fill_begin : int\n",
    "        Number of added values to begin\n",
    "        \n",
    "    fill_end : int\n",
    "        Number of added values to end\n",
    "    \n",
    "    Returns:\n",
    "    --------\n",
    "    res : np.array\n",
    "    \"\"\"\n",
    "    input_size = tuple(model.input.shape[1:])\n",
    "    video_size = input_size[1], input_size[2]\n",
    "    fragment_length = input_size[0]\n",
    "    res = []\n",
    "    # Make here loop of video fragments length 4 (fragment_length) and add predicted value every step\n",
    "    pass\n",
    "    \n",
    "    if fill:\n",
    "        res = np.concatenate([np.ones(fill_begin)*fill_value, res, np.ones(fill_end)*fill_value])\n",
    "    return res"
   ]
  },
  {
   "cell_type": "code",
   "execution_count": 7,
   "id": "d46c64f2",
   "metadata": {},
   "outputs": [
    {
     "data": {
      "text/plain": [
       "array([0., 0., 0.])"
      ]
     },
     "execution_count": 7,
     "metadata": {},
     "output_type": "execute_result"
    }
   ],
   "source": [
    "predict_cuts(model, video)"
   ]
  },
  {
   "cell_type": "code",
   "execution_count": null,
   "id": "c2bdf04d",
   "metadata": {},
   "outputs": [],
   "source": []
  }
 ],
 "metadata": {
  "kernelspec": {
   "display_name": "Python 3 (ipykernel)",
   "language": "python",
   "name": "python3"
  },
  "language_info": {
   "codemirror_mode": {
    "name": "ipython",
    "version": 3
   },
   "file_extension": ".py",
   "mimetype": "text/x-python",
   "name": "python",
   "nbconvert_exporter": "python",
   "pygments_lexer": "ipython3",
   "version": "3.11.6"
  }
 },
 "nbformat": 4,
 "nbformat_minor": 5
}
