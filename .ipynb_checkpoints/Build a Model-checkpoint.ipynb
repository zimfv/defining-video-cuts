{
 "cells": [
  {
   "cell_type": "code",
   "execution_count": 1,
   "id": "7c181a20",
   "metadata": {},
   "outputs": [
    {
     "name": "stderr",
     "output_type": "stream",
     "text": [
      "2023-11-22 16:48:36.163979: I tensorflow/tsl/cuda/cudart_stub.cc:28] Could not find cuda drivers on your machine, GPU will not be used.\n",
      "2023-11-22 16:48:36.201409: E tensorflow/compiler/xla/stream_executor/cuda/cuda_dnn.cc:9342] Unable to register cuDNN factory: Attempting to register factory for plugin cuDNN when one has already been registered\n",
      "2023-11-22 16:48:36.201453: E tensorflow/compiler/xla/stream_executor/cuda/cuda_fft.cc:609] Unable to register cuFFT factory: Attempting to register factory for plugin cuFFT when one has already been registered\n",
      "2023-11-22 16:48:36.201484: E tensorflow/compiler/xla/stream_executor/cuda/cuda_blas.cc:1518] Unable to register cuBLAS factory: Attempting to register factory for plugin cuBLAS when one has already been registered\n",
      "2023-11-22 16:48:36.208118: I tensorflow/tsl/cuda/cudart_stub.cc:28] Could not find cuda drivers on your machine, GPU will not be used.\n",
      "2023-11-22 16:48:36.208818: I tensorflow/core/platform/cpu_feature_guard.cc:182] This TensorFlow binary is optimized to use available CPU instructions in performance-critical operations.\n",
      "To enable the following instructions: AVX2 FMA, in other operations, rebuild TensorFlow with the appropriate compiler flags.\n",
      "2023-11-22 16:48:36.942496: W tensorflow/compiler/tf2tensorrt/utils/py_utils.cc:38] TF-TRT Warning: Could not find TensorRT\n"
     ]
    }
   ],
   "source": [
    "import os\n",
    "import imageio\n",
    "\n",
    "import numpy as np\n",
    "import pandas as pd\n",
    "import tensorflow as tf\n",
    "import matplotlib.pyplot as plt\n",
    "\n",
    "from tqdm.notebook import tqdm"
   ]
  },
  {
   "cell_type": "markdown",
   "id": "34e8557e",
   "metadata": {},
   "source": [
    "# Build a Generator"
   ]
  },
  {
   "cell_type": "code",
   "execution_count": 2,
   "id": "f190f3d5",
   "metadata": {},
   "outputs": [],
   "source": [
    "class GifIterator:\n",
    "    def __init__(self, filenames, answers, batch_size=64, rescale=None, shuffle=True):\n",
    "        \"\"\"\n",
    "        Yields batches (X, y)\n",
    "        \"\"\"\n",
    "        self.filenames = np.array(filenames)\n",
    "        self.answers = np.array(answers)\n",
    "        self.batch_size = batch_size\n",
    "        self.rescale = rescale\n",
    "        if len(self.filenames) != len(self.answers):\n",
    "            raise ValueError(\"filenames and answers arrays have different lengths.\")\n",
    "        self.length = (len(self.answers) - 1)//self.batch_size + 1\n",
    "        self.shuffle = shuffle\n",
    "        self.batch_index = 0\n",
    "        self.indexes = np.arange(len(self.answers))\n",
    "        if shuffle:\n",
    "            np.random.shuffle(self.indexes)\n",
    "    \n",
    "    \n",
    "    def reshuffle(self):\n",
    "        self.indexes = np.arange(len(self.answers))\n",
    "        if self.shuffle:\n",
    "            np.random.shuffle(self.indexes)\n",
    "    \n",
    "    \n",
    "    def __len__(self):\n",
    "        return self.length\n",
    "    \n",
    "        \n",
    "    def on_epoch_end(self):\n",
    "        self.batch_index = 0\n",
    "        self.reshuffle()\n",
    "        \n",
    "        \n",
    "    def __getitem__(self, idx):\n",
    "        if idx >= len(self):\n",
    "            raise ValueError(\n",
    "                \"Asked to retrieve element {idx}, \"\n",
    "                \"but the Sequence \"\n",
    "                \"has length {length}\".format(idx=idx, length=len(self))\n",
    "            )\n",
    "        \n",
    "        if idx == len(self) - 1:\n",
    "            indexes_i = self.indexes[idx*self.batch_size:]\n",
    "        else:\n",
    "            indexes_i = self.indexes[idx*self.batch_size:(idx + 1)*self.batch_size]\n",
    "        filenames_i = self.filenames[indexes_i]\n",
    "        answers_i = self.answers[indexes_i]\n",
    "        X = np.array([np.array(imageio.mimread(filename)) for filename in filenames_i])\n",
    "        if self.rescale is not None:\n",
    "            X = X*self.rescale\n",
    "        y = answers_i\n",
    "        return X, y\n",
    "    \n",
    "    \n",
    "    def __iter__(self):\n",
    "        return self\n",
    "    \n",
    "    \n",
    "    def __next__(self):\n",
    "        self.batch_index += 1\n",
    "        if self.batch_index > len(self):\n",
    "            self.on_epoch_end()\n",
    "            self.batch_index = 0  # Reset batch index for the new epoch\n",
    "            raise StopIteration\n",
    "        return self[self.batch_index - 1]\n",
    "    "
   ]
  },
  {
   "cell_type": "code",
   "execution_count": 3,
   "id": "f1dfba5c",
   "metadata": {},
   "outputs": [],
   "source": [
    "class GifBinaryGenerator:\n",
    "    def __init__(self, batch_size=64, rescale=None):\n",
    "        \"\"\"\n",
    "        \"\"\"\n",
    "        self.batch_size = batch_size\n",
    "        self.rescale = rescale\n",
    "        self.droped = []\n",
    "    \n",
    "    def prepare_by_paths(self, path_class_0=None, path_class_1=None, check_length=True, gif_length=4):\n",
    "        \"\"\"\n",
    "        \n",
    "        Parameters:\n",
    "        -----------\n",
    "        -----------\n",
    "        path_class_0 : str\n",
    "            The way to class, label 0\n",
    "            \n",
    "        path_class_1 : str\n",
    "            The way to class, label 1\n",
    "            \n",
    "        check_length : bool\n",
    "            Drop files if their length not correct\n",
    "            \n",
    "        gif_length : int\n",
    "            Ignoring gifs with another lengths\n",
    "        \"\"\"\n",
    "        if check_length:\n",
    "            files0 = []\n",
    "            print('Checking GIF-files for correct length:')\n",
    "            pbar = tqdm(total=len(os.listdir(path_class_0)) + len(os.listdir(path_class_1)))\n",
    "            for file in [os.path.join(path_class_0, filename) for filename in os.listdir(path_class_0)]:\n",
    "                X = np.array(imageio.mimread(file))\n",
    "                if len(X) == gif_length:\n",
    "                    files0.append(file)\n",
    "                else:\n",
    "                    self.droped.append(file)\n",
    "                pbar.update()\n",
    "            files1 = []\n",
    "            for file in [os.path.join(path_class_1, filename) for filename in os.listdir(path_class_1)]:\n",
    "                X = np.array(imageio.mimread(file))\n",
    "                if len(X) == gif_length:\n",
    "                    files1.append(file)\n",
    "                else:\n",
    "                    self.droped.append(file)\n",
    "                pbar.update()\n",
    "            pbar.close()\n",
    "        else:\n",
    "            files0 = [os.path.join(path_class_0, filename) for filename in os.listdir(path_class_0)]\n",
    "            files1 = [os.path.join(path_class_1, filename) for filename in os.listdir(path_class_1)]\n",
    "        self.files0 = np.array(files0)\n",
    "        self.files1 = np.array(files1)\n",
    "    \n",
    "    \n",
    "    def __len__(self):\n",
    "        return (len(self.files0) + len(self.files1) - 1)//self.batch_size + 1\n",
    "    \n",
    "    \n",
    "    def flow(self, path_class_0=None, path_class_1=None, shuffle=True, check_length=True, gif_length=4):\n",
    "        \"\"\"\n",
    "        Yields tuples (X, y) of np.arrays shapes \n",
    "        (self.batch_size, gif_length, width, height, 3) and (self.batch_size)\n",
    "        \n",
    "        Parameters:\n",
    "        -----------\n",
    "        path_class_0 : str\n",
    "            The way to class, label 0\n",
    "            \n",
    "        path_class_1 : str\n",
    "            The way to class, label 1\n",
    "            \n",
    "        check_length : bool\n",
    "            Drop files if their length not correct\n",
    "            \n",
    "        gif_length : int\n",
    "            Ignoring gifs with another lengths\n",
    "            \n",
    "        \"\"\"\n",
    "        if (path_class_0 is not None) and (path_class_1 is not None):\n",
    "            self.prepare_by_paths(path_class_0, path_class_1, check_length, gif_length)\n",
    "        \n",
    "        files = np.concatenate([self.files0, self.files1])\n",
    "        answers = np.concatenate([np.zeros(len(self.files0)), np.ones(len(self.files1))])\n",
    "        \n",
    "        # Workaround: infinite loop\n",
    "        while True:\n",
    "            for x, y in GifIterator(files, answers, batch_size=self.batch_size, rescale=self.rescale, shuffle=shuffle):\n",
    "                yield x, y"
   ]
  },
  {
   "cell_type": "code",
   "execution_count": 4,
   "id": "5db48769",
   "metadata": {
    "scrolled": true
   },
   "outputs": [
    {
     "name": "stdout",
     "output_type": "stream",
     "text": [
      "Checking GIF-files for correct length:\n"
     ]
    },
    {
     "data": {
      "application/vnd.jupyter.widget-view+json": {
       "model_id": "9d61e59411b045248a7bcad427e294f6",
       "version_major": 2,
       "version_minor": 0
      },
      "text/plain": [
       "  0%|          | 0/916 [00:00<?, ?it/s]"
      ]
     },
     "metadata": {},
     "output_type": "display_data"
    },
    {
     "name": "stdout",
     "output_type": "stream",
     "text": [
      "len(gen_validation) = 57\n",
      "\n",
      "There are 7 validation files droping:\n",
      "- data/validation/cuts/1-140.gif\n",
      "- data/validation/cuts/1-141.gif\n",
      "- data/validation/noncuts/0-2161.gif\n",
      "- data/validation/noncuts/0-2166.gif\n",
      "- data/validation/noncuts/1-1769.gif\n",
      "- data/validation/noncuts/1-2015.gif\n",
      "- data/validation/noncuts/1-2017.gif\n"
     ]
    }
   ],
   "source": [
    "path_class_testing_0 = 'data/validation/noncuts'\n",
    "path_class_testing_1 = 'data/validation/cuts'\n",
    "\n",
    "gen_validation = GifBinaryGenerator(batch_size=16, rescale=1/255)\n",
    "gen_validation.prepare_by_paths(path_class_testing_0, path_class_testing_1)\n",
    "\n",
    "print(f'len(gen_validation) = {len(gen_validation)}')\n",
    "\n",
    "print(f'\\nThere are {len(gen_validation.droped)} validation files droping:\\n- ' + '\\n- '.join(np.sort(gen_validation.droped)))"
   ]
  },
  {
   "cell_type": "code",
   "execution_count": 5,
   "id": "9e5ea7ba",
   "metadata": {},
   "outputs": [
    {
     "name": "stdout",
     "output_type": "stream",
     "text": [
      "Checking GIF-files for correct length:\n"
     ]
    },
    {
     "data": {
      "application/vnd.jupyter.widget-view+json": {
       "model_id": "0e285c3ad1534876a31be305850292aa",
       "version_major": 2,
       "version_minor": 0
      },
      "text/plain": [
       "  0%|          | 0/4503 [00:00<?, ?it/s]"
      ]
     },
     "metadata": {},
     "output_type": "display_data"
    },
    {
     "name": "stdout",
     "output_type": "stream",
     "text": [
      "len(gen_training) = 140\n",
      "\n",
      "There are 38 validation files droping:\n",
      "- data/training/cuts/0-150.gif\n",
      "- data/training/cuts/0-35.gif\n",
      "- data/training/cuts/1-139.gif\n",
      "- data/training/cuts/1-142.gif\n",
      "- data/training/cuts/1-20.gif\n",
      "- data/training/cuts/1-219.gif\n",
      "- data/training/cuts/1-233.gif\n",
      "- data/training/cuts/1-234.gif\n",
      "- data/training/cuts/a-151.gif\n",
      "- data/training/cuts/a-20.gif\n",
      "- data/training/cuts/a-217.gif\n",
      "- data/training/cuts/a-278.gif\n",
      "- data/training/cuts/a-521.gif\n",
      "- data/training/cuts/a-537.gif\n",
      "- data/training/cuts/a-676.gif\n",
      "- data/training/cuts/a-691.gif\n",
      "- data/training/noncuts/0-2159.gif\n",
      "- data/training/noncuts/0-2160.gif\n",
      "- data/training/noncuts/0-2162.gif\n",
      "- data/training/noncuts/0-2163.gif\n",
      "- data/training/noncuts/0-2164.gif\n",
      "- data/training/noncuts/0-2165.gif\n",
      "- data/training/noncuts/1-1028.gif\n",
      "- data/training/noncuts/1-1029.gif\n",
      "- data/training/noncuts/1-2003.gif\n",
      "- data/training/noncuts/1-2004.gif\n",
      "- data/training/noncuts/1-2005.gif\n",
      "- data/training/noncuts/1-2006.gif\n",
      "- data/training/noncuts/1-2007.gif\n",
      "- data/training/noncuts/1-2008.gif\n",
      "- data/training/noncuts/1-2009.gif\n",
      "- data/training/noncuts/1-2010.gif\n",
      "- data/training/noncuts/1-2011.gif\n",
      "- data/training/noncuts/1-2012.gif\n",
      "- data/training/noncuts/1-2013.gif\n",
      "- data/training/noncuts/1-2014.gif\n",
      "- data/training/noncuts/1-2016.gif\n",
      "- data/training/noncuts/1-267.gif\n"
     ]
    }
   ],
   "source": [
    "path_class_training_0 = 'data/training/noncuts'\n",
    "path_class_training_1 = 'data/training/cuts'\n",
    "\n",
    "gen_training = GifBinaryGenerator(batch_size=32, rescale=1/255)\n",
    "gen_training.prepare_by_paths(path_class_training_0, path_class_training_1)\n",
    "\n",
    "print(f'len(gen_training) = {len(gen_training)}')\n",
    "\n",
    "print(f'\\nThere are {len(gen_training.droped)} validation files droping:\\n- ' + '\\n- '.join(np.sort(gen_training.droped)))"
   ]
  },
  {
   "cell_type": "markdown",
   "id": "266c9a11",
   "metadata": {},
   "source": [
    "GIF format sometimes contains not every frame. \n",
    "\n",
    "This is another reason to build generator from DataFrame and video, described in `Data Extraction and Augmentation.ipynb`"
   ]
  },
  {
   "cell_type": "markdown",
   "id": "bbcc60d1",
   "metadata": {},
   "source": [
    "# Build a model"
   ]
  },
  {
   "cell_type": "code",
   "execution_count": 6,
   "id": "ed212b4d",
   "metadata": {},
   "outputs": [],
   "source": [
    "model = tf.keras.Sequential([\n",
    "    tf.keras.layers.Conv3D(32, 3, activation='relu', input_shape=(4, 160, 90, 3)), \n",
    "    tf.keras.layers.MaxPooling3D(pool_size=(1, 2, 2)), \n",
    "    tf.keras.layers.Conv3D(32, 2, activation='relu'), \n",
    "    tf.keras.layers.MaxPooling3D(pool_size=(1, 2, 2)), \n",
    "    \n",
    "    tf.keras.layers.Flatten(),\n",
    "    tf.keras.layers.Dense(256, activation='relu'), \n",
    "    tf.keras.layers.Dense(1, activation='sigmoid')\n",
    "])\n",
    "\n",
    "model.compile(loss='binary_crossentropy',\n",
    "              optimizer=tf.keras.optimizers.RMSprop(learning_rate=1e-4),\n",
    "              metrics=['accuracy'])"
   ]
  },
  {
   "cell_type": "markdown",
   "id": "debd2be5",
   "metadata": {},
   "source": [
    "1. The first convolutional layer has kernel size 3, when the length of fragment is 4. So we get the 2 comparisions: first 2 frames eith the third, and the second with last 2 - this shows us how dinamics changes in the middle, where the cut can be.\n",
    "\n",
    "2. The second convolutional layer has kernel size 2. It's equal to the length of the first layers result and analyse does the possible cut gives a big peak or does the full fragment looks like one move."
   ]
  },
  {
   "cell_type": "code",
   "execution_count": 7,
   "id": "0f894b67",
   "metadata": {},
   "outputs": [
    {
     "name": "stdout",
     "output_type": "stream",
     "text": [
      "Model: \"sequential\"\n",
      "_________________________________________________________________\n",
      " Layer (type)                Output Shape              Param #   \n",
      "=================================================================\n",
      " conv3d (Conv3D)             (None, 2, 158, 88, 32)    2624      \n",
      "                                                                 \n",
      " max_pooling3d (MaxPooling3  (None, 2, 79, 44, 32)     0         \n",
      " D)                                                              \n",
      "                                                                 \n",
      " conv3d_1 (Conv3D)           (None, 1, 78, 43, 32)     8224      \n",
      "                                                                 \n",
      " max_pooling3d_1 (MaxPoolin  (None, 1, 39, 21, 32)     0         \n",
      " g3D)                                                            \n",
      "                                                                 \n",
      " flatten (Flatten)           (None, 26208)             0         \n",
      "                                                                 \n",
      " dense (Dense)               (None, 256)               6709504   \n",
      "                                                                 \n",
      " dense_1 (Dense)             (None, 1)                 257       \n",
      "                                                                 \n",
      "=================================================================\n",
      "Total params: 6720609 (25.64 MB)\n",
      "Trainable params: 6720609 (25.64 MB)\n",
      "Non-trainable params: 0 (0.00 Byte)\n",
      "_________________________________________________________________\n"
     ]
    }
   ],
   "source": [
    "model.summary()"
   ]
  },
  {
   "cell_type": "code",
   "execution_count": 8,
   "id": "f07815af",
   "metadata": {},
   "outputs": [
    {
     "name": "stdout",
     "output_type": "stream",
     "text": [
      "Epoch 1/10\n",
      "140/140 [==============================] - 217s 2s/step - loss: 0.2350 - accuracy: 0.9324 - val_loss: 0.1278 - val_accuracy: 0.9714\n",
      "Epoch 2/10\n",
      "140/140 [==============================] - 216s 2s/step - loss: 0.0967 - accuracy: 0.9767 - val_loss: 0.1023 - val_accuracy: 0.9725\n",
      "Epoch 3/10\n",
      "140/140 [==============================] - 216s 2s/step - loss: 0.0780 - accuracy: 0.9830 - val_loss: 0.1192 - val_accuracy: 0.9769\n",
      "Epoch 4/10\n",
      "140/140 [==============================] - 217s 2s/step - loss: 0.0705 - accuracy: 0.9841 - val_loss: 0.1119 - val_accuracy: 0.9681\n",
      "Epoch 5/10\n",
      "140/140 [==============================] - 217s 2s/step - loss: 0.0621 - accuracy: 0.9850 - val_loss: 0.1006 - val_accuracy: 0.9725\n",
      "Epoch 6/10\n",
      "140/140 [==============================] - 217s 2s/step - loss: 0.0561 - accuracy: 0.9879 - val_loss: 0.0864 - val_accuracy: 0.9692\n",
      "Epoch 7/10\n",
      "140/140 [==============================] - 217s 2s/step - loss: 0.0485 - accuracy: 0.9881 - val_loss: 0.1277 - val_accuracy: 0.9780\n",
      "Epoch 8/10\n",
      "140/140 [==============================] - 217s 2s/step - loss: 0.0498 - accuracy: 0.9890 - val_loss: 0.0805 - val_accuracy: 0.9802\n",
      "Epoch 9/10\n",
      "140/140 [==============================] - 219s 2s/step - loss: 0.0431 - accuracy: 0.9906 - val_loss: 0.1228 - val_accuracy: 0.9747\n",
      "Epoch 10/10\n",
      "140/140 [==============================] - 219s 2s/step - loss: 0.0403 - accuracy: 0.9901 - val_loss: 0.0639 - val_accuracy: 0.9835\n"
     ]
    }
   ],
   "source": [
    "history = model.fit(gen_training.flow(),\n",
    "                    steps_per_epoch=len(gen_training), \n",
    "                    epochs=10,\n",
    "                    verbose=1,\n",
    "                    validation_data=gen_validation.flow(), \n",
    "                    validation_steps=len(gen_validation))"
   ]
  },
  {
   "cell_type": "markdown",
   "id": "02af3526",
   "metadata": {},
   "source": [
    "__Without infinite loop__ in `GifBinaryGenerator.flow` Generator returns Iterator, like ImageDataGenerator. But that dies after 1st epoch. How to fix that by another way?\n"
   ]
  },
  {
   "cell_type": "code",
   "execution_count": 9,
   "id": "f6d6be57",
   "metadata": {},
   "outputs": [],
   "source": [
    "assert len(history.history['val_loss']) == len(history.epoch)"
   ]
  },
  {
   "cell_type": "markdown",
   "id": "94397b6f",
   "metadata": {},
   "source": [
    "# Saving results"
   ]
  },
  {
   "cell_type": "code",
   "execution_count": 10,
   "id": "f97d0661",
   "metadata": {},
   "outputs": [],
   "source": [
    "import pickle\n",
    "\n",
    "from datetime import datetime"
   ]
  },
  {
   "cell_type": "code",
   "execution_count": 11,
   "id": "843aa9d8",
   "metadata": {},
   "outputs": [
    {
     "name": "stdout",
     "output_type": "stream",
     "text": [
      "Current date and timie is 2023-11-22 17:24\n"
     ]
    }
   ],
   "source": [
    "now = datetime.now()\n",
    "now = str(now)[:16]\n",
    "\n",
    "print(f'Current date and timie is {now}')\n",
    "now = now.replace(' ', '-').replace(':', '-')"
   ]
  },
  {
   "cell_type": "code",
   "execution_count": 12,
   "id": "0a212839",
   "metadata": {},
   "outputs": [],
   "source": [
    "path_model = 'models'\n",
    "path_history = 'histories'\n",
    "if not os.path.isdir(path_model):\n",
    "    os.mkdir(path_model)\n",
    "if not os.path.isdir(path_history):\n",
    "    os.mkdir(path_history)"
   ]
  },
  {
   "cell_type": "code",
   "execution_count": 13,
   "id": "09d1a575",
   "metadata": {},
   "outputs": [],
   "source": [
    "path_model = os.path.join(path_model, f'{now}.h5')\n",
    "path_history = os.path.join(path_history, f'{now}.pkl')"
   ]
  },
  {
   "cell_type": "code",
   "execution_count": 14,
   "id": "12183887",
   "metadata": {},
   "outputs": [],
   "source": [
    "with open(path_history, 'wb') as file:\n",
    "    pickle.dump(path_history, file)"
   ]
  },
  {
   "cell_type": "code",
   "execution_count": 17,
   "id": "4b643b6f",
   "metadata": {},
   "outputs": [
    {
     "name": "stderr",
     "output_type": "stream",
     "text": [
      "/home/fedora/.local/lib/python3.11/site-packages/keras/src/engine/training.py:3079: UserWarning: You are saving your model as an HDF5 file via `model.save()`. This file format is considered legacy. We recommend using instead the native Keras format, e.g. `model.save('my_model.keras')`.\n",
      "  saving_api.save_model(\n"
     ]
    }
   ],
   "source": [
    "model.save(path_model)"
   ]
  },
  {
   "cell_type": "markdown",
   "id": "74e6574a",
   "metadata": {},
   "source": [
    "# Learning History"
   ]
  },
  {
   "cell_type": "code",
   "execution_count": 16,
   "id": "637b5f35",
   "metadata": {},
   "outputs": [
    {
     "name": "stderr",
     "output_type": "stream",
     "text": [
      "/tmp/ipykernel_56476/1487198505.py:17: UserWarning: Matplotlib is currently using module://matplotlib_inline.backend_inline, which is a non-GUI backend, so cannot show the figure.\n",
      "  fig.show()\n"
     ]
    },
    {
     "data": {
      "image/png": "[encoded data removed]",
      "text/plain": [
       "<Figure size 1000x800 with 2 Axes>"
      ]
     },
     "metadata": {},
     "output_type": "display_data"
    }
   ],
   "source": [
    "fig, axs = plt.subplots(2, 1)\n",
    "fig.set_figwidth(10)\n",
    "fig.set_figheight(8)\n",
    "\n",
    "axs[0].set_title('Accuracy')\n",
    "axs[0].plot(history.epoch, history.history['accuracy'], linewidth=4, label='accuracy')\n",
    "axs[0].plot(history.epoch, history.history['val_accuracy'], linewidth=4, label='val_accuracy')\n",
    "axs[0].legend()\n",
    "axs[0].grid(True)\n",
    "\n",
    "axs[1].set_title('Loss')\n",
    "axs[1].plot(history.epoch, history.history['loss'], linewidth=4, label='loss')\n",
    "axs[1].plot(history.epoch, history.history['val_loss'], linewidth=4, label='val_loss')\n",
    "axs[1].legend()\n",
    "axs[1].grid(True)\n",
    "\n",
    "fig.show()"
   ]
  },
  {
   "cell_type": "markdown",
   "id": "703672ee",
   "metadata": {},
   "source": [
    "We can see overfitting. Maybe some Dropout layer is needed."
   ]
  },
  {
   "cell_type": "code",
   "execution_count": null,
   "id": "1fb7b6bf",
   "metadata": {},
   "outputs": [],
   "source": []
  }
 ],
 "metadata": {
  "kernelspec": {
   "display_name": "Python 3 (ipykernel)",
   "language": "python",
   "name": "python3"
  },
  "language_info": {
   "codemirror_mode": {
    "name": "ipython",
    "version": 3
   },
   "file_extension": ".py",
   "mimetype": "text/x-python",
   "name": "python",
   "nbconvert_exporter": "python",
   "pygments_lexer": "ipython3",
   "version": "3.11.6"
  }
 },
 "nbformat": 4,
 "nbformat_minor": 5
}
