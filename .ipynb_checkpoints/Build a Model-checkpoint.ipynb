{
 "cells": [
  {
   "cell_type": "code",
   "execution_count": 1,
   "id": "7c181a20",
   "metadata": {},
   "outputs": [],
   "source": [
    "import os\n",
    "import imageio\n",
    "\n",
    "import numpy as np\n",
    "import matplotlib.pyplot as plt\n",
    "import pandas as pd"
   ]
  },
  {
   "cell_type": "markdown",
   "id": "34e8557e",
   "metadata": {},
   "source": [
    "# GifBinaryGenerator"
   ]
  },
  {
   "cell_type": "code",
   "execution_count": 2,
   "id": "675a3335",
   "metadata": {},
   "outputs": [],
   "source": [
    "class GifBinaryGenerator:\n",
    "    def __init__(self, batch_size=64, rescale=None):\n",
    "        \"\"\"\n",
    "        \n",
    "        \"\"\"\n",
    "        self.batch_size = batch_size\n",
    "        self.rescale = rescale\n",
    "    \n",
    "    \n",
    "    def flow_from_directories(self, path_class_0, path_class_1, gif_length=4, print_ignoring=False):\n",
    "        \"\"\"\n",
    "        Yields tuples (X, y) of np.arrays shapes (self.batch_size, gif_length, width, height, 3) and (self.batch_size)\n",
    "        \n",
    "        Parameters:\n",
    "        -----------\n",
    "        path_class_0 : str\n",
    "            The way to class, label 0\n",
    "            \n",
    "        path_class_1 : str\n",
    "            The way to class, label 1\n",
    "            \n",
    "        gif_length : int\n",
    "            Ignoring gifs with another lengths\n",
    "            \n",
    "        print_ignoring : bool\n",
    "            Pring ignoring files, if True\n",
    "        \"\"\"\n",
    "        filenames_class_0 = [os.path.join(path_class_0, filename) for filename in os.listdir(path_class_0)]\n",
    "        filenames_class_1 = [os.path.join(path_class_1, filename) for filename in os.listdir(path_class_1)]\n",
    "        \n",
    "        filenames = np.concatenate([filenames_class_0, filenames_class_1])\n",
    "        answers = np.concatenate([np.zeros(len(filenames_class_0)), np.ones(len(filenames_class_1))])\n",
    "        length = len(answers)\n",
    "        \n",
    "        indexes = np.arange(length)\n",
    "        np.random.shuffle(indexes)\n",
    "        filenames = filenames[indexes]\n",
    "        answers = answers[indexes]\n",
    "        \n",
    "        for i in range((length-1)//self.batch_size):\n",
    "            try:\n",
    "                X, y = None, None\n",
    "                filenames_i = filenames[i*self.batch_size : (i+1)*self.batch_size]\n",
    "                X = np.array([np.array(imageio.mimread(filename)) for filename in filenames_i])\n",
    "                if self.rescale is not None:\n",
    "                    X = X*self.rescale\n",
    "                y = answers[i*self.batch_size : (i+1)*self.batch_size]\n",
    "                yield (X, y)\n",
    "            except ValueError:\n",
    "                df = pd.DataFrame({'filename' : filenames_i, \n",
    "                                   'length' : [np.array(imageio.mimread(filename)).shape[0] for filename in filenames_i]})\n",
    "                ignore_filenames = df[df['length'] != gif_length]['filename'].values\n",
    "                if print_ignoring:\n",
    "                    for filename in ignore_filenames:\n",
    "                        print(f'Gif {filename} has wrong length, so ignoring.')\n",
    "                indices = df['length'].values == gif_length\n",
    "                filenames_i = filenames_i[indices]\n",
    "                X = np.array([np.array(imageio.mimread(filename)) for filename in filenames_i])\n",
    "                if self.rescale is not None:\n",
    "                    X = X*self.rescale\n",
    "                y = answers[i*self.batch_size : (i+1)*self.batch_size][indices]\n",
    "                yield X, y\n",
    "                \n",
    "                \n",
    "        try:\n",
    "            filenames_i = filenames[(length-1)//self.batch_size * self.batch_size:]\n",
    "            X = np.array([np.array(imageio.mimread(filename)) for filename in filenames_i])\n",
    "            if self.rescale is not None:\n",
    "                X = X*self.rescale\n",
    "            y = answers[(length-1)//self.batch_size * self.batch_size:]\n",
    "            yield X, y\n",
    "        except ValueError:\n",
    "            df = pd.DataFrame({'filename' : filenames_i, \n",
    "                               'length' : [np.array(imageio.mimread(filename)).shape[0] for filename in filenames_i]})\n",
    "            ignore_filenames = df[df['length'] != gif_length]['filename'].values\n",
    "            if print_ignoring:\n",
    "                for filename in ignore_filenames:\n",
    "                    print(f'Gif {filename} has wrong length, so ignoring.')\n",
    "            indices = df['length'].values == gif_length\n",
    "            filenames_i = filenames_i[indices]\n",
    "            X = np.array([np.array(imageio.mimread(filename)) for filename in filenames_i])\n",
    "            if self.rescale is not None:\n",
    "                X = X*self.rescale\n",
    "            y = answers[(length-1)//self.batch_size * self.batch_size:][indices]\n",
    "            yield X, y"
   ]
  },
  {
   "cell_type": "code",
   "execution_count": 3,
   "id": "5db48769",
   "metadata": {
    "scrolled": true
   },
   "outputs": [
    {
     "name": "stdout",
     "output_type": "stream",
     "text": [
      "Gif data/validation/noncuts/0-2166.gif has wrong length, so ignoring.\n",
      "Gif data/validation/cuts/1-140.gif has wrong length, so ignoring.\n",
      "X.shape = (498, 4, 90, 160, 3)\n",
      "y.shape = (498,)\n",
      "\n",
      "Gif data/validation/cuts/1-141.gif has wrong length, so ignoring.\n",
      "Gif data/validation/noncuts/0-2161.gif has wrong length, so ignoring.\n",
      "Gif data/validation/noncuts/1-2017.gif has wrong length, so ignoring.\n",
      "Gif data/validation/noncuts/1-1769.gif has wrong length, so ignoring.\n",
      "Gif data/validation/noncuts/1-2015.gif has wrong length, so ignoring.\n",
      "X.shape = (411, 4, 90, 160, 3)\n",
      "y.shape = (411,)\n",
      "\n"
     ]
    }
   ],
   "source": [
    "path_class_testing_0 = 'data/validation/noncuts'\n",
    "path_class_testing_1 = 'data/validation/cuts'\n",
    "\n",
    "for X, y in GifBinaryGenerator(batch_size=500, rescale=1/255).flow_from_directories(path_class_testing_0, \n",
    "                                                                                    path_class_testing_1, \n",
    "                                                                                    print_ignoring=True):\n",
    "    print(f'X.shape = {X.shape}\\ny.shape = {y.shape}\\n')"
   ]
  },
  {
   "cell_type": "code",
   "execution_count": 4,
   "id": "90a19b4b",
   "metadata": {},
   "outputs": [
    {
     "name": "stdout",
     "output_type": "stream",
     "text": [
      "X.shape = (498, 4, 90, 160, 3)\n",
      "y.shape = (498,)\n",
      "\n",
      "X.shape = (497, 4, 90, 160, 3)\n",
      "y.shape = (497,)\n",
      "\n",
      "X.shape = (493, 4, 90, 160, 3)\n",
      "y.shape = (493,)\n",
      "\n",
      "X.shape = (497, 4, 90, 160, 3)\n",
      "y.shape = (497,)\n",
      "\n",
      "X.shape = (495, 4, 90, 160, 3)\n",
      "y.shape = (495,)\n",
      "\n",
      "X.shape = (494, 4, 90, 160, 3)\n",
      "y.shape = (494,)\n",
      "\n",
      "X.shape = (493, 4, 90, 160, 3)\n",
      "y.shape = (493,)\n",
      "\n",
      "X.shape = (497, 4, 90, 160, 3)\n",
      "y.shape = (497,)\n",
      "\n",
      "X.shape = (498, 4, 90, 160, 3)\n",
      "y.shape = (498,)\n",
      "\n",
      "X.shape = (3, 4, 90, 160, 3)\n",
      "y.shape = (3,)\n",
      "\n"
     ]
    }
   ],
   "source": [
    "path_class_training_0 = 'data/training/noncuts'\n",
    "path_class_training_1 = 'data/training/cuts'\n",
    "\n",
    "for X, y in GifBinaryGenerator(batch_size=500, rescale=1/255).flow_from_directories(path_class_training_0, \n",
    "                                                                                     path_class_training_1):\n",
    "    print(f'X.shape = {X.shape}\\ny.shape = {y.shape}\\n')"
   ]
  },
  {
   "cell_type": "markdown",
   "id": "266c9a11",
   "metadata": {},
   "source": [
    "GIF format sometimes contains not every frame."
   ]
  },
  {
   "cell_type": "code",
   "execution_count": null,
   "id": "ed212b4d",
   "metadata": {},
   "outputs": [],
   "source": []
  }
 ],
 "metadata": {
  "kernelspec": {
   "display_name": "Python 3 (ipykernel)",
   "language": "python",
   "name": "python3"
  },
  "language_info": {
   "codemirror_mode": {
    "name": "ipython",
    "version": 3
   },
   "file_extension": ".py",
   "mimetype": "text/x-python",
   "name": "python",
   "nbconvert_exporter": "python",
   "pygments_lexer": "ipython3",
   "version": "3.11.6"
  }
 },
 "nbformat": 4,
 "nbformat_minor": 5
}
