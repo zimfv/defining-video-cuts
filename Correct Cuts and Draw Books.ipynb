{
 "cells": [
  {
   "cell_type": "code",
   "execution_count": 1,
   "id": "be3912dc",
   "metadata": {},
   "outputs": [],
   "source": [
    "import numpy as np\n",
    "import matplotlib.pyplot as plt\n",
    "import img2pdf \n",
    "\n",
    "from mytools import Video, get_cuts\n",
    "from tqdm.notebook import tqdm"
   ]
  },
  {
   "cell_type": "markdown",
   "id": "b3b57393",
   "metadata": {},
   "source": [
    "# Functions"
   ]
  },
  {
   "cell_type": "code",
   "execution_count": 2,
   "id": "352989f7",
   "metadata": {},
   "outputs": [],
   "source": [
    "def draw_page(cuts, video: Video, lines=8, frames_before=3, frames_after=3, figwidth=12, figheight=12):\n",
    "    \"\"\"\n",
    "    \"\"\"\n",
    "    fig, axs = plt.subplots(lines, frames_before + frames_after)\n",
    "    fig.set_figheight(figheight)\n",
    "    fig.set_figwidth(figwidth)\n",
    "    \n",
    "    \n",
    "    if len(cuts) > lines:\n",
    "        cuts = cuts[:lines]\n",
    "    \n",
    "    for i in range(len(cuts)):\n",
    "        idx = np.arange(-frames_before, frames_after) + cuts[i]\n",
    "        frames = video.get_matrix(cuts[i] - frames_before, cuts[i] + frames_after)\n",
    "        for k in range(frames_before + frames_after):\n",
    "            axs[i, k].imshow(frames[k])\n",
    "            axs[i, k].set_title(f'Frame {idx[k]}')\n",
    "    \n",
    "    if len(cuts) < lines:\n",
    "        for i in range(len(cuts), lines):\n",
    "            for k in range(frames_before + frames_after):\n",
    "                axs[i, k].plot([0, 1, 1, 0, 0], [0, 0, 1, 1, 0], color='black')\n",
    "                axs[i, k].plot([0, 1], [1, 0], color='black')\n",
    "                axs[i, k].plot([0, 1], [0, 1], color='black')\n",
    "    \n",
    "    return fig, axs"
   ]
  },
  {
   "cell_type": "markdown",
   "id": "2251e808",
   "metadata": {},
   "source": [
    "# Draw Books\n",
    "\n",
    "Book is pdf-file containing frames arround cuts from .kdenlive files. This is needed to define wrong clabeled cuts by eyes."
   ]
  },
  {
   "cell_type": "markdown",
   "id": "90d700c7",
   "metadata": {},
   "source": [
    "## Video 0"
   ]
  },
  {
   "cell_type": "code",
   "execution_count": 3,
   "id": "2b4fdf42",
   "metadata": {},
   "outputs": [],
   "source": [
    "i = 0\n",
    "timeline_file = f'timelines/{i}.kdenlive'\n",
    "video_filename = f'videos/{i}.mp4'"
   ]
  },
  {
   "cell_type": "code",
   "execution_count": 4,
   "id": "a66a64d9",
   "metadata": {},
   "outputs": [],
   "source": [
    "pic_template = 'pics/bookpics/book{0}-page{1}.png'\n",
    "book_filename = f'books/{i}.pdf'"
   ]
  },
  {
   "cell_type": "code",
   "execution_count": 5,
   "id": "5dbc251b",
   "metadata": {},
   "outputs": [],
   "source": [
    "video = Video(video_filename)\n",
    "fps = video.get_fps()\n",
    "cuts = get_cuts(timeline_file, fps)"
   ]
  },
  {
   "cell_type": "code",
   "execution_count": 6,
   "id": "ab2aafc4",
   "metadata": {
    "scrolled": true
   },
   "outputs": [
    {
     "data": {
      "application/vnd.jupyter.widget-view+json": {
       "model_id": "2fd12045d50c44638b0b38112de13a91",
       "version_major": 2,
       "version_minor": 0
      },
      "text/plain": [
       "  0%|          | 0/19 [00:00<?, ?it/s]"
      ]
     },
     "metadata": {},
     "output_type": "display_data"
    }
   ],
   "source": [
    "lines=8\n",
    "pages = []\n",
    "pbar = tqdm(total=(len(cuts)-1)//lines + 1)\n",
    "for k in range((len(cuts)-1)//lines):\n",
    "    cuts_k = cuts[k*lines:(k + 1)*lines]\n",
    "    fig, axs = draw_page(cuts_k, video, lines=lines)\n",
    "    filename = pic_template.format(i, k)\n",
    "    fig.savefig(filename)\n",
    "    plt.close(fig)\n",
    "    pages.append(filename)\n",
    "    pbar.update()\n",
    "if len(cuts)%lines != 0:\n",
    "    k = (len(cuts)-1)//lines\n",
    "    cuts_k = cuts[k*lines:]\n",
    "    fig, axs = draw_page(cuts_k, video, lines=lines)\n",
    "    filename = pic_template.format(i, k)\n",
    "    fig.savefig(filename)\n",
    "    plt.close(fig)\n",
    "    pages.append(filename)\n",
    "    pbar.update()\n",
    "pbar.close()"
   ]
  },
  {
   "cell_type": "code",
   "execution_count": 7,
   "id": "d9aeea8e",
   "metadata": {},
   "outputs": [
    {
     "name": "stderr",
     "output_type": "stream",
     "text": [
      "Image contains an alpha channel. Computing a separate soft mask (/SMask) image to store transparency in PDF.\n",
      "Image contains an alpha channel. Computing a separate soft mask (/SMask) image to store transparency in PDF.\n",
      "Image contains an alpha channel. Computing a separate soft mask (/SMask) image to store transparency in PDF.\n",
      "Image contains an alpha channel. Computing a separate soft mask (/SMask) image to store transparency in PDF.\n",
      "Image contains an alpha channel. Computing a separate soft mask (/SMask) image to store transparency in PDF.\n",
      "Image contains an alpha channel. Computing a separate soft mask (/SMask) image to store transparency in PDF.\n",
      "Image contains an alpha channel. Computing a separate soft mask (/SMask) image to store transparency in PDF.\n",
      "Image contains an alpha channel. Computing a separate soft mask (/SMask) image to store transparency in PDF.\n",
      "Image contains an alpha channel. Computing a separate soft mask (/SMask) image to store transparency in PDF.\n",
      "Image contains an alpha channel. Computing a separate soft mask (/SMask) image to store transparency in PDF.\n",
      "Image contains an alpha channel. Computing a separate soft mask (/SMask) image to store transparency in PDF.\n",
      "Image contains an alpha channel. Computing a separate soft mask (/SMask) image to store transparency in PDF.\n",
      "Image contains an alpha channel. Computing a separate soft mask (/SMask) image to store transparency in PDF.\n",
      "Image contains an alpha channel. Computing a separate soft mask (/SMask) image to store transparency in PDF.\n",
      "Image contains an alpha channel. Computing a separate soft mask (/SMask) image to store transparency in PDF.\n",
      "Image contains an alpha channel. Computing a separate soft mask (/SMask) image to store transparency in PDF.\n",
      "Image contains an alpha channel. Computing a separate soft mask (/SMask) image to store transparency in PDF.\n",
      "Image contains an alpha channel. Computing a separate soft mask (/SMask) image to store transparency in PDF.\n",
      "Image contains an alpha channel. Computing a separate soft mask (/SMask) image to store transparency in PDF.\n"
     ]
    }
   ],
   "source": [
    "output_file = open(book_filename, \"wb\")\n",
    "pdf_bytes = img2pdf.convert(pages)\n",
    "output_file.write(pdf_bytes)\n",
    "output_file.close()"
   ]
  },
  {
   "cell_type": "markdown",
   "id": "fa6df818",
   "metadata": {},
   "source": [
    "## Video 1"
   ]
  },
  {
   "cell_type": "code",
   "execution_count": 8,
   "id": "e766b68b",
   "metadata": {},
   "outputs": [],
   "source": [
    "i = 1\n",
    "timeline_file = f'timelines/{i}.kdenlive'\n",
    "video_filename = f'videos/{i}.mp4'"
   ]
  },
  {
   "cell_type": "code",
   "execution_count": 9,
   "id": "3c69bf2f",
   "metadata": {},
   "outputs": [],
   "source": [
    "pic_template = 'pics/bookpics/book{0}-page{1}.png'\n",
    "book_filename = f'books/{i}.pdf'"
   ]
  },
  {
   "cell_type": "code",
   "execution_count": 10,
   "id": "5c1a8bb1",
   "metadata": {},
   "outputs": [],
   "source": [
    "video = Video(video_filename)\n",
    "fps = video.get_fps()\n",
    "cuts = get_cuts(timeline_file, fps)"
   ]
  },
  {
   "cell_type": "code",
   "execution_count": 11,
   "id": "caa8bd93",
   "metadata": {},
   "outputs": [
    {
     "data": {
      "application/vnd.jupyter.widget-view+json": {
       "model_id": "8c78e9291e294226be102e886f664a4d",
       "version_major": 2,
       "version_minor": 0
      },
      "text/plain": [
       "  0%|          | 0/30 [00:00<?, ?it/s]"
      ]
     },
     "metadata": {},
     "output_type": "display_data"
    }
   ],
   "source": [
    "lines=8\n",
    "pages = []\n",
    "pbar = tqdm(total=(len(cuts)-1)//lines + 1)\n",
    "for k in range((len(cuts)-1)//lines):\n",
    "    cuts_k = cuts[k*lines:(k + 1)*lines]\n",
    "    fig, axs = draw_page(cuts_k, video, lines=lines)\n",
    "    filename = pic_template.format(i, k)\n",
    "    fig.savefig(filename)\n",
    "    plt.close(fig)\n",
    "    pages.append(filename)\n",
    "    pbar.update()\n",
    "if len(cuts) > ((len(cuts)-1)//lines)*lines:\n",
    "    k = (len(cuts)-1)//lines\n",
    "    cuts_k = cuts[k*lines:]\n",
    "    fig, axs = draw_page(cuts_k, video, lines=lines)\n",
    "    filename = pic_template.format(i, k)\n",
    "    fig.savefig(filename)\n",
    "    plt.close(fig)\n",
    "    pages.append(filename)\n",
    "    pbar.update()\n",
    "pbar.close()"
   ]
  },
  {
   "cell_type": "code",
   "execution_count": 12,
   "id": "60162faf",
   "metadata": {},
   "outputs": [
    {
     "name": "stderr",
     "output_type": "stream",
     "text": [
      "Image contains an alpha channel. Computing a separate soft mask (/SMask) image to store transparency in PDF.\n",
      "Image contains an alpha channel. Computing a separate soft mask (/SMask) image to store transparency in PDF.\n",
      "Image contains an alpha channel. Computing a separate soft mask (/SMask) image to store transparency in PDF.\n",
      "Image contains an alpha channel. Computing a separate soft mask (/SMask) image to store transparency in PDF.\n",
      "Image contains an alpha channel. Computing a separate soft mask (/SMask) image to store transparency in PDF.\n",
      "Image contains an alpha channel. Computing a separate soft mask (/SMask) image to store transparency in PDF.\n",
      "Image contains an alpha channel. Computing a separate soft mask (/SMask) image to store transparency in PDF.\n",
      "Image contains an alpha channel. Computing a separate soft mask (/SMask) image to store transparency in PDF.\n",
      "Image contains an alpha channel. Computing a separate soft mask (/SMask) image to store transparency in PDF.\n",
      "Image contains an alpha channel. Computing a separate soft mask (/SMask) image to store transparency in PDF.\n",
      "Image contains an alpha channel. Computing a separate soft mask (/SMask) image to store transparency in PDF.\n",
      "Image contains an alpha channel. Computing a separate soft mask (/SMask) image to store transparency in PDF.\n",
      "Image contains an alpha channel. Computing a separate soft mask (/SMask) image to store transparency in PDF.\n",
      "Image contains an alpha channel. Computing a separate soft mask (/SMask) image to store transparency in PDF.\n",
      "Image contains an alpha channel. Computing a separate soft mask (/SMask) image to store transparency in PDF.\n",
      "Image contains an alpha channel. Computing a separate soft mask (/SMask) image to store transparency in PDF.\n",
      "Image contains an alpha channel. Computing a separate soft mask (/SMask) image to store transparency in PDF.\n",
      "Image contains an alpha channel. Computing a separate soft mask (/SMask) image to store transparency in PDF.\n",
      "Image contains an alpha channel. Computing a separate soft mask (/SMask) image to store transparency in PDF.\n",
      "Image contains an alpha channel. Computing a separate soft mask (/SMask) image to store transparency in PDF.\n",
      "Image contains an alpha channel. Computing a separate soft mask (/SMask) image to store transparency in PDF.\n",
      "Image contains an alpha channel. Computing a separate soft mask (/SMask) image to store transparency in PDF.\n",
      "Image contains an alpha channel. Computing a separate soft mask (/SMask) image to store transparency in PDF.\n",
      "Image contains an alpha channel. Computing a separate soft mask (/SMask) image to store transparency in PDF.\n",
      "Image contains an alpha channel. Computing a separate soft mask (/SMask) image to store transparency in PDF.\n",
      "Image contains an alpha channel. Computing a separate soft mask (/SMask) image to store transparency in PDF.\n",
      "Image contains an alpha channel. Computing a separate soft mask (/SMask) image to store transparency in PDF.\n",
      "Image contains an alpha channel. Computing a separate soft mask (/SMask) image to store transparency in PDF.\n",
      "Image contains an alpha channel. Computing a separate soft mask (/SMask) image to store transparency in PDF.\n",
      "Image contains an alpha channel. Computing a separate soft mask (/SMask) image to store transparency in PDF.\n"
     ]
    }
   ],
   "source": [
    "output_file = open(book_filename, \"wb\")\n",
    "pdf_bytes = img2pdf.convert(pages)\n",
    "output_file.write(pdf_bytes)\n",
    "output_file.close()"
   ]
  },
  {
   "cell_type": "markdown",
   "id": "3ca42974",
   "metadata": {},
   "source": [
    "## Video 2"
   ]
  },
  {
   "cell_type": "code",
   "execution_count": 13,
   "id": "72af04da",
   "metadata": {},
   "outputs": [],
   "source": [
    "i = 2\n",
    "timeline_file = f'timelines/{i}.kdenlive'\n",
    "video_filename = f'videos/{i}.mp4'"
   ]
  },
  {
   "cell_type": "code",
   "execution_count": 14,
   "id": "89b29a0b",
   "metadata": {},
   "outputs": [],
   "source": [
    "pic_template = 'pics/bookpics/book{0}-page{1}.png'\n",
    "book_filename = f'books/{i}.pdf'"
   ]
  },
  {
   "cell_type": "code",
   "execution_count": 15,
   "id": "cac6f2ad",
   "metadata": {},
   "outputs": [],
   "source": [
    "video = Video(video_filename)\n",
    "fps = video.get_fps()\n",
    "cuts = get_cuts(timeline_file, fps)"
   ]
  },
  {
   "cell_type": "code",
   "execution_count": 16,
   "id": "18d21f2c",
   "metadata": {},
   "outputs": [
    {
     "data": {
      "application/vnd.jupyter.widget-view+json": {
       "model_id": "c19d582bc42140939b7bcd541f1c7f38",
       "version_major": 2,
       "version_minor": 0
      },
      "text/plain": [
       "  0%|          | 0/19 [00:00<?, ?it/s]"
      ]
     },
     "metadata": {},
     "output_type": "display_data"
    }
   ],
   "source": [
    "lines=8\n",
    "pages = []\n",
    "pbar = tqdm(total=(len(cuts)-1)//lines + 1)\n",
    "for k in range((len(cuts)-1)//lines):\n",
    "    cuts_k = cuts[k*lines:(k + 1)*lines]\n",
    "    fig, axs = draw_page(cuts_k, video, lines=lines)\n",
    "    filename = pic_template.format(i, k)\n",
    "    fig.savefig(filename)\n",
    "    plt.close(fig)\n",
    "    pages.append(filename)\n",
    "    pbar.update()\n",
    "if len(cuts)%lines != 0:\n",
    "    k = (len(cuts)-1)//lines\n",
    "    cuts_k = cuts[k*lines:]\n",
    "    fig, axs = draw_page(cuts_k, video, lines=lines)\n",
    "    filename = pic_template.format(i, k)\n",
    "    fig.savefig(filename)\n",
    "    plt.close(fig)\n",
    "    pages.append(filename)\n",
    "    pbar.update()\n",
    "pbar.close()"
   ]
  },
  {
   "cell_type": "code",
   "execution_count": 17,
   "id": "6775d84f",
   "metadata": {},
   "outputs": [
    {
     "name": "stderr",
     "output_type": "stream",
     "text": [
      "Image contains an alpha channel. Computing a separate soft mask (/SMask) image to store transparency in PDF.\n",
      "Image contains an alpha channel. Computing a separate soft mask (/SMask) image to store transparency in PDF.\n",
      "Image contains an alpha channel. Computing a separate soft mask (/SMask) image to store transparency in PDF.\n",
      "Image contains an alpha channel. Computing a separate soft mask (/SMask) image to store transparency in PDF.\n",
      "Image contains an alpha channel. Computing a separate soft mask (/SMask) image to store transparency in PDF.\n",
      "Image contains an alpha channel. Computing a separate soft mask (/SMask) image to store transparency in PDF.\n",
      "Image contains an alpha channel. Computing a separate soft mask (/SMask) image to store transparency in PDF.\n",
      "Image contains an alpha channel. Computing a separate soft mask (/SMask) image to store transparency in PDF.\n",
      "Image contains an alpha channel. Computing a separate soft mask (/SMask) image to store transparency in PDF.\n",
      "Image contains an alpha channel. Computing a separate soft mask (/SMask) image to store transparency in PDF.\n",
      "Image contains an alpha channel. Computing a separate soft mask (/SMask) image to store transparency in PDF.\n",
      "Image contains an alpha channel. Computing a separate soft mask (/SMask) image to store transparency in PDF.\n",
      "Image contains an alpha channel. Computing a separate soft mask (/SMask) image to store transparency in PDF.\n",
      "Image contains an alpha channel. Computing a separate soft mask (/SMask) image to store transparency in PDF.\n",
      "Image contains an alpha channel. Computing a separate soft mask (/SMask) image to store transparency in PDF.\n",
      "Image contains an alpha channel. Computing a separate soft mask (/SMask) image to store transparency in PDF.\n",
      "Image contains an alpha channel. Computing a separate soft mask (/SMask) image to store transparency in PDF.\n",
      "Image contains an alpha channel. Computing a separate soft mask (/SMask) image to store transparency in PDF.\n",
      "Image contains an alpha channel. Computing a separate soft mask (/SMask) image to store transparency in PDF.\n"
     ]
    }
   ],
   "source": [
    "output_file = open(book_filename, \"wb\")\n",
    "pdf_bytes = img2pdf.convert(pages)\n",
    "output_file.write(pdf_bytes)\n",
    "output_file.close()"
   ]
  },
  {
   "cell_type": "markdown",
   "id": "97e2696f",
   "metadata": {},
   "source": [
    "## Video 3"
   ]
  },
  {
   "cell_type": "code",
   "execution_count": 18,
   "id": "ceddde29",
   "metadata": {},
   "outputs": [],
   "source": [
    "i = 3\n",
    "timeline_file = f'timelines/{i}.kdenlive'\n",
    "video_filename = f'videos/{i}.mp4'"
   ]
  },
  {
   "cell_type": "code",
   "execution_count": 19,
   "id": "63a79878",
   "metadata": {},
   "outputs": [],
   "source": [
    "pic_template = 'pics/bookpics/book{0}-page{1}.png'\n",
    "book_filename = f'books/{i}.pdf'"
   ]
  },
  {
   "cell_type": "code",
   "execution_count": 20,
   "id": "b1ccfb70",
   "metadata": {},
   "outputs": [],
   "source": [
    "video = Video(video_filename)\n",
    "fps = video.get_fps()\n",
    "cuts = get_cuts(timeline_file, fps)"
   ]
  },
  {
   "cell_type": "code",
   "execution_count": 21,
   "id": "fd60a41f",
   "metadata": {},
   "outputs": [
    {
     "data": {
      "application/vnd.jupyter.widget-view+json": {
       "model_id": "bf310c996e4048af9e8097f121c5f3db",
       "version_major": 2,
       "version_minor": 0
      },
      "text/plain": [
       "  0%|          | 0/3 [00:00<?, ?it/s]"
      ]
     },
     "metadata": {},
     "output_type": "display_data"
    }
   ],
   "source": [
    "lines=8\n",
    "pages = []\n",
    "pbar = tqdm(total=(len(cuts)-1)//lines + 1)\n",
    "for k in range((len(cuts)-1)//lines):\n",
    "    cuts_k = cuts[k*lines:(k + 1)*lines]\n",
    "    fig, axs = draw_page(cuts_k, video, lines=lines)\n",
    "    filename = pic_template.format(i, k)\n",
    "    fig.savefig(filename)\n",
    "    plt.close(fig)\n",
    "    pages.append(filename)\n",
    "    pbar.update()\n",
    "if len(cuts)%lines != 0:\n",
    "    k = (len(cuts)-1)//lines\n",
    "    cuts_k = cuts[k*lines:]\n",
    "    fig, axs = draw_page(cuts_k, video, lines=lines)\n",
    "    filename = pic_template.format(i, k)\n",
    "    fig.savefig(filename)\n",
    "    plt.close(fig)\n",
    "    pages.append(filename)\n",
    "    pbar.update()\n",
    "pbar.close()"
   ]
  },
  {
   "cell_type": "code",
   "execution_count": 22,
   "id": "c4125854",
   "metadata": {},
   "outputs": [
    {
     "name": "stderr",
     "output_type": "stream",
     "text": [
      "Image contains an alpha channel. Computing a separate soft mask (/SMask) image to store transparency in PDF.\n",
      "Image contains an alpha channel. Computing a separate soft mask (/SMask) image to store transparency in PDF.\n",
      "Image contains an alpha channel. Computing a separate soft mask (/SMask) image to store transparency in PDF.\n"
     ]
    }
   ],
   "source": [
    "output_file = open(book_filename, \"wb\")\n",
    "pdf_bytes = img2pdf.convert(pages)\n",
    "output_file.write(pdf_bytes)\n",
    "output_file.close()"
   ]
  },
  {
   "cell_type": "markdown",
   "id": "ec610510",
   "metadata": {},
   "source": [
    "## Video 4"
   ]
  },
  {
   "cell_type": "code",
   "execution_count": 23,
   "id": "916de8eb",
   "metadata": {},
   "outputs": [],
   "source": [
    "i = 4\n",
    "timeline_file = f'timelines/{i}.kdenlive'\n",
    "video_filename = f'videos/{i}.mp4'"
   ]
  },
  {
   "cell_type": "code",
   "execution_count": 24,
   "id": "823c4cc4",
   "metadata": {},
   "outputs": [],
   "source": [
    "pic_template = 'pics/bookpics/book{0}-page{1}.png'\n",
    "book_filename = f'books/{i}.pdf'"
   ]
  },
  {
   "cell_type": "code",
   "execution_count": 25,
   "id": "2ac48667",
   "metadata": {},
   "outputs": [],
   "source": [
    "video = Video(video_filename)\n",
    "fps = video.get_fps()\n",
    "cuts = get_cuts(timeline_file, fps)"
   ]
  },
  {
   "cell_type": "code",
   "execution_count": 26,
   "id": "da7865c4",
   "metadata": {},
   "outputs": [
    {
     "data": {
      "application/vnd.jupyter.widget-view+json": {
       "model_id": "68b720379d734dc1ab7a22c1b2bc0cfb",
       "version_major": 2,
       "version_minor": 0
      },
      "text/plain": [
       "  0%|          | 0/26 [00:00<?, ?it/s]"
      ]
     },
     "metadata": {},
     "output_type": "display_data"
    }
   ],
   "source": [
    "lines=8\n",
    "pages = []\n",
    "pbar = tqdm(total=(len(cuts)-1)//lines + 1)\n",
    "for k in range((len(cuts)-1)//lines):\n",
    "    cuts_k = cuts[k*lines:(k + 1)*lines]\n",
    "    fig, axs = draw_page(cuts_k, video, lines=lines)\n",
    "    filename = pic_template.format(i, k)\n",
    "    fig.savefig(filename)\n",
    "    plt.close(fig)\n",
    "    pages.append(filename)\n",
    "    pbar.update()\n",
    "if len(cuts)%lines != 0:\n",
    "    k = (len(cuts)-1)//lines\n",
    "    cuts_k = cuts[k*lines:]\n",
    "    fig, axs = draw_page(cuts_k, video, lines=lines)\n",
    "    filename = pic_template.format(i, k)\n",
    "    fig.savefig(filename)\n",
    "    plt.close(fig)\n",
    "    pages.append(filename)\n",
    "    pbar.update()\n",
    "pbar.close()"
   ]
  },
  {
   "cell_type": "code",
   "execution_count": 27,
   "id": "6ea053e2",
   "metadata": {},
   "outputs": [
    {
     "name": "stderr",
     "output_type": "stream",
     "text": [
      "Image contains an alpha channel. Computing a separate soft mask (/SMask) image to store transparency in PDF.\n",
      "Image contains an alpha channel. Computing a separate soft mask (/SMask) image to store transparency in PDF.\n",
      "Image contains an alpha channel. Computing a separate soft mask (/SMask) image to store transparency in PDF.\n",
      "Image contains an alpha channel. Computing a separate soft mask (/SMask) image to store transparency in PDF.\n",
      "Image contains an alpha channel. Computing a separate soft mask (/SMask) image to store transparency in PDF.\n",
      "Image contains an alpha channel. Computing a separate soft mask (/SMask) image to store transparency in PDF.\n",
      "Image contains an alpha channel. Computing a separate soft mask (/SMask) image to store transparency in PDF.\n",
      "Image contains an alpha channel. Computing a separate soft mask (/SMask) image to store transparency in PDF.\n",
      "Image contains an alpha channel. Computing a separate soft mask (/SMask) image to store transparency in PDF.\n",
      "Image contains an alpha channel. Computing a separate soft mask (/SMask) image to store transparency in PDF.\n",
      "Image contains an alpha channel. Computing a separate soft mask (/SMask) image to store transparency in PDF.\n",
      "Image contains an alpha channel. Computing a separate soft mask (/SMask) image to store transparency in PDF.\n",
      "Image contains an alpha channel. Computing a separate soft mask (/SMask) image to store transparency in PDF.\n",
      "Image contains an alpha channel. Computing a separate soft mask (/SMask) image to store transparency in PDF.\n",
      "Image contains an alpha channel. Computing a separate soft mask (/SMask) image to store transparency in PDF.\n",
      "Image contains an alpha channel. Computing a separate soft mask (/SMask) image to store transparency in PDF.\n",
      "Image contains an alpha channel. Computing a separate soft mask (/SMask) image to store transparency in PDF.\n",
      "Image contains an alpha channel. Computing a separate soft mask (/SMask) image to store transparency in PDF.\n",
      "Image contains an alpha channel. Computing a separate soft mask (/SMask) image to store transparency in PDF.\n",
      "Image contains an alpha channel. Computing a separate soft mask (/SMask) image to store transparency in PDF.\n",
      "Image contains an alpha channel. Computing a separate soft mask (/SMask) image to store transparency in PDF.\n",
      "Image contains an alpha channel. Computing a separate soft mask (/SMask) image to store transparency in PDF.\n",
      "Image contains an alpha channel. Computing a separate soft mask (/SMask) image to store transparency in PDF.\n",
      "Image contains an alpha channel. Computing a separate soft mask (/SMask) image to store transparency in PDF.\n",
      "Image contains an alpha channel. Computing a separate soft mask (/SMask) image to store transparency in PDF.\n",
      "Image contains an alpha channel. Computing a separate soft mask (/SMask) image to store transparency in PDF.\n"
     ]
    }
   ],
   "source": [
    "output_file = open(book_filename, \"wb\")\n",
    "pdf_bytes = img2pdf.convert(pages)\n",
    "output_file.write(pdf_bytes)\n",
    "output_file.close()"
   ]
  },
  {
   "cell_type": "markdown",
   "id": "de6994c0",
   "metadata": {},
   "source": [
    "## Video 5"
   ]
  },
  {
   "cell_type": "code",
   "execution_count": 76,
   "id": "12964d0f",
   "metadata": {},
   "outputs": [],
   "source": [
    "i = 5\n",
    "timeline_file = f'timelines/{i}.kdenlive'\n",
    "video_filename = f'videos/{i}.mp4'"
   ]
  },
  {
   "cell_type": "code",
   "execution_count": 77,
   "id": "324685e2",
   "metadata": {},
   "outputs": [],
   "source": [
    "pic_template = 'pics/bookpics/book{0}-page{1}.png'\n",
    "book_filename = f'books/{i}.pdf'"
   ]
  },
  {
   "cell_type": "code",
   "execution_count": 78,
   "id": "50ab2cd0",
   "metadata": {},
   "outputs": [],
   "source": [
    "video = Video(video_filename)\n",
    "fps = video.get_fps()\n",
    "cuts = get_cuts(timeline_file, fps)"
   ]
  },
  {
   "cell_type": "code",
   "execution_count": 79,
   "id": "07c9e5c2",
   "metadata": {},
   "outputs": [
    {
     "data": {
      "application/vnd.jupyter.widget-view+json": {
       "model_id": "dc846a568dd8428fabbf0b0d844cddbe",
       "version_major": 2,
       "version_minor": 0
      },
      "text/plain": [
       "  0%|          | 0/12 [00:00<?, ?it/s]"
      ]
     },
     "metadata": {},
     "output_type": "display_data"
    }
   ],
   "source": [
    "lines=8\n",
    "pages = []\n",
    "pbar = tqdm(total=(len(cuts)-1)//lines + 1)\n",
    "for k in range((len(cuts)-1)//lines):\n",
    "    cuts_k = cuts[k*lines:(k + 1)*lines]\n",
    "    fig, axs = draw_page(cuts_k, video, lines=lines)\n",
    "    filename = pic_template.format(i, k)\n",
    "    fig.savefig(filename)\n",
    "    plt.close(fig)\n",
    "    pages.append(filename)\n",
    "    pbar.update()\n",
    "if len(cuts)%lines != 0:\n",
    "    k = (len(cuts)-1)//lines\n",
    "    cuts_k = cuts[k*lines:]\n",
    "    fig, axs = draw_page(cuts_k, video, lines=lines)\n",
    "    filename = pic_template.format(i, k)\n",
    "    fig.savefig(filename)\n",
    "    plt.close(fig)\n",
    "    pages.append(filename)\n",
    "    pbar.update()\n",
    "pbar.close()"
   ]
  },
  {
   "cell_type": "code",
   "execution_count": 80,
   "id": "04347d5a",
   "metadata": {},
   "outputs": [
    {
     "name": "stderr",
     "output_type": "stream",
     "text": [
      "Image contains an alpha channel. Computing a separate soft mask (/SMask) image to store transparency in PDF.\n",
      "Image contains an alpha channel. Computing a separate soft mask (/SMask) image to store transparency in PDF.\n",
      "Image contains an alpha channel. Computing a separate soft mask (/SMask) image to store transparency in PDF.\n",
      "Image contains an alpha channel. Computing a separate soft mask (/SMask) image to store transparency in PDF.\n",
      "Image contains an alpha channel. Computing a separate soft mask (/SMask) image to store transparency in PDF.\n",
      "Image contains an alpha channel. Computing a separate soft mask (/SMask) image to store transparency in PDF.\n",
      "Image contains an alpha channel. Computing a separate soft mask (/SMask) image to store transparency in PDF.\n",
      "Image contains an alpha channel. Computing a separate soft mask (/SMask) image to store transparency in PDF.\n",
      "Image contains an alpha channel. Computing a separate soft mask (/SMask) image to store transparency in PDF.\n",
      "Image contains an alpha channel. Computing a separate soft mask (/SMask) image to store transparency in PDF.\n",
      "Image contains an alpha channel. Computing a separate soft mask (/SMask) image to store transparency in PDF.\n",
      "Image contains an alpha channel. Computing a separate soft mask (/SMask) image to store transparency in PDF.\n"
     ]
    }
   ],
   "source": [
    "output_file = open(book_filename, \"wb\")\n",
    "pdf_bytes = img2pdf.convert(pages)\n",
    "output_file.write(pdf_bytes)\n",
    "output_file.close()"
   ]
  },
  {
   "cell_type": "markdown",
   "id": "c861501e",
   "metadata": {},
   "source": [
    "# Correct Cuts\n",
    "\n",
    "Here I am looking for generated books, to define wrong cuts by my hands"
   ]
  },
  {
   "cell_type": "markdown",
   "id": "8db2c9be",
   "metadata": {},
   "source": [
    "## Video 0"
   ]
  },
  {
   "cell_type": "code",
   "execution_count": 63,
   "id": "b8f4f192",
   "metadata": {},
   "outputs": [],
   "source": [
    "i = 0\n",
    "timeline_file = f'timelines/{i}.kdenlive'\n",
    "video_filename = f'videos/{i}.mp4'"
   ]
  },
  {
   "cell_type": "code",
   "execution_count": 64,
   "id": "1c5649f9",
   "metadata": {},
   "outputs": [],
   "source": [
    "corrected_filename = f'cuts/{i}.npy'"
   ]
  },
  {
   "cell_type": "code",
   "execution_count": 65,
   "id": "1ed02e86",
   "metadata": {},
   "outputs": [],
   "source": [
    "video = Video(video_filename)\n",
    "fps = video.get_fps()\n",
    "cuts = get_cuts(timeline_file, fps)"
   ]
  },
  {
   "cell_type": "code",
   "execution_count": 66,
   "id": "f17140e6",
   "metadata": {},
   "outputs": [],
   "source": [
    "wrong_cuts = []\n",
    "missed_cuts = []"
   ]
  },
  {
   "cell_type": "raw",
   "id": "0b10b840",
   "metadata": {},
   "source": [
    "# Let's do not label DipToBlack transition middles as cuts.\n",
    "black_cuts = [3451, 4985, ]\n",
    "wrong_cuts = np.concatenate([wrong_cuts, black_cuts])"
   ]
  },
  {
   "cell_type": "code",
   "execution_count": 67,
   "id": "fe8aa9a7",
   "metadata": {},
   "outputs": [],
   "source": [
    "cuts_corrected = cuts.copy()\n",
    "for wrong_cut in wrong_cuts:\n",
    "    cuts_corrected = cuts_corrected[cuts_corrected != wrong_cut]\n",
    "cuts_corrected = np.unique(np.concatenate([cuts_corrected, missed_cuts]))"
   ]
  },
  {
   "cell_type": "code",
   "execution_count": 68,
   "id": "0daff93e",
   "metadata": {},
   "outputs": [],
   "source": [
    "with open(corrected_filename, 'wb') as file:\n",
    "    np.save(file, cuts_corrected)"
   ]
  },
  {
   "cell_type": "markdown",
   "id": "d76ad9e1",
   "metadata": {},
   "source": [
    "## Video 1"
   ]
  },
  {
   "cell_type": "code",
   "execution_count": 35,
   "id": "4ff490c5",
   "metadata": {},
   "outputs": [],
   "source": [
    "i = 1\n",
    "timeline_file = f'timelines/{i}.kdenlive'\n",
    "video_filename = f'videos/{i}.mp4'"
   ]
  },
  {
   "cell_type": "code",
   "execution_count": 36,
   "id": "fb444125",
   "metadata": {},
   "outputs": [],
   "source": [
    "corrected_filename = f'cuts/{i}.npy'"
   ]
  },
  {
   "cell_type": "code",
   "execution_count": 37,
   "id": "128f0e91",
   "metadata": {},
   "outputs": [],
   "source": [
    "video = Video(video_filename)\n",
    "fps = video.get_fps()\n",
    "cuts = get_cuts(timeline_file, fps)"
   ]
  },
  {
   "cell_type": "code",
   "execution_count": 38,
   "id": "4733cc72",
   "metadata": {},
   "outputs": [],
   "source": [
    "wrong_cuts  = [ 139,  183,  201,  238,  289,  636,  649,  687,  712,  920,  941, 1078, \n",
    "               1105, 1192, 1195, 1198, 1212, 1249, 1294, 1301, 1305, 1311, 1414, 4573, ]\n",
    "missed_cuts = [ 140,  184,  202,  239,  290,  637,  650,  688,  713,  921,  942, 1079, \n",
    "               1106, 1193, 1196, 1199, 1213, 1250, 1295, 1302, 1306, 1312, 1415, 4571, ]"
   ]
  },
  {
   "cell_type": "code",
   "execution_count": 39,
   "id": "eaa0e5e6",
   "metadata": {},
   "outputs": [],
   "source": [
    "# Let's do not label DipToBlack transition middles as cuts.\n",
    "black_cuts = []\n",
    "wrong_cuts = np.concatenate([wrong_cuts, black_cuts])"
   ]
  },
  {
   "cell_type": "code",
   "execution_count": 40,
   "id": "897584f3",
   "metadata": {},
   "outputs": [],
   "source": [
    "cuts_corrected = cuts.copy()\n",
    "for wrong_cut in wrong_cuts:\n",
    "    cuts_corrected = cuts_corrected[cuts_corrected != wrong_cut]\n",
    "cuts_corrected = np.unique(np.concatenate([cuts_corrected, missed_cuts]))"
   ]
  },
  {
   "cell_type": "code",
   "execution_count": 41,
   "id": "2cbc2ff9",
   "metadata": {},
   "outputs": [],
   "source": [
    "with open(corrected_filename, 'wb') as file:\n",
    "    np.save(file, cuts_corrected)"
   ]
  },
  {
   "cell_type": "markdown",
   "id": "1d6f16c6",
   "metadata": {},
   "source": [
    "## Video 2"
   ]
  },
  {
   "cell_type": "code",
   "execution_count": 42,
   "id": "3404a4a1",
   "metadata": {},
   "outputs": [],
   "source": [
    "i = 2\n",
    "timeline_file = f'timelines/{i}.kdenlive'\n",
    "video_filename = f'videos/{i}.mp4'"
   ]
  },
  {
   "cell_type": "code",
   "execution_count": 43,
   "id": "73ca43e2",
   "metadata": {},
   "outputs": [],
   "source": [
    "corrected_filename = f'cuts/{i}.npy'"
   ]
  },
  {
   "cell_type": "code",
   "execution_count": 44,
   "id": "1ef6361b",
   "metadata": {},
   "outputs": [],
   "source": [
    "video = Video(video_filename)\n",
    "fps = video.get_fps()\n",
    "cuts = get_cuts(timeline_file, fps)"
   ]
  },
  {
   "cell_type": "code",
   "execution_count": 45,
   "id": "a5131f5a",
   "metadata": {},
   "outputs": [],
   "source": [
    "wrong_cuts  = [  22,  64,  94,  169,  179,  190,  207,  255,  296, \n",
    "                314, 331, 347,  372,  403,  492,  530,  547,  560, \n",
    "                585, 889, 924, 1006, 1075, 1386, 1403, 1427]\n",
    "missed_cuts = [  23,  65,   95,  170,  180,  191,  208,  256,  297, \n",
    "                315, 332,  348,  373,  404,  493,  531,  548,  561, \n",
    "                586, 890,  925, 1007, 1076, 1387, 1404, 1428, 1601]"
   ]
  },
  {
   "cell_type": "code",
   "execution_count": 46,
   "id": "292876a2",
   "metadata": {},
   "outputs": [],
   "source": [
    "# Let's do not label DipToBlack transition middles as cuts.\n",
    "black_cuts = []\n",
    "wrong_cuts = np.concatenate([wrong_cuts, black_cuts])"
   ]
  },
  {
   "cell_type": "code",
   "execution_count": 47,
   "id": "ecedad02",
   "metadata": {},
   "outputs": [],
   "source": [
    "cuts_corrected = cuts.copy()\n",
    "for wrong_cut in wrong_cuts:\n",
    "    cuts_corrected = cuts_corrected[cuts_corrected != wrong_cut]\n",
    "cuts_corrected = np.unique(np.concatenate([cuts_corrected, missed_cuts]))"
   ]
  },
  {
   "cell_type": "code",
   "execution_count": 48,
   "id": "9a1c9b8f",
   "metadata": {},
   "outputs": [],
   "source": [
    "with open(corrected_filename, 'wb') as file:\n",
    "    np.save(file, cuts_corrected)"
   ]
  },
  {
   "cell_type": "markdown",
   "id": "7686c506",
   "metadata": {},
   "source": [
    "## Video 3"
   ]
  },
  {
   "cell_type": "code",
   "execution_count": 49,
   "id": "175df160",
   "metadata": {},
   "outputs": [],
   "source": [
    "i = 3\n",
    "timeline_file = f'timelines/{i}.kdenlive'\n",
    "video_filename = f'videos/{i}.mp4'"
   ]
  },
  {
   "cell_type": "code",
   "execution_count": 50,
   "id": "932758b4",
   "metadata": {},
   "outputs": [],
   "source": [
    "corrected_filename = f'cuts/{i}.npy'"
   ]
  },
  {
   "cell_type": "code",
   "execution_count": 51,
   "id": "f57b741e",
   "metadata": {},
   "outputs": [],
   "source": [
    "video = Video(video_filename)\n",
    "fps = video.get_fps()\n",
    "cuts = get_cuts(timeline_file, fps)"
   ]
  },
  {
   "cell_type": "code",
   "execution_count": 52,
   "id": "4f406bd3",
   "metadata": {},
   "outputs": [],
   "source": [
    "wrong_cuts  = []\n",
    "missed_cuts = []"
   ]
  },
  {
   "cell_type": "code",
   "execution_count": 53,
   "id": "85f39367",
   "metadata": {},
   "outputs": [],
   "source": [
    "# Let's do not label DipToBlack transition middles as cuts.\n",
    "black_cuts = []\n",
    "wrong_cuts = np.concatenate([wrong_cuts, black_cuts])"
   ]
  },
  {
   "cell_type": "code",
   "execution_count": 54,
   "id": "18935f83",
   "metadata": {},
   "outputs": [],
   "source": [
    "cuts_corrected = cuts.copy()\n",
    "for wrong_cut in wrong_cuts:\n",
    "    cuts_corrected = cuts_corrected[cuts_corrected != wrong_cut]\n",
    "cuts_corrected = np.unique(np.concatenate([cuts_corrected, missed_cuts]))"
   ]
  },
  {
   "cell_type": "code",
   "execution_count": 55,
   "id": "40f498d1",
   "metadata": {},
   "outputs": [],
   "source": [
    "with open(corrected_filename, 'wb') as file:\n",
    "    np.save(file, cuts_corrected)"
   ]
  },
  {
   "cell_type": "markdown",
   "id": "00e10664",
   "metadata": {},
   "source": [
    "## Video 4"
   ]
  },
  {
   "cell_type": "code",
   "execution_count": 69,
   "id": "7ec39fc3",
   "metadata": {},
   "outputs": [],
   "source": [
    "i = 4\n",
    "timeline_file = f'timelines/{i}.kdenlive'\n",
    "video_filename = f'videos/{i}.mp4'"
   ]
  },
  {
   "cell_type": "code",
   "execution_count": 70,
   "id": "2328f504",
   "metadata": {},
   "outputs": [],
   "source": [
    "corrected_filename = f'cuts/{i}.npy'"
   ]
  },
  {
   "cell_type": "code",
   "execution_count": 71,
   "id": "5c98573f",
   "metadata": {},
   "outputs": [],
   "source": [
    "video = Video(video_filename)\n",
    "fps = video.get_fps()\n",
    "cuts = get_cuts(timeline_file, fps)"
   ]
  },
  {
   "cell_type": "code",
   "execution_count": 72,
   "id": "d2eeef2e",
   "metadata": {},
   "outputs": [],
   "source": [
    "wrong_cuts  = [ 231,  259,  283,  365,  491,  519,  609,  769,  818,  859,  880,  937, \n",
    "               1019, 1064, 1072, 1122, 1144, 1205, 1226, 1246, 1283, 1322, 1359, 1404]\n",
    "missed_cuts = [ 232,  260,  284,  366,  492,  520,  610,  770,  819,  860,  881,  938, \n",
    "               1020, 1065, 1073, 1123, 1145, 1206, 1227, 1247, 1284, 1323, 1360, 1405]"
   ]
  },
  {
   "cell_type": "code",
   "execution_count": 73,
   "id": "ce94b71e",
   "metadata": {},
   "outputs": [],
   "source": [
    "# Let's do not label DipToBlack transition middles as cuts.\n",
    "black_cuts = []\n",
    "wrong_cuts = np.concatenate([wrong_cuts, black_cuts])"
   ]
  },
  {
   "cell_type": "code",
   "execution_count": 74,
   "id": "138216fc",
   "metadata": {},
   "outputs": [],
   "source": [
    "cuts_corrected = cuts.copy()\n",
    "for wrong_cut in wrong_cuts:\n",
    "    cuts_corrected = cuts_corrected[cuts_corrected != wrong_cut]\n",
    "cuts_corrected = np.unique(np.concatenate([cuts_corrected, missed_cuts]))"
   ]
  },
  {
   "cell_type": "code",
   "execution_count": 75,
   "id": "15c342e7",
   "metadata": {},
   "outputs": [],
   "source": [
    "with open(corrected_filename, 'wb') as file:\n",
    "    np.save(file, cuts_corrected)"
   ]
  },
  {
   "cell_type": "markdown",
   "id": "d2849168",
   "metadata": {},
   "source": [
    "## Video 5"
   ]
  },
  {
   "cell_type": "code",
   "execution_count": 21,
   "id": "d2a956f3",
   "metadata": {},
   "outputs": [],
   "source": [
    "i = 5\n",
    "timeline_file = f'timelines/{i}.kdenlive'\n",
    "video_filename = f'videos/{i}.mp4'"
   ]
  },
  {
   "cell_type": "code",
   "execution_count": 22,
   "id": "19c81711",
   "metadata": {},
   "outputs": [],
   "source": [
    "corrected_filename = f'cuts/{i}.npy'"
   ]
  },
  {
   "cell_type": "code",
   "execution_count": 23,
   "id": "fc65635a",
   "metadata": {},
   "outputs": [],
   "source": [
    "video = Video(video_filename)\n",
    "fps = video.get_fps()\n",
    "cuts = get_cuts(timeline_file, fps)"
   ]
  },
  {
   "cell_type": "code",
   "execution_count": 24,
   "id": "b74d4da6",
   "metadata": {},
   "outputs": [],
   "source": [
    "wrong_cuts  = []\n",
    "missed_cuts = []"
   ]
  },
  {
   "cell_type": "code",
   "execution_count": 29,
   "id": "a54be462",
   "metadata": {},
   "outputs": [],
   "source": [
    "# Let's do not label DipToBlack transition middles as cuts.\n",
    "black_cuts = []\n",
    "wrong_cuts = np.concatenate([wrong_cuts, black_cuts]).astype(int)"
   ]
  },
  {
   "cell_type": "code",
   "execution_count": 30,
   "id": "3dd3baed",
   "metadata": {},
   "outputs": [],
   "source": [
    "cuts_corrected = cuts.copy()\n",
    "for wrong_cut in wrong_cuts:\n",
    "    cuts_corrected = cuts_corrected[cuts_corrected != wrong_cut]\n",
    "cuts_corrected = np.unique(np.concatenate([cuts_corrected, missed_cuts]))"
   ]
  },
  {
   "cell_type": "code",
   "execution_count": 31,
   "id": "d2de98bf",
   "metadata": {},
   "outputs": [],
   "source": [
    "with open(corrected_filename, 'wb') as file:\n",
    "    np.save(file, cuts_corrected)"
   ]
  },
  {
   "cell_type": "code",
   "execution_count": null,
   "id": "04c39170",
   "metadata": {},
   "outputs": [],
   "source": []
  }
 ],
 "metadata": {
  "kernelspec": {
   "display_name": "Python 3 (ipykernel)",
   "language": "python",
   "name": "python3"
  },
  "language_info": {
   "codemirror_mode": {
    "name": "ipython",
    "version": 3
   },
   "file_extension": ".py",
   "mimetype": "text/x-python",
   "name": "python",
   "nbconvert_exporter": "python",
   "pygments_lexer": "ipython3",
   "version": "3.11.6"
  }
 },
 "nbformat": 4,
 "nbformat_minor": 5
}
