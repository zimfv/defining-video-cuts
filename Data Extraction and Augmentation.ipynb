{
 "cells": [
  {
   "cell_type": "code",
   "execution_count": 1,
   "id": "1d892a27",
   "metadata": {},
   "outputs": [],
   "source": [
    "import os\n",
    "import shutil\n",
    "import imageio\n",
    "\n",
    "from tqdm.notebook import tqdm\n",
    "\n",
    "from PIL import Image\n",
    "from mytools import Video, get_cuts"
   ]
  },
  {
   "cell_type": "markdown",
   "id": "dfd226ec",
   "metadata": {},
   "source": [
    "# Extract cuts and noncuts from videos"
   ]
  },
  {
   "cell_type": "markdown",
   "id": "5636e18f",
   "metadata": {},
   "source": [
    "## Prepare directories for data."
   ]
  },
  {
   "cell_type": "code",
   "execution_count": 2,
   "id": "0814e0d7",
   "metadata": {},
   "outputs": [],
   "source": [
    "path_data = 'data'\n",
    "path_cuts = os.path.join(path_data, 'cuts')\n",
    "path_noncuts = os.path.join(path_data, 'noncuts')\n",
    "\n",
    "if os.path.exists(path_data):\n",
    "    shutil.rmtree(path_data)\n",
    "if os.path.exists(path_cuts):\n",
    "    shutil.rmtree(path_cuts)\n",
    "if os.path.exists(path_noncuts):\n",
    "    shutil.rmtree(path_noncuts)\n",
    "\n",
    "os.makedirs(path_data)\n",
    "os.makedirs(path_cuts)\n",
    "os.makedirs(path_noncuts)"
   ]
  },
  {
   "cell_type": "markdown",
   "id": "8d348cad",
   "metadata": {},
   "source": [
    "## Extracting cuts from videos"
   ]
  },
  {
   "cell_type": "code",
   "execution_count": 3,
   "id": "d535f5d9",
   "metadata": {},
   "outputs": [
    {
     "data": {
      "text/plain": [
       "(180, 90)"
      ]
     },
     "execution_count": 3,
     "metadata": {},
     "output_type": "execute_result"
    }
   ],
   "source": [
    "output_size = (640, 360)\n",
    "output_size = (320, 180)\n",
    "output_size = (180, 90)\n",
    "output_size"
   ]
  },
  {
   "cell_type": "markdown",
   "id": "43d301ea",
   "metadata": {},
   "source": [
    "### Video 0"
   ]
  },
  {
   "cell_type": "code",
   "execution_count": 4,
   "id": "f7580576",
   "metadata": {},
   "outputs": [],
   "source": [
    "path_timeline0 = 'timelines/0.kdenlive'\n",
    "path_video0 = 'videos/0.mp4'"
   ]
  },
  {
   "cell_type": "code",
   "execution_count": 5,
   "id": "e66afa1d",
   "metadata": {},
   "outputs": [],
   "source": [
    "video0 = Video(path_video0)\n",
    "cuts0 = get_cuts(path_timeline0)"
   ]
  },
  {
   "cell_type": "code",
   "execution_count": 6,
   "id": "4460616d",
   "metadata": {
    "scrolled": true
   },
   "outputs": [
    {
     "data": {
      "application/vnd.jupyter.widget-view+json": {
       "model_id": "aa284846ad2341f1a2c41a45ffb86683",
       "version_major": 2,
       "version_minor": 0
      },
      "text/plain": [
       "  0%|          | 0/151 [00:00<?, ?it/s]"
      ]
     },
     "metadata": {},
     "output_type": "display_data"
    }
   ],
   "source": [
    "video = video0\n",
    "cuts = cuts0\n",
    "filename_template = '0-{0}.gif'\n",
    "\n",
    "for i in tqdm(range(len(cuts)), total=len(cuts)):\n",
    "    filename = filename_template.format(i)\n",
    "    frames = video.get_matrix(cuts[i]-2, cuts[i]+2)\n",
    "    images = [Image.fromarray(frame).resize(output_size).convert(\"RGB\") for frame in frames]\n",
    "    imageio.mimsave(os.path.join(path_cuts, filename), images)\n",
    "    "
   ]
  },
  {
   "cell_type": "markdown",
   "id": "0beb67da",
   "metadata": {},
   "source": [
    "### Video 1"
   ]
  },
  {
   "cell_type": "code",
   "execution_count": 7,
   "id": "8781e41d",
   "metadata": {},
   "outputs": [],
   "source": [
    "path_timeline1 = 'timelines/1.kdenlive'\n",
    "path_video1 = 'videos/1.mp4'"
   ]
  },
  {
   "cell_type": "code",
   "execution_count": 8,
   "id": "1dcb321b",
   "metadata": {},
   "outputs": [],
   "source": [
    "video1 = Video(path_video1)\n",
    "cuts1 = get_cuts(path_timeline1)"
   ]
  },
  {
   "cell_type": "code",
   "execution_count": 9,
   "id": "81c0ba14",
   "metadata": {},
   "outputs": [
    {
     "data": {
      "application/vnd.jupyter.widget-view+json": {
       "model_id": "ff841e012c5641b7a2a716a5278bc583",
       "version_major": 2,
       "version_minor": 0
      },
      "text/plain": [
       "  0%|          | 0/240 [00:00<?, ?it/s]"
      ]
     },
     "metadata": {},
     "output_type": "display_data"
    }
   ],
   "source": [
    "video = video1\n",
    "cuts = cuts1\n",
    "filename_template = '1-{0}.gif'\n",
    "\n",
    "for i in tqdm(range(len(cuts)), total=len(cuts)):\n",
    "    filename = filename_template.format(i)\n",
    "    frames = video.get_matrix(cuts[i]-2, cuts[i]+2)\n",
    "    images = [Image.fromarray(frame).resize(output_size).convert(\"RGB\") for frame in frames]\n",
    "    imageio.mimsave(os.path.join(path_cuts, filename), images)\n",
    "    "
   ]
  },
  {
   "cell_type": "code",
   "execution_count": 10,
   "id": "f61519a3",
   "metadata": {},
   "outputs": [
    {
     "name": "stdout",
     "output_type": "stream",
     "text": [
      "There are 391 real cut examples extracted to data/cuts\n"
     ]
    }
   ],
   "source": [
    "print(f\"There are {len(os.listdir(path_cuts))} real cut examples extracted to {path_cuts}\")"
   ]
  },
  {
   "cell_type": "markdown",
   "id": "b180f52d",
   "metadata": {},
   "source": [
    "## Extracting noncuts from videos"
   ]
  },
  {
   "cell_type": "markdown",
   "id": "55e61a42",
   "metadata": {},
   "source": [
    "### Video 0"
   ]
  },
  {
   "cell_type": "code",
   "execution_count": 11,
   "id": "46d8e99f",
   "metadata": {},
   "outputs": [],
   "source": [
    "pass"
   ]
  },
  {
   "cell_type": "code",
   "execution_count": null,
   "id": "3b0ca25a",
   "metadata": {},
   "outputs": [],
   "source": []
  }
 ],
 "metadata": {
  "kernelspec": {
   "display_name": "Python 3 (ipykernel)",
   "language": "python",
   "name": "python3"
  },
  "language_info": {
   "codemirror_mode": {
    "name": "ipython",
    "version": 3
   },
   "file_extension": ".py",
   "mimetype": "text/x-python",
   "name": "python",
   "nbconvert_exporter": "python",
   "pygments_lexer": "ipython3",
   "version": "3.11.6"
  }
 },
 "nbformat": 4,
 "nbformat_minor": 5
}
